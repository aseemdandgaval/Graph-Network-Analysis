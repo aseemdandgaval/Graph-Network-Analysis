{
 "cells": [
  {
   "cell_type": "markdown",
   "id": "b3c14f36-731e-4141-ab16-7f1feb43af39",
   "metadata": {
    "tags": []
   },
   "source": [
    "# **NLP Mini Project: Relationship Extraction and Visualization on Harray potter books**"
   ]
  },
  {
   "cell_type": "markdown",
   "id": "a87d8ec7-7139-4ea9-8c48-ab8df3d5c2f1",
   "metadata": {},
   "source": [
    "### **1. Importing the necessary libraries**"
   ]
  },
  {
   "cell_type": "code",
   "execution_count": 1,
   "id": "41c148e7-a803-4516-b1c4-04b3c6fe8279",
   "metadata": {},
   "outputs": [],
   "source": [
    "import re\n",
    "import os\n",
    "import nltk\n",
    "from tqdm import tqdm\n",
    "import spacy\n",
    "import string\n",
    "import time\n",
    "import logging\n",
    "import numpy as np\n",
    "import seaborn as sns\n",
    "import networkx as nx\n",
    "import pandas as pd\n",
    "from spacy import displacy\n",
    "from selenium import webdriver\n",
    "import matplotlib.pyplot as plt\n",
    "from nltk import word_tokenize\n",
    "from nltk.corpus import stopwords \n",
    "from webdriver_manager.chrome import ChromeDriverManager\n",
    "from selenium.webdriver.common.by import By\n",
    "from selenium.webdriver.chrome.service import Service\n",
    "from selenium.webdriver.chrome.options import Options\n",
    "\n",
    "%matplotlib inline\n",
    "sns.set_style('darkgrid')"
   ]
  },
  {
   "cell_type": "markdown",
   "id": "d55dcf40-4969-4f09-83ff-765143204d24",
   "metadata": {},
   "source": [
    "### **2. Scraping the list of characters in the HP books**"
   ]
  },
  {
   "cell_type": "code",
   "execution_count": 6,
   "id": "ea95a7a6-9f91-497c-a81e-913979032b1c",
   "metadata": {},
   "outputs": [],
   "source": [
    "webdriver_service = Service(ChromeDriverManager().install())\n",
    "driver = webdriver.Chrome(service = webdriver_service)\n",
    "\n",
    "page_url = 'https://fantasytopics.com/harry-potter-characters-list/'\n",
    "driver.get(page_url)"
   ]
  },
  {
   "cell_type": "code",
   "execution_count": 76,
   "id": "28249ca9-ca49-415e-91f2-10f2c8dc9461",
   "metadata": {},
   "outputs": [],
   "source": [
    "names_list = driver.find_elements(by=By.CLASS_NAME, value='has-text-align-center')\n",
    "final_names = []\n",
    "\n",
    "for name in names_list:\n",
    "    if len(name.text)>1:\n",
    "        final_names.append(name.text)"
   ]
  },
  {
   "cell_type": "code",
   "execution_count": 83,
   "id": "a6cba56a-fc78-49b0-bf3f-c87eb797890d",
   "metadata": {},
   "outputs": [
    {
     "data": {
      "text/html": [
       "<div>\n",
       "<style scoped>\n",
       "    .dataframe tbody tr th:only-of-type {\n",
       "        vertical-align: middle;\n",
       "    }\n",
       "\n",
       "    .dataframe tbody tr th {\n",
       "        vertical-align: top;\n",
       "    }\n",
       "\n",
       "    .dataframe thead th {\n",
       "        text-align: right;\n",
       "    }\n",
       "</style>\n",
       "<table border=\"1\" class=\"dataframe\">\n",
       "  <thead>\n",
       "    <tr style=\"text-align: right;\">\n",
       "      <th></th>\n",
       "      <th>0</th>\n",
       "    </tr>\n",
       "  </thead>\n",
       "  <tbody>\n",
       "    <tr>\n",
       "      <th>0</th>\n",
       "      <td>Hannah Abbott</td>\n",
       "    </tr>\n",
       "    <tr>\n",
       "      <th>1</th>\n",
       "      <td>Aragog</td>\n",
       "    </tr>\n",
       "    <tr>\n",
       "      <th>2</th>\n",
       "      <td>Ludo Bagman</td>\n",
       "    </tr>\n",
       "    <tr>\n",
       "      <th>3</th>\n",
       "      <td>Bathilda Bagshot</td>\n",
       "    </tr>\n",
       "    <tr>\n",
       "      <th>4</th>\n",
       "      <td>Bane (Centaur)</td>\n",
       "    </tr>\n",
       "  </tbody>\n",
       "</table>\n",
       "</div>"
      ],
      "text/plain": [
       "                  0\n",
       "0    Hannah Abbott \n",
       "1            Aragog\n",
       "2       Ludo Bagman\n",
       "3  Bathilda Bagshot\n",
       "4    Bane (Centaur)"
      ]
     },
     "execution_count": 83,
     "metadata": {},
     "output_type": "execute_result"
    }
   ],
   "source": [
    "character_df = pd.DataFrame(final_names)\n",
    "character_df.to_csv('characters.csv')\n",
    "character_df.head()"
   ]
  },
  {
   "cell_type": "markdown",
   "id": "eb841218-5a64-434b-a345-4d4b4e1ed670",
   "metadata": {},
   "source": [
    "### **3. Exploratory Data Analysis**"
   ]
  },
  {
   "cell_type": "code",
   "execution_count": 48,
   "id": "c43dc034-4131-4439-889b-0edb4d4e0671",
   "metadata": {},
   "outputs": [],
   "source": [
    "Bookfile = [] \n",
    "\n",
    "# Loops through importing 7 HP text files - Book 1 creates table, Books 2-7 append to Book 1 table\n",
    "for i in range(1,8): \n",
    "    Bookfile.append('HPBook'+str(i)+'.txt')\n",
    "    FileLoc = \"C://Users/aseem/Downloads/Final Year/NLP/Harry-Potter/Book_Text/{}\".format(Bookfile[i-1])\n",
    "    if i == 1:\n",
    "        df = pd.read_csv(FileLoc, sep=\"@\")\n",
    "    else:\n",
    "        df2 = pd.read_csv(FileLoc, sep=\"@\")\n",
    "        df = pd.concat([df, df2])"
   ]
  },
  {
   "cell_type": "code",
   "execution_count": 49,
   "id": "4795df90-5bf1-4678-859d-7ceeb82e6773",
   "metadata": {},
   "outputs": [
    {
     "name": "stderr",
     "output_type": "stream",
     "text": [
      "[nltk_data] Downloading package punkt to\n",
      "[nltk_data]     C:\\Users\\aseem\\AppData\\Roaming\\nltk_data...\n",
      "[nltk_data]   Package punkt is already up-to-date!\n"
     ]
    }
   ],
   "source": [
    "nltk.download('punkt') \n",
    "stopwords = set(stopwords.words('english')) \n",
    "\n",
    "def remove_punctuations(text):\n",
    "    for punctuation in string.punctuation:\n",
    "        text = text.replace(punctuation, '')\n",
    "    return text\n",
    "\n",
    "stopwords = [''.join(item for item in x if item not in string.punctuation) for x in stopwords] #Remove punctuation from stopwords"
   ]
  },
  {
   "cell_type": "code",
   "execution_count": 50,
   "id": "887032fa-0241-4056-b819-12bfb6fe0192",
   "metadata": {},
   "outputs": [
    {
     "data": {
      "text/html": [
       "<div>\n",
       "<style scoped>\n",
       "    .dataframe tbody tr th:only-of-type {\n",
       "        vertical-align: middle;\n",
       "    }\n",
       "\n",
       "    .dataframe tbody tr th {\n",
       "        vertical-align: top;\n",
       "    }\n",
       "\n",
       "    .dataframe thead th {\n",
       "        text-align: right;\n",
       "    }\n",
       "</style>\n",
       "<table border=\"1\" class=\"dataframe\">\n",
       "  <thead>\n",
       "    <tr style=\"text-align: right;\">\n",
       "      <th></th>\n",
       "      <th>index</th>\n",
       "      <th>Text</th>\n",
       "      <th>Chapter</th>\n",
       "      <th>Book</th>\n",
       "      <th>WordCountText</th>\n",
       "      <th>WordCount</th>\n",
       "    </tr>\n",
       "  </thead>\n",
       "  <tbody>\n",
       "    <tr>\n",
       "      <th>0</th>\n",
       "      <td>0</td>\n",
       "      <td>THE BOY WHO LIVED  Mr. and Mrs. Dursley, of nu...</td>\n",
       "      <td>1</td>\n",
       "      <td>1</td>\n",
       "      <td>[the, boy, who, lived, mr, and, mrs, dursley, ...</td>\n",
       "      <td>4591</td>\n",
       "    </tr>\n",
       "    <tr>\n",
       "      <th>1</th>\n",
       "      <td>1</td>\n",
       "      <td>THE VANISHING GLASS  Nearly ten years had pass...</td>\n",
       "      <td>2</td>\n",
       "      <td>1</td>\n",
       "      <td>[the, vanishing, glass, nearly, ten, years, ha...</td>\n",
       "      <td>3445</td>\n",
       "    </tr>\n",
       "    <tr>\n",
       "      <th>2</th>\n",
       "      <td>2</td>\n",
       "      <td>THE LETTERS FROM NO ONE  The escape of the Bra...</td>\n",
       "      <td>3</td>\n",
       "      <td>1</td>\n",
       "      <td>[the, letters, from, no, one, the, escape, of,...</td>\n",
       "      <td>3842</td>\n",
       "    </tr>\n",
       "    <tr>\n",
       "      <th>3</th>\n",
       "      <td>3</td>\n",
       "      <td>THE KEEPER OF THE KEYS  BOOM. They knocked aga...</td>\n",
       "      <td>4</td>\n",
       "      <td>1</td>\n",
       "      <td>[the, keeper, of, the, keys, boom, they, knock...</td>\n",
       "      <td>3690</td>\n",
       "    </tr>\n",
       "    <tr>\n",
       "      <th>4</th>\n",
       "      <td>4</td>\n",
       "      <td>DIAGON ALLEY  Harry woke early the next mornin...</td>\n",
       "      <td>5</td>\n",
       "      <td>1</td>\n",
       "      <td>[diagon, alley, harry, woke, early, the, next,...</td>\n",
       "      <td>6570</td>\n",
       "    </tr>\n",
       "    <tr>\n",
       "      <th>...</th>\n",
       "      <td>...</td>\n",
       "      <td>...</td>\n",
       "      <td>...</td>\n",
       "      <td>...</td>\n",
       "      <td>...</td>\n",
       "      <td>...</td>\n",
       "    </tr>\n",
       "    <tr>\n",
       "      <th>195</th>\n",
       "      <td>32</td>\n",
       "      <td>Harry remained kneeling at Snape's side, simpl...</td>\n",
       "      <td>33</td>\n",
       "      <td>7</td>\n",
       "      <td>[harry, remained, kneeling, at, snapes, side, ...</td>\n",
       "      <td>7930</td>\n",
       "    </tr>\n",
       "    <tr>\n",
       "      <th>196</th>\n",
       "      <td>33</td>\n",
       "      <td>Finally, the truth. Lying with his face presse...</td>\n",
       "      <td>34</td>\n",
       "      <td>7</td>\n",
       "      <td>[finally, the, truth, lying, with, his, face, ...</td>\n",
       "      <td>3762</td>\n",
       "    </tr>\n",
       "    <tr>\n",
       "      <th>197</th>\n",
       "      <td>34</td>\n",
       "      <td>He lay facedown, listening to the silence. He ...</td>\n",
       "      <td>35</td>\n",
       "      <td>7</td>\n",
       "      <td>[he, lay, facedown, listening, to, the, silenc...</td>\n",
       "      <td>4846</td>\n",
       "    </tr>\n",
       "    <tr>\n",
       "      <th>198</th>\n",
       "      <td>35</td>\n",
       "      <td>He was flying facedown on the ground again. Th...</td>\n",
       "      <td>36</td>\n",
       "      <td>7</td>\n",
       "      <td>[he, was, flying, facedown, on, the, ground, a...</td>\n",
       "      <td>6943</td>\n",
       "    </tr>\n",
       "    <tr>\n",
       "      <th>199</th>\n",
       "      <td>36</td>\n",
       "      <td>Autumn seemed to arrive suddenly that year. Th...</td>\n",
       "      <td>37</td>\n",
       "      <td>7</td>\n",
       "      <td>[autumn, seemed, to, arrive, suddenly, that, y...</td>\n",
       "      <td>1552</td>\n",
       "    </tr>\n",
       "  </tbody>\n",
       "</table>\n",
       "<p>200 rows × 6 columns</p>\n",
       "</div>"
      ],
      "text/plain": [
       "     index                                               Text  Chapter  Book  \\\n",
       "0        0  THE BOY WHO LIVED  Mr. and Mrs. Dursley, of nu...        1     1   \n",
       "1        1  THE VANISHING GLASS  Nearly ten years had pass...        2     1   \n",
       "2        2  THE LETTERS FROM NO ONE  The escape of the Bra...        3     1   \n",
       "3        3  THE KEEPER OF THE KEYS  BOOM. They knocked aga...        4     1   \n",
       "4        4  DIAGON ALLEY  Harry woke early the next mornin...        5     1   \n",
       "..     ...                                                ...      ...   ...   \n",
       "195     32  Harry remained kneeling at Snape's side, simpl...       33     7   \n",
       "196     33  Finally, the truth. Lying with his face presse...       34     7   \n",
       "197     34  He lay facedown, listening to the silence. He ...       35     7   \n",
       "198     35  He was flying facedown on the ground again. Th...       36     7   \n",
       "199     36  Autumn seemed to arrive suddenly that year. Th...       37     7   \n",
       "\n",
       "                                         WordCountText  WordCount  \n",
       "0    [the, boy, who, lived, mr, and, mrs, dursley, ...       4591  \n",
       "1    [the, vanishing, glass, nearly, ten, years, ha...       3445  \n",
       "2    [the, letters, from, no, one, the, escape, of,...       3842  \n",
       "3    [the, keeper, of, the, keys, boom, they, knock...       3690  \n",
       "4    [diagon, alley, harry, woke, early, the, next,...       6570  \n",
       "..                                                 ...        ...  \n",
       "195  [harry, remained, kneeling, at, snapes, side, ...       7930  \n",
       "196  [finally, the, truth, lying, with, his, face, ...       3762  \n",
       "197  [he, lay, facedown, listening, to, the, silenc...       4846  \n",
       "198  [he, was, flying, facedown, on, the, ground, a...       6943  \n",
       "199  [autumn, seemed, to, arrive, suddenly, that, y...       1552  \n",
       "\n",
       "[200 rows x 6 columns]"
      ]
     },
     "execution_count": 50,
     "metadata": {},
     "output_type": "execute_result"
    }
   ],
   "source": [
    "df['WordCountText'] = df['Text'].str.lower().apply(remove_punctuations).apply(word_tokenize) # Word Count Text\n",
    "df['WordCount'] = df['WordCountText'].str.len() #Word Count Per Chapter\n",
    "\n",
    "df.reset_index()"
   ]
  },
  {
   "cell_type": "code",
   "execution_count": 51,
   "id": "e8a89018-6041-42bb-8066-2ec2b2e6ca6f",
   "metadata": {},
   "outputs": [
    {
     "name": "stderr",
     "output_type": "stream",
     "text": [
      "C:\\Users\\aseem\\anaconda3\\envs\\cal\\lib\\site-packages\\seaborn\\_decorators.py:36: FutureWarning: Pass the following variables as keyword args: x, y. From version 0.12, the only valid positional argument will be `data`, and passing other arguments without an explicit keyword will result in an error or misinterpretation.\n",
      "  warnings.warn(\n"
     ]
    },
    {
     "data": {
      "text/plain": [
       "<Figure size 1440x720 with 0 Axes>"
      ]
     },
     "execution_count": 51,
     "metadata": {},
     "output_type": "execute_result"
    },
    {
     "data": {
      "image/png": "[encoded data removed]",
      "text/plain": [
       "<Figure size 432x288 with 1 Axes>"
      ]
     },
     "metadata": {},
     "output_type": "display_data"
    },
    {
     "data": {
      "text/plain": [
       "<Figure size 1440x720 with 0 Axes>"
      ]
     },
     "metadata": {},
     "output_type": "display_data"
    }
   ],
   "source": [
    "BookTitles=[\"Philosopher's Stone\", \"Chamber of Secrets\", \"Prisoner of Azkaban\", \"Goblet of Fire\",\n",
    "           \"Order of the Phoenix\", \"Half Blood Prince\", \"Deathly Hallows\"]\n",
    "\n",
    "x = df.groupby(['Book'])['WordCount'].sum().reset_index()['Book']\n",
    "y = df.groupby(['Book'])['WordCount'].sum().reset_index()['WordCount']\n",
    "x_pos = np.arange(len(x))\n",
    "sns.barplot(x_pos, y)\n",
    "plt.xlabel(\"Book\")\n",
    "plt.ylabel(\"Word Count\")\n",
    "plt.title(\"Total Number of Words in Each Harry Potter Book\")\n",
    "plt.xticks(x_pos, BookTitles, rotation=90)\n",
    "plt.figure(figsize=(20,10))"
   ]
  },
  {
   "cell_type": "code",
   "execution_count": 52,
   "id": "6edfd82c-cc9b-49f7-9239-4f1fe10b0972",
   "metadata": {},
   "outputs": [
    {
     "name": "stderr",
     "output_type": "stream",
     "text": [
      "C:\\Users\\aseem\\anaconda3\\envs\\cal\\lib\\site-packages\\seaborn\\_decorators.py:36: FutureWarning: Pass the following variables as keyword args: x, y. From version 0.12, the only valid positional argument will be `data`, and passing other arguments without an explicit keyword will result in an error or misinterpretation.\n",
      "  warnings.warn(\n"
     ]
    },
    {
     "data": {
      "text/plain": [
       "([<matplotlib.axis.XTick at 0x2830bb68fd0>,\n",
       "  <matplotlib.axis.XTick at 0x2830bb68eb0>,\n",
       "  <matplotlib.axis.XTick at 0x2830bb94af0>,\n",
       "  <matplotlib.axis.XTick at 0x2830bad62e0>,\n",
       "  <matplotlib.axis.XTick at 0x2830badc6d0>,\n",
       "  <matplotlib.axis.XTick at 0x2830badc1c0>,\n",
       "  <matplotlib.axis.XTick at 0x2830badc3a0>],\n",
       " [Text(0, 0, \"Philosopher's Stone\"),\n",
       "  Text(1, 0, 'Chamber of Secrets'),\n",
       "  Text(2, 0, 'Prisoner of Azkaban'),\n",
       "  Text(3, 0, 'Goblet of Fire'),\n",
       "  Text(4, 0, 'Order of the Phoenix'),\n",
       "  Text(5, 0, 'Half Blood Prince'),\n",
       "  Text(6, 0, 'Deathly Hallows')])"
      ]
     },
     "execution_count": 52,
     "metadata": {},
     "output_type": "execute_result"
    },
    {
     "data": {
      "image/png": "[encoded data removed]",
      "text/plain": [
       "<Figure size 432x288 with 1 Axes>"
      ]
     },
     "metadata": {},
     "output_type": "display_data"
    }
   ],
   "source": [
    "x = df.groupby(['Book'])['WordCount'].mean().reset_index()['Book']\n",
    "y = df.groupby(['Book'])['WordCount'].mean().reset_index()['WordCount']\n",
    "x_pos = np.arange(len(x))\n",
    "plt.style.use('ggplot')\n",
    "sns.barplot(x_pos, y)\n",
    "plt.xlabel(\"Book\")\n",
    "plt.ylabel(\"Word Count\")\n",
    "plt.title(\"Average Number of Words Per Chapter of Each Harry Potter Book\")\n",
    "plt.xticks(x_pos, BookTitles, rotation=90)"
   ]
  },
  {
   "cell_type": "code",
   "execution_count": null,
   "id": "c5e869c9-3360-42eb-b843-5f56c87984e0",
   "metadata": {},
   "outputs": [],
   "source": [
    "Bookfile = [] \n",
    "\n",
    "# Loops through importing 7 HP text files - Book 1 creates table, Books 2-7 append to Book 1 table\n",
    "for i in range(1,8): \n",
    "    Bookfile.append('HPBook'+str(i)+'.txt')\n",
    "    FileLoc = \"C://Users/aseem/Downloads/Final Year/NLP/Harry-Potter/Book_Text/{}\".format(Bookfile[i-1])\n",
    "    if i == 1:\n",
    "        df = pd.read_csv(FileLoc, sep=\"@\")\n",
    "    else:\n",
    "        df2 = pd.read_csv(FileLoc, sep=\"@\")\n",
    "        df = pd.concat([df, df2])"
   ]
  },
  {
   "cell_type": "code",
   "execution_count": null,
   "id": "b534387e-eddb-41ac-9cae-37b8ef83f69c",
   "metadata": {},
   "outputs": [],
   "source": [
    "nltk.download('punkt') \n",
    "stopwords = set(stopwords.words('english')) \n",
    "\n",
    "def remove_punctuations(text):\n",
    "    for punctuation in string.punctuation:\n",
    "        text = text.replace(punctuation, '')\n",
    "    return text\n",
    "\n",
    "stopwords = [''.join(item for item in x if item not in string.punctuation) for x in stopwords] #Remove punctuation from stopwords"
   ]
  },
  {
   "cell_type": "code",
   "execution_count": null,
   "id": "6205187b-e231-4705-8252-78585d506947",
   "metadata": {},
   "outputs": [],
   "source": [
    "df['WordCountText'] = df['Text'].str.lower().apply(remove_punctuations).apply(word_tokenize) # Word Count Text\n",
    "df['WordCount'] = df['WordCountText'].str.len() #Word Count Per Chapter\n",
    "\n",
    "df.reset_index()"
   ]
  },
  {
   "cell_type": "code",
   "execution_count": null,
   "id": "93cce1f2-d9c7-4dda-9c6d-e95f8ca0e859",
   "metadata": {},
   "outputs": [],
   "source": [
    "BookTitles=[\"Philosopher's Stone\", \"Chamber of Secrets\", \"Prisoner of Azkaban\", \"Goblet of Fire\",\n",
    "           \"Order of the Phoenix\", \"Half Blood Prince\", \"Deathly Hallows\"]\n",
    "\n",
    "x = df.groupby(['Book'])['WordCount'].sum().reset_index()['Book']\n",
    "y = df.groupby(['Book'])['WordCount'].sum().reset_index()['WordCount']\n",
    "x_pos = np.arange(len(x))\n",
    "sns.barplot(x_pos, y)\n",
    "plt.xlabel(\"Book\")\n",
    "plt.ylabel(\"Word Count\")\n",
    "plt.title(\"Total Number of Words in Each Harry Potter Book\")\n",
    "plt.xticks(x_pos, BookTitles, rotation=90)\n",
    "plt.figure(figsize=(20,10))"
   ]
  },
  {
   "cell_type": "code",
   "execution_count": null,
   "id": "f54097c6-77c2-4dc2-8338-9bce4b7f3ef5",
   "metadata": {},
   "outputs": [],
   "source": [
    "x = df.groupby(['Book'])['WordCount'].mean().reset_index()['Book']\n",
    "y = df.groupby(['Book'])['WordCount'].mean().reset_index()['WordCount']\n",
    "x_pos = np.arange(len(x))\n",
    "plt.style.use('ggplot')\n",
    "sns.barplot(x_pos, y)\n",
    "plt.xlabel(\"Book\")\n",
    "plt.ylabel(\"Word Count\")\n",
    "plt.title(\"Average Number of Words Per Chapter of Each Harry Potter Book\")\n",
    "plt.xticks(x_pos, BookTitles, rotation=90)"
   ]
  },
  {
   "cell_type": "markdown",
   "id": "0d2e5760-1ee2-4a00-b51a-ac817ae11204",
   "metadata": {
    "tags": []
   },
   "source": [
    "### **4. Prepping the Characters**"
   ]
  },
  {
   "cell_type": "code",
   "execution_count": 2,
   "id": "b4dec5a7-c8f9-4ff5-9415-725473890eec",
   "metadata": {},
   "outputs": [
    {
     "data": {
      "text/html": [
       "<div>\n",
       "<style scoped>\n",
       "    .dataframe tbody tr th:only-of-type {\n",
       "        vertical-align: middle;\n",
       "    }\n",
       "\n",
       "    .dataframe tbody tr th {\n",
       "        vertical-align: top;\n",
       "    }\n",
       "\n",
       "    .dataframe thead th {\n",
       "        text-align: right;\n",
       "    }\n",
       "</style>\n",
       "<table border=\"1\" class=\"dataframe\">\n",
       "  <thead>\n",
       "    <tr style=\"text-align: right;\">\n",
       "      <th></th>\n",
       "      <th>Unnamed: 0</th>\n",
       "      <th>character</th>\n",
       "    </tr>\n",
       "  </thead>\n",
       "  <tbody>\n",
       "    <tr>\n",
       "      <th>0</th>\n",
       "      <td>0</td>\n",
       "      <td>Hannah Abbott</td>\n",
       "    </tr>\n",
       "    <tr>\n",
       "      <th>1</th>\n",
       "      <td>1</td>\n",
       "      <td>Aragog</td>\n",
       "    </tr>\n",
       "    <tr>\n",
       "      <th>2</th>\n",
       "      <td>2</td>\n",
       "      <td>Ludo Bagman</td>\n",
       "    </tr>\n",
       "    <tr>\n",
       "      <th>3</th>\n",
       "      <td>3</td>\n",
       "      <td>Bathilda Bagshot</td>\n",
       "    </tr>\n",
       "    <tr>\n",
       "      <th>4</th>\n",
       "      <td>4</td>\n",
       "      <td>Bane (Centaur)</td>\n",
       "    </tr>\n",
       "  </tbody>\n",
       "</table>\n",
       "</div>"
      ],
      "text/plain": [
       "   Unnamed: 0         character\n",
       "0           0    Hannah Abbott \n",
       "1           1            Aragog\n",
       "2           2       Ludo Bagman\n",
       "3           3  Bathilda Bagshot\n",
       "4           4    Bane (Centaur)"
      ]
     },
     "execution_count": 2,
     "metadata": {},
     "output_type": "execute_result"
    }
   ],
   "source": [
    "character_df = pd.read_csv(\"characters.csv\")\n",
    "character_df.rename(columns = {'0':'character'}, inplace = True)\n",
    "character_df.head()"
   ]
  },
  {
   "cell_type": "code",
   "execution_count": 3,
   "id": "78ed2afa-ad8d-4a29-9bee-714cef139fad",
   "metadata": {},
   "outputs": [
    {
     "data": {
      "text/html": [
       "<div>\n",
       "<style scoped>\n",
       "    .dataframe tbody tr th:only-of-type {\n",
       "        vertical-align: middle;\n",
       "    }\n",
       "\n",
       "    .dataframe tbody tr th {\n",
       "        vertical-align: top;\n",
       "    }\n",
       "\n",
       "    .dataframe thead th {\n",
       "        text-align: right;\n",
       "    }\n",
       "</style>\n",
       "<table border=\"1\" class=\"dataframe\">\n",
       "  <thead>\n",
       "    <tr style=\"text-align: right;\">\n",
       "      <th></th>\n",
       "      <th>character</th>\n",
       "      <th>character_firstname</th>\n",
       "    </tr>\n",
       "  </thead>\n",
       "  <tbody>\n",
       "    <tr>\n",
       "      <th>0</th>\n",
       "      <td>Hannah Abbott</td>\n",
       "      <td>Hannah</td>\n",
       "    </tr>\n",
       "    <tr>\n",
       "      <th>1</th>\n",
       "      <td>Aragog</td>\n",
       "      <td>Aragog</td>\n",
       "    </tr>\n",
       "    <tr>\n",
       "      <th>2</th>\n",
       "      <td>Ludo Bagman</td>\n",
       "      <td>Ludo</td>\n",
       "    </tr>\n",
       "    <tr>\n",
       "      <th>3</th>\n",
       "      <td>Bathilda Bagshot</td>\n",
       "      <td>Bathilda</td>\n",
       "    </tr>\n",
       "    <tr>\n",
       "      <th>4</th>\n",
       "      <td>Bane</td>\n",
       "      <td>Bane</td>\n",
       "    </tr>\n",
       "    <tr>\n",
       "      <th>5</th>\n",
       "      <td>Bloody Baron</td>\n",
       "      <td>Bloody</td>\n",
       "    </tr>\n",
       "    <tr>\n",
       "      <th>6</th>\n",
       "      <td>Beedle the Bard</td>\n",
       "      <td>Beedle</td>\n",
       "    </tr>\n",
       "    <tr>\n",
       "      <th>7</th>\n",
       "      <td>Katie Bell</td>\n",
       "      <td>Katie</td>\n",
       "    </tr>\n",
       "    <tr>\n",
       "      <th>8</th>\n",
       "      <td>Cuthbert Binns</td>\n",
       "      <td>Cuthbert</td>\n",
       "    </tr>\n",
       "    <tr>\n",
       "      <th>9</th>\n",
       "      <td>Phineas Nigellus Black</td>\n",
       "      <td>Phineas</td>\n",
       "    </tr>\n",
       "  </tbody>\n",
       "</table>\n",
       "</div>"
      ],
      "text/plain": [
       "                character character_firstname\n",
       "0          Hannah Abbott               Hannah\n",
       "1                  Aragog              Aragog\n",
       "2             Ludo Bagman                Ludo\n",
       "3        Bathilda Bagshot            Bathilda\n",
       "4                   Bane                 Bane\n",
       "5            Bloody Baron              Bloody\n",
       "6         Beedle the Bard              Beedle\n",
       "7              Katie Bell               Katie\n",
       "8          Cuthbert Binns            Cuthbert\n",
       "9  Phineas Nigellus Black             Phineas"
      ]
     },
     "execution_count": 3,
     "metadata": {},
     "output_type": "execute_result"
    }
   ],
   "source": [
    "character_df['character'] = character_df['character'].apply(lambda x: re.sub(\"[\\(].*?[\\)]\", \"\", x)) \n",
    "character_df['character_firstname'] = character_df['character'].apply(lambda x: x.split(' ', 1)[0])\n",
    "character_df = character_df[[\"character\", \"character_firstname\"]]\n",
    "character_df.head(10)"
   ]
  },
  {
   "cell_type": "code",
   "execution_count": 4,
   "id": "d91cff0e-d95d-42e3-8996-b5a5b6ae8afd",
   "metadata": {},
   "outputs": [
    {
     "name": "stdout",
     "output_type": "stream",
     "text": [
      "Int64Index([43, 44, 45, 46, 47], dtype='int64')\n",
      "Int64Index([166], dtype='int64')\n",
      "Int64Index([84], dtype='int64')\n",
      "Int64Index([182], dtype='int64')\n",
      "Int64Index([107, 108, 109, 110], dtype='int64')\n"
     ]
    }
   ],
   "source": [
    "indice_dumbeldore = character_df[character_df['character'].str.contains('Dumbledore')].index\n",
    "indice_snape = character_df[character_df['character'].str.contains('Snape')].index\n",
    "indice_hagrid = character_df[character_df['character'].str.contains('Hagrid')].index\n",
    "indice_voldemort = character_df[character_df['character'].str.contains('Voldemort')].index\n",
    "indice_malfoy = character_df[character_df['character'].str.contains('Malfoy')].index\n",
    "\n",
    "print(indice_dumbeldore)\n",
    "print(indice_snape)\n",
    "print(indice_hagrid)\n",
    "print(indice_voldemort)\n",
    "print(indice_malfoy)"
   ]
  },
  {
   "cell_type": "code",
   "execution_count": 5,
   "id": "1d67c815-5851-4785-a406-7e76084490f2",
   "metadata": {},
   "outputs": [],
   "source": [
    "character_df.loc[44, 'character_firstname'] = 'Dumbledore'\n",
    "character_df.loc[166, 'character_firstname'] = 'Snape'\n",
    "character_df.loc[84, 'character_firstname'] = 'Hagrid'\n",
    "character_df.loc[182, 'character_firstname'] = 'Voldemort'\n",
    "character_df.loc[107, 'character_firstname'] = 'Malfoy'"
   ]
  },
  {
   "cell_type": "markdown",
   "id": "6ea76bb8-8938-4cc6-bbe7-a386d1ac1175",
   "metadata": {
    "tags": []
   },
   "source": [
    "### **5. Using NER**"
   ]
  },
  {
   "cell_type": "code",
   "execution_count": 6,
   "id": "0faa03e4-fd14-4182-ab35-64c31f48137b",
   "metadata": {},
   "outputs": [],
   "source": [
    "NER = spacy.load(\"en_core_web_sm\")\n",
    "all_books = [b for b in os.scandir('Harry-Potter/Book_Text') if '.txt' in b.name]"
   ]
  },
  {
   "cell_type": "code",
   "execution_count": 7,
   "id": "c15bc401-d806-4127-9318-25aa8b453e5b",
   "metadata": {},
   "outputs": [
    {
     "data": {
      "text/plain": [
       "[<DirEntry 'HPBook1.txt'>,\n",
       " <DirEntry 'HPBook2.txt'>,\n",
       " <DirEntry 'HPBook3.txt'>,\n",
       " <DirEntry 'HPBook4.txt'>,\n",
       " <DirEntry 'HPBook5.txt'>,\n",
       " <DirEntry 'HPBook6.txt'>,\n",
       " <DirEntry 'HPBook7.txt'>]"
      ]
     },
     "execution_count": 7,
     "metadata": {},
     "output_type": "execute_result"
    }
   ],
   "source": [
    "all_books"
   ]
  },
  {
   "cell_type": "code",
   "execution_count": 8,
   "id": "412ee150-47a7-40a5-b33a-e6c57d677ed4",
   "metadata": {},
   "outputs": [
    {
     "name": "stdout",
     "output_type": "stream",
     "text": [
      "CPU times: total: 8.72 s\n",
      "Wall time: 14.6 s\n"
     ]
    }
   ],
   "source": [
    "%%time\n",
    "NER.max_length = 2000000\n",
    "\n",
    "book = all_books[0]\n",
    "book_text = open(book).read()\n",
    "book_doc = NER(book_text)"
   ]
  },
  {
   "cell_type": "code",
   "execution_count": 9,
   "id": "01b3cb50-1f7d-474c-96d2-fd86717aa8d3",
   "metadata": {},
   "outputs": [
    {
     "data": {
      "text/html": [
       "<span class=\"tex2jax_ignore\"><div class=\"entities\" style=\"line-height: 2.5; direction: ltr\">&quot;\n",
       "<mark class=\"entity\" style=\"background: #f0d0ff; padding: 0.45em 0.6em; margin: 0 0.25em; line-height: 1; border-radius: 0.35em;\">\n",
       "    Text&quot;@&quot;Chapter&quot;@&quot;Book\n",
       "    <span style=\"font-size: 0.8em; font-weight: bold; line-height: 1; border-radius: 0.35em; vertical-align: middle; margin-left: 0.5rem\">WORK_OF_ART</span>\n",
       "</mark>\n",
       "&quot;</br>&quot;\n",
       "<mark class=\"entity\" style=\"background: #f0d0ff; padding: 0.45em 0.6em; margin: 0 0.25em; line-height: 1; border-radius: 0.35em;\">\n",
       "    THE BOY WHO\n",
       "    <span style=\"font-size: 0.8em; font-weight: bold; line-height: 1; border-radius: 0.35em; vertical-align: middle; margin-left: 0.5rem\">WORK_OF_ART</span>\n",
       "</mark>\n",
       " \n",
       "<mark class=\"entity\" style=\"background: #feca74; padding: 0.45em 0.6em; margin: 0 0.25em; line-height: 1; border-radius: 0.35em;\">\n",
       "    LIVED\n",
       "    <span style=\"font-size: 0.8em; font-weight: bold; line-height: 1; border-radius: 0.35em; vertical-align: middle; margin-left: 0.5rem\">GPE</span>\n",
       "</mark>\n",
       "  Mr. and Mrs. \n",
       "<mark class=\"entity\" style=\"background: #aa9cfc; padding: 0.45em 0.6em; margin: 0 0.25em; line-height: 1; border-radius: 0.35em;\">\n",
       "    Dursley\n",
       "    <span style=\"font-size: 0.8em; font-weight: bold; line-height: 1; border-radius: 0.35em; vertical-align: middle; margin-left: 0.5rem\">PERSON</span>\n",
       "</mark>\n",
       ", of \n",
       "<mark class=\"entity\" style=\"background: #e4e7d2; padding: 0.45em 0.6em; margin: 0 0.25em; line-height: 1; border-radius: 0.35em;\">\n",
       "    number four\n",
       "    <span style=\"font-size: 0.8em; font-weight: bold; line-height: 1; border-radius: 0.35em; vertical-align: middle; margin-left: 0.5rem\">CARDINAL</span>\n",
       "</mark>\n",
       ", \n",
       "<mark class=\"entity\" style=\"background: #9cc9cc; padding: 0.45em 0.6em; margin: 0 0.25em; line-height: 1; border-radius: 0.35em;\">\n",
       "    Privet Drive\n",
       "    <span style=\"font-size: 0.8em; font-weight: bold; line-height: 1; border-radius: 0.35em; vertical-align: middle; margin-left: 0.5rem\">FAC</span>\n",
       "</mark>\n",
       ", were proud to say that they were perfectly normal, thank you very much. They were the last people you'd expect to be involved in anything strange or mysterious, because they just didn't hold with such nonsense.  Mr. \n",
       "<mark class=\"entity\" style=\"background: #aa9cfc; padding: 0.45em 0.6em; margin: 0 0.25em; line-height: 1; border-radius: 0.35em;\">\n",
       "    Dursley\n",
       "    <span style=\"font-size: 0.8em; font-weight: bold; line-height: 1; border-radius: 0.35em; vertical-align: middle; margin-left: 0.5rem\">PERSON</span>\n",
       "</mark>\n",
       " was the director of a firm called \n",
       "<mark class=\"entity\" style=\"background: #7aecec; padding: 0.45em 0.6em; margin: 0 0.25em; line-height: 1; border-radius: 0.35em;\">\n",
       "    Grunnings\n",
       "    <span style=\"font-size: 0.8em; font-weight: bold; line-height: 1; border-radius: 0.35em; vertical-align: middle; margin-left: 0.5rem\">ORG</span>\n",
       "</mark>\n",
       ", which made drills. He was a big, beefy man with hardly any neck, although he did have a very large mustache. Mrs. \n",
       "<mark class=\"entity\" style=\"background: #aa9cfc; padding: 0.45em 0.6em; margin: 0 0.25em; line-height: 1; border-radius: 0.35em;\">\n",
       "    Dursley\n",
       "    <span style=\"font-size: 0.8em; font-weight: bold; line-height: 1; border-radius: 0.35em; vertical-align: middle; margin-left: 0.5rem\">PERSON</span>\n",
       "</mark>\n",
       " was thin and blonde and had nearly twice the usual amount of neck, which came in very useful as she spent so much of her time craning over garden fences, spying on the neighbors. The \n",
       "<mark class=\"entity\" style=\"background: #aa9cfc; padding: 0.45em 0.6em; margin: 0 0.25em; line-height: 1; border-radius: 0.35em;\">\n",
       "    Dursleys\n",
       "    <span style=\"font-size: 0.8em; font-weight: bold; line-height: 1; border-radius: 0.35em; vertical-align: middle; margin-left: 0.5rem\">PERSON</span>\n",
       "</mark>\n",
       " had a small son called \n",
       "<mark class=\"entity\" style=\"background: #aa9cfc; padding: 0.45em 0.6em; margin: 0 0.25em; line-height: 1; border-radius: 0.35em;\">\n",
       "    Dudley\n",
       "    <span style=\"font-size: 0.8em; font-weight: bold; line-height: 1; border-radius: 0.35em; vertical-align: middle; margin-left: 0.5rem\">PERSON</span>\n",
       "</mark>\n",
       " and in their opinion there was no finer boy anywhere.  The Dursleys had everything they wanted, but they also had a secret, and their greatest fear was that somebody would discover it. They didn't think they could bear it if anyone found out about the \n",
       "<mark class=\"entity\" style=\"background: #7aecec; padding: 0.45em 0.6em; margin: 0 0.25em; line-height: 1; border-radius: 0.35em;\">\n",
       "    Potters\n",
       "    <span style=\"font-size: 0.8em; font-weight: bold; line-height: 1; border-radius: 0.35em; vertical-align: middle; margin-left: 0.5rem\">ORG</span>\n",
       "</mark>\n",
       ". Mrs. \n",
       "<mark class=\"entity\" style=\"background: #aa9cfc; padding: 0.45em 0.6em; margin: 0 0.25em; line-height: 1; border-radius: 0.35em;\">\n",
       "    Potter\n",
       "    <span style=\"font-size: 0.8em; font-weight: bold; line-height: 1; border-radius: 0.35em; vertical-align: middle; margin-left: 0.5rem\">PERSON</span>\n",
       "</mark>\n",
       " was Mrs. \n",
       "<mark class=\"entity\" style=\"background: #aa9cfc; padding: 0.45em 0.6em; margin: 0 0.25em; line-height: 1; border-radius: 0.35em;\">\n",
       "    Dursley\n",
       "    <span style=\"font-size: 0.8em; font-weight: bold; line-height: 1; border-radius: 0.35em; vertical-align: middle; margin-left: 0.5rem\">PERSON</span>\n",
       "</mark>\n",
       "'s sister, but they hadn't met for \n",
       "<mark class=\"entity\" style=\"background: #bfe1d9; padding: 0.45em 0.6em; margin: 0 0.25em; line-height: 1; border-radius: 0.35em;\">\n",
       "    several years\n",
       "    <span style=\"font-size: 0.8em; font-weight: bold; line-height: 1; border-radius: 0.35em; vertical-align: middle; margin-left: 0.5rem\">DATE</span>\n",
       "</mark>\n",
       "; in fact, Mrs. \n",
       "<mark class=\"entity\" style=\"background: #aa9cfc; padding: 0.45em 0.6em; margin: 0 0.25em; line-height: 1; border-radius: 0.35em;\">\n",
       "    Dursley\n",
       "    <span style=\"font-size: 0.8em; font-weight: bold; line-height: 1; border-radius: 0.35em; vertical-align: middle; margin-left: 0.5rem\">PERSON</span>\n",
       "</mark>\n",
       " pretended she didn't have a sister, because her sister and her good-for-nothing husband were as unDursleyish as it was possible to be. The \n",
       "<mark class=\"entity\" style=\"background: #aa9cfc; padding: 0.45em 0.6em; margin: 0 0.25em; line-height: 1; border-radius: 0.35em;\">\n",
       "    Dursleys\n",
       "    <span style=\"font-size: 0.8em; font-weight: bold; line-height: 1; border-radius: 0.35em; vertical-align: middle; margin-left: 0.5rem\">PERSON</span>\n",
       "</mark>\n",
       " shuddered to think what the neighbors would say if the \n",
       "<mark class=\"entity\" style=\"background: #7aecec; padding: 0.45em 0.6em; margin: 0 0.25em; line-height: 1; border-radius: 0.35em;\">\n",
       "    Potters\n",
       "    <span style=\"font-size: 0.8em; font-weight: bold; line-height: 1; border-radius: 0.35em; vertical-align: middle; margin-left: 0.5rem\">ORG</span>\n",
       "</mark>\n",
       " arrived in the street. The Dursleys knew that the \n",
       "<mark class=\"entity\" style=\"background: #7aecec; padding: 0.45em 0.6em; margin: 0 0.25em; line-height: 1; border-radius: 0.35em;\">\n",
       "    Potters\n",
       "    <span style=\"font-size: 0.8em; font-weight: bold; line-height: 1; border-radius: 0.35em; vertical-align: middle; margin-left: 0.5rem\">ORG</span>\n",
       "</mark>\n",
       " had a small son, too, but they had never even seen him. This boy was another good reason for keeping the \n",
       "<mark class=\"entity\" style=\"background: #7aecec; padding: 0.45em 0.6em; margin: 0 0.25em; line-height: 1; border-radius: 0.35em;\">\n",
       "    Potters\n",
       "    <span style=\"font-size: 0.8em; font-weight: bold; line-height: 1; border-radius: 0.35em; vertical-align: middle; margin-left: 0.5rem\">ORG</span>\n",
       "</mark>\n",
       " away; they didn't want \n",
       "<mark class=\"entity\" style=\"background: #aa9cfc; padding: 0.45em 0.6em; margin: 0 0.25em; line-height: 1; border-radius: 0.35em;\">\n",
       "    Dudley\n",
       "    <span style=\"font-size: 0.8em; font-weight: bold; line-height: 1; border-radius: 0.35em; vertical-align: middle; margin-left: 0.5rem\">PERSON</span>\n",
       "</mark>\n",
       " mixing with a child like that.  When Mr. and Mrs. \n",
       "<mark class=\"entity\" style=\"background: #aa9cfc; padding: 0.45em 0.6em; margin: 0 0.25em; line-height: 1; border-radius: 0.35em;\">\n",
       "    Dursley\n",
       "    <span style=\"font-size: 0.8em; font-weight: bold; line-height: 1; border-radius: 0.35em; vertical-align: middle; margin-left: 0.5rem\">PERSON</span>\n",
       "</mark>\n",
       " woke up on the dull, gray \n",
       "<mark class=\"entity\" style=\"background: #bfe1d9; padding: 0.45em 0.6em; margin: 0 0.25em; line-height: 1; border-radius: 0.35em;\">\n",
       "    Tuesday\n",
       "    <span style=\"font-size: 0.8em; font-weight: bold; line-height: 1; border-radius: 0.35em; vertical-align: middle; margin-left: 0.5rem\">DATE</span>\n",
       "</mark>\n",
       " our story starts, there was nothing about the cloudy sky outside to suggest that strange and mysterious things would soon be happening all over the country. Mr. \n",
       "<mark class=\"entity\" style=\"background: #aa9cfc; padding: 0.45em 0.6em; margin: 0 0.25em; line-height: 1; border-radius: 0.35em;\">\n",
       "    Dursley\n",
       "    <span style=\"font-size: 0.8em; font-weight: bold; line-height: 1; border-radius: 0.35em; vertical-align: middle; margin-left: 0.5rem\">PERSON</span>\n",
       "</mark>\n",
       " hummed as he picked out his most boring tie for work, and Mrs. \n",
       "<mark class=\"entity\" style=\"background: #aa9cfc; padding: 0.45em 0.6em; margin: 0 0.25em; line-height: 1; border-radius: 0.35em;\">\n",
       "    Dursley\n",
       "    <span style=\"font-size: 0.8em; font-weight: bold; line-height: 1; border-radius: 0.35em; vertical-align: middle; margin-left: 0.5rem\">PERSON</span>\n",
       "</mark>\n",
       " gossiped away happily as she wrestled a screaming \n",
       "<mark class=\"entity\" style=\"background: #aa9cfc; padding: 0.45em 0.6em; margin: 0 0.25em; line-height: 1; border-radius: 0.35em;\">\n",
       "    Dudley\n",
       "    <span style=\"font-size: 0.8em; font-weight: bold; line-height: 1; border-radius: 0.35em; vertical-align: middle; margin-left: 0.5rem\">PERSON</span>\n",
       "</mark>\n",
       " into his high chair.  None of them noticed a large, tawny owl flutter past the window.  At half past eight, Mr. \n",
       "<mark class=\"entity\" style=\"background: #aa9cfc; padding: 0.45em 0.6em; margin: 0 0.25em; line-height: 1; border-radius: 0.35em;\">\n",
       "    Dursley\n",
       "    <span style=\"font-size: 0.8em; font-weight: bold; line-height: 1; border-radius: 0.35em; vertical-align: middle; margin-left: 0.5rem\">PERSON</span>\n",
       "</mark>\n",
       " picked up his briefcase, pecked Mrs. \n",
       "<mark class=\"entity\" style=\"background: #aa9cfc; padding: 0.45em 0.6em; margin: 0 0.25em; line-height: 1; border-radius: 0.35em;\">\n",
       "    Dursley\n",
       "    <span style=\"font-size: 0.8em; font-weight: bold; line-height: 1; border-radius: 0.35em; vertical-align: middle; margin-left: 0.5rem\">PERSON</span>\n",
       "</mark>\n",
       " on the cheek, and tried to kiss \n",
       "<mark class=\"entity\" style=\"background: #aa9cfc; padding: 0.45em 0.6em; margin: 0 0.25em; line-height: 1; border-radius: 0.35em;\">\n",
       "    Dudley\n",
       "    <span style=\"font-size: 0.8em; font-weight: bold; line-height: 1; border-radius: 0.35em; vertical-align: middle; margin-left: 0.5rem\">PERSON</span>\n",
       "</mark>\n",
       " good-bye but missed, because \n",
       "<mark class=\"entity\" style=\"background: #aa9cfc; padding: 0.45em 0.6em; margin: 0 0.25em; line-height: 1; border-radius: 0.35em;\">\n",
       "    Dudley\n",
       "    <span style=\"font-size: 0.8em; font-weight: bold; line-height: 1; border-radius: 0.35em; vertical-align: middle; margin-left: 0.5rem\">PERSON</span>\n",
       "</mark>\n",
       " was now having a tantrum and throwing his cereal at the walls. \\&quot;Little tyke,\\&quot; chortled Mr. \n",
       "<mark class=\"entity\" style=\"background: #aa9cfc; padding: 0.45em 0.6em; margin: 0 0.25em; line-height: 1; border-radius: 0.35em;\">\n",
       "    Dursley\n",
       "    <span style=\"font-size: 0.8em; font-weight: bold; line-height: 1; border-radius: 0.35em; vertical-align: middle; margin-left: 0.5rem\">PERSON</span>\n",
       "</mark>\n",
       " as he left the house. He got into his car and backed out of number \n",
       "<mark class=\"entity\" style=\"background: #e4e7d2; padding: 0.45em 0.6em; margin: 0 0.25em; line-height: 1; border-radius: 0.35em;\">\n",
       "    four\n",
       "    <span style=\"font-size: 0.8em; font-weight: bold; line-height: 1; border-radius: 0.35em; vertical-align: middle; margin-left: 0.5rem\">CARDINAL</span>\n",
       "</mark>\n",
       "'s drive.  It was on the corner of the street that he noticed the \n",
       "<mark class=\"entity\" style=\"background: #e4e7d2; padding: 0.45em 0.6em; margin: 0 0.25em; line-height: 1; border-radius: 0.35em;\">\n",
       "    first\n",
       "    <span style=\"font-size: 0.8em; font-weight: bold; line-height: 1; border-radius: 0.35em; vertical-align: middle; margin-left: 0.5rem\">ORDINAL</span>\n",
       "</mark>\n",
       " sign of something peculiar -- a cat reading a map. </div></span>"
      ],
      "text/plain": [
       "<IPython.core.display.HTML object>"
      ]
     },
     "metadata": {},
     "output_type": "display_data"
    }
   ],
   "source": [
    "displacy.render(book_doc[0:500], style=\"ent\", jupyter=True)"
   ]
  },
  {
   "cell_type": "markdown",
   "id": "34864497-7163-44eb-9880-0226700883df",
   "metadata": {
    "tags": []
   },
   "source": [
    "### **6. Extracting and Filtering Entities**"
   ]
  },
  {
   "cell_type": "code",
   "execution_count": 10,
   "id": "9b6cf93e-54e6-4ab0-97c4-99ee73d35bd8",
   "metadata": {},
   "outputs": [
    {
     "name": "stderr",
     "output_type": "stream",
     "text": [
      "Progress: 5332it [00:48, 110.49it/s]\n"
     ]
    }
   ],
   "source": [
    "sent_entity_df = []\n",
    "\n",
    "# Loop through sentences, store named entity list for each sentence\n",
    "for sent in tqdm(book_doc.sents, \"Progress\"):\n",
    "    entity_list = [ent.text for ent in sent.ents]\n",
    "    sent_entity_df.append({\"sentence\": sent, \"entities\": entity_list})\n",
    "    \n",
    "sent_entity_df = pd.DataFrame(sent_entity_df)"
   ]
  },
  {
   "cell_type": "code",
   "execution_count": 11,
   "id": "2add408f-36a1-4300-a7cb-766106cd96f7",
   "metadata": {},
   "outputs": [],
   "source": [
    "sent_entity_df1 = sent_entity_df"
   ]
  },
  {
   "cell_type": "code",
   "execution_count": 12,
   "id": "1bbfd14e-d08e-4bf9-a641-9796e2f2bbca",
   "metadata": {},
   "outputs": [
    {
     "data": {
      "text/html": [
       "<div>\n",
       "<style scoped>\n",
       "    .dataframe tbody tr th:only-of-type {\n",
       "        vertical-align: middle;\n",
       "    }\n",
       "\n",
       "    .dataframe tbody tr th {\n",
       "        vertical-align: top;\n",
       "    }\n",
       "\n",
       "    .dataframe thead th {\n",
       "        text-align: right;\n",
       "    }\n",
       "</style>\n",
       "<table border=\"1\" class=\"dataframe\">\n",
       "  <thead>\n",
       "    <tr style=\"text-align: right;\">\n",
       "      <th></th>\n",
       "      <th>sentence</th>\n",
       "      <th>entities</th>\n",
       "    </tr>\n",
       "  </thead>\n",
       "  <tbody>\n",
       "    <tr>\n",
       "      <th>0</th>\n",
       "      <td>(\", Text\"@\"Chapter\"@\"Book, \", \\n, \", THE, BOY,...</td>\n",
       "      <td>[Text\"@\"Chapter\"@\"Book, THE BOY WHO, LIVED, Du...</td>\n",
       "    </tr>\n",
       "    <tr>\n",
       "      <th>1</th>\n",
       "      <td>(They, were, the, last, people, you, 'd, expec...</td>\n",
       "      <td>[]</td>\n",
       "    </tr>\n",
       "    <tr>\n",
       "      <th>2</th>\n",
       "      <td>(Mr., Dursley, was, the, director, of, a, firm...</td>\n",
       "      <td>[Dursley, Grunnings]</td>\n",
       "    </tr>\n",
       "    <tr>\n",
       "      <th>3</th>\n",
       "      <td>(He, was, a, big, ,, beefy, man, with, hardly,...</td>\n",
       "      <td>[]</td>\n",
       "    </tr>\n",
       "    <tr>\n",
       "      <th>4</th>\n",
       "      <td>(Mrs., Dursley, was, thin, and, blonde, and, h...</td>\n",
       "      <td>[Dursley]</td>\n",
       "    </tr>\n",
       "    <tr>\n",
       "      <th>5</th>\n",
       "      <td>(The, Dursleys, had, a, small, son, called, Du...</td>\n",
       "      <td>[Dursleys, Dudley]</td>\n",
       "    </tr>\n",
       "    <tr>\n",
       "      <th>6</th>\n",
       "      <td>(The, Dursleys, had, everything, they, wanted,...</td>\n",
       "      <td>[]</td>\n",
       "    </tr>\n",
       "    <tr>\n",
       "      <th>7</th>\n",
       "      <td>(They, did, n't, think, they, could, bear, it,...</td>\n",
       "      <td>[Potters]</td>\n",
       "    </tr>\n",
       "    <tr>\n",
       "      <th>8</th>\n",
       "      <td>(Mrs., Potter, was, Mrs., Dursley, 's, sister,...</td>\n",
       "      <td>[Potter, Dursley, several years, Dursley]</td>\n",
       "    </tr>\n",
       "    <tr>\n",
       "      <th>9</th>\n",
       "      <td>(The, Dursleys, shuddered, to, think, what, th...</td>\n",
       "      <td>[Dursleys, Potters]</td>\n",
       "    </tr>\n",
       "  </tbody>\n",
       "</table>\n",
       "</div>"
      ],
      "text/plain": [
       "                                            sentence  \\\n",
       "0  (\", Text\"@\"Chapter\"@\"Book, \", \\n, \", THE, BOY,...   \n",
       "1  (They, were, the, last, people, you, 'd, expec...   \n",
       "2  (Mr., Dursley, was, the, director, of, a, firm...   \n",
       "3  (He, was, a, big, ,, beefy, man, with, hardly,...   \n",
       "4  (Mrs., Dursley, was, thin, and, blonde, and, h...   \n",
       "5  (The, Dursleys, had, a, small, son, called, Du...   \n",
       "6  (The, Dursleys, had, everything, they, wanted,...   \n",
       "7  (They, did, n't, think, they, could, bear, it,...   \n",
       "8  (Mrs., Potter, was, Mrs., Dursley, 's, sister,...   \n",
       "9  (The, Dursleys, shuddered, to, think, what, th...   \n",
       "\n",
       "                                            entities  \n",
       "0  [Text\"@\"Chapter\"@\"Book, THE BOY WHO, LIVED, Du...  \n",
       "1                                                 []  \n",
       "2                               [Dursley, Grunnings]  \n",
       "3                                                 []  \n",
       "4                                          [Dursley]  \n",
       "5                                 [Dursleys, Dudley]  \n",
       "6                                                 []  \n",
       "7                                          [Potters]  \n",
       "8          [Potter, Dursley, several years, Dursley]  \n",
       "9                                [Dursleys, Potters]  "
      ]
     },
     "execution_count": 12,
     "metadata": {},
     "output_type": "execute_result"
    }
   ],
   "source": [
    "sent_entity_df.head(10)"
   ]
  },
  {
   "cell_type": "code",
   "execution_count": 13,
   "id": "0d5f30cf-6df3-42af-8d96-20fc83723b75",
   "metadata": {},
   "outputs": [],
   "source": [
    "# Function to filter out non-character entities\n",
    "def filter_entity(ent_list, character_df):\n",
    "    return [ent for ent in ent_list \n",
    "            if ent in list(character_df.character_firstname)]"
   ]
  },
  {
   "cell_type": "code",
   "execution_count": 14,
   "id": "85436f13-f2e4-4d59-bf2f-feea5182bfff",
   "metadata": {},
   "outputs": [
    {
     "data": {
      "text/plain": [
       "['Harry']"
      ]
     },
     "execution_count": 14,
     "metadata": {},
     "output_type": "execute_result"
    }
   ],
   "source": [
    "filter_entity([\"Harry\", \"Aseem\", \"2\"], character_df)"
   ]
  },
  {
   "cell_type": "code",
   "execution_count": 15,
   "id": "7cc49b0c-9e0b-46e7-a614-3cb873ae420d",
   "metadata": {},
   "outputs": [
    {
     "data": {
      "text/html": [
       "<div>\n",
       "<style scoped>\n",
       "    .dataframe tbody tr th:only-of-type {\n",
       "        vertical-align: middle;\n",
       "    }\n",
       "\n",
       "    .dataframe tbody tr th {\n",
       "        vertical-align: top;\n",
       "    }\n",
       "\n",
       "    .dataframe thead th {\n",
       "        text-align: right;\n",
       "    }\n",
       "</style>\n",
       "<table border=\"1\" class=\"dataframe\">\n",
       "  <thead>\n",
       "    <tr style=\"text-align: right;\">\n",
       "      <th></th>\n",
       "      <th>sentence</th>\n",
       "      <th>entities</th>\n",
       "      <th>character_entities</th>\n",
       "    </tr>\n",
       "  </thead>\n",
       "  <tbody>\n",
       "    <tr>\n",
       "      <th>5</th>\n",
       "      <td>(The, Dursleys, had, a, small, son, called, Du...</td>\n",
       "      <td>[Dursleys, Dudley]</td>\n",
       "      <td>[Dudley]</td>\n",
       "    </tr>\n",
       "    <tr>\n",
       "      <th>11</th>\n",
       "      <td>(This, boy, was, another, good, reason, for, k...</td>\n",
       "      <td>[Potters, Dudley]</td>\n",
       "      <td>[Dudley]</td>\n",
       "    </tr>\n",
       "    <tr>\n",
       "      <th>13</th>\n",
       "      <td>(Mr., Dursley, hummed, as, he, picked, out, hi...</td>\n",
       "      <td>[Dursley, Dursley, Dudley]</td>\n",
       "      <td>[Dudley]</td>\n",
       "    </tr>\n",
       "    <tr>\n",
       "      <th>15</th>\n",
       "      <td>(At, half, past, eight, ,, Mr., Dursley, picke...</td>\n",
       "      <td>[Dursley, Dursley, Dudley, Dudley]</td>\n",
       "      <td>[Dudley, Dudley]</td>\n",
       "    </tr>\n",
       "    <tr>\n",
       "      <th>61</th>\n",
       "      <td>(He, was, sure, there, were, lots, of, people,...</td>\n",
       "      <td>[Harry]</td>\n",
       "      <td>[Harry]</td>\n",
       "    </tr>\n",
       "    <tr>\n",
       "      <th>62</th>\n",
       "      <td>(Come, to, think, of, it, ,, he, was, n't, eve...</td>\n",
       "      <td>[Harry]</td>\n",
       "      <td>[Harry]</td>\n",
       "    </tr>\n",
       "    <tr>\n",
       "      <th>92</th>\n",
       "      <td>(She, told, him, over, dinner, all, about, Mrs...</td>\n",
       "      <td>[Next Door, Dudley, \\\"Won't!\\]</td>\n",
       "      <td>[Dudley]</td>\n",
       "    </tr>\n",
       "    <tr>\n",
       "      <th>94</th>\n",
       "      <td>(When, Dudley, had, been, put, to, bed, ,, he,...</td>\n",
       "      <td>[Dudley, evening]</td>\n",
       "      <td>[Dudley]</td>\n",
       "    </tr>\n",
       "    <tr>\n",
       "      <th>111</th>\n",
       "      <td>(\\\"Er, --, Petunia, ,, dear, --, you, have, n'...</td>\n",
       "      <td>[Petunia]</td>\n",
       "      <td>[Petunia]</td>\n",
       "    </tr>\n",
       "    <tr>\n",
       "      <th>123</th>\n",
       "      <td>(Instead, he, said, ,, as, casually, as, he, c...</td>\n",
       "      <td>[Dudley, Dursley]</td>\n",
       "      <td>[Dudley]</td>\n",
       "    </tr>\n",
       "  </tbody>\n",
       "</table>\n",
       "</div>"
      ],
      "text/plain": [
       "                                              sentence  \\\n",
       "5    (The, Dursleys, had, a, small, son, called, Du...   \n",
       "11   (This, boy, was, another, good, reason, for, k...   \n",
       "13   (Mr., Dursley, hummed, as, he, picked, out, hi...   \n",
       "15   (At, half, past, eight, ,, Mr., Dursley, picke...   \n",
       "61   (He, was, sure, there, were, lots, of, people,...   \n",
       "62   (Come, to, think, of, it, ,, he, was, n't, eve...   \n",
       "92   (She, told, him, over, dinner, all, about, Mrs...   \n",
       "94   (When, Dudley, had, been, put, to, bed, ,, he,...   \n",
       "111  (\\\"Er, --, Petunia, ,, dear, --, you, have, n'...   \n",
       "123  (Instead, he, said, ,, as, casually, as, he, c...   \n",
       "\n",
       "                               entities character_entities  \n",
       "5                    [Dursleys, Dudley]           [Dudley]  \n",
       "11                    [Potters, Dudley]           [Dudley]  \n",
       "13           [Dursley, Dursley, Dudley]           [Dudley]  \n",
       "15   [Dursley, Dursley, Dudley, Dudley]   [Dudley, Dudley]  \n",
       "61                              [Harry]            [Harry]  \n",
       "62                              [Harry]            [Harry]  \n",
       "92       [Next Door, Dudley, \\\"Won't!\\]           [Dudley]  \n",
       "94                    [Dudley, evening]           [Dudley]  \n",
       "111                           [Petunia]          [Petunia]  \n",
       "123                   [Dudley, Dursley]           [Dudley]  "
      ]
     },
     "execution_count": 15,
     "metadata": {},
     "output_type": "execute_result"
    }
   ],
   "source": [
    "sent_entity_df['character_entities'] = sent_entity_df['entities'].apply(lambda x: filter_entity(x, character_df))\n",
    "\n",
    "# Filter out sentences that don't have any character entities\n",
    "sent_entity_df_filtered = sent_entity_df[sent_entity_df['character_entities'].map(len) > 0]\n",
    "sent_entity_df_filtered.head(10)"
   ]
  },
  {
   "cell_type": "markdown",
   "id": "c6eec20f-7620-41ef-9259-f052f8940152",
   "metadata": {
    "tags": []
   },
   "source": [
    "### **7. Creating Relationships**"
   ]
  },
  {
   "cell_type": "code",
   "execution_count": 16,
   "id": "b0c57594-1c5e-4311-ab2c-0772d6014a4b",
   "metadata": {},
   "outputs": [],
   "source": [
    "window_size = 5\n",
    "relationships = []\n",
    "\n",
    "for i in range(sent_entity_df_filtered.index[-1]):\n",
    "    end_i = min(i+5, sent_entity_df_filtered.index[-1])\n",
    "    char_list = sum((sent_entity_df_filtered.loc[i: end_i].character_entities), [])\n",
    "    \n",
    "    # Remove duplicate characters that are next to each other\n",
    "    char_unique = [char_list[i] for i in range(len(char_list)) \n",
    "                   if (i==0) or char_list[i] != char_list[i-1]]\n",
    "    \n",
    "    if len(char_unique) > 1:\n",
    "        for idx, a in enumerate(char_unique[:-1]):\n",
    "            b = char_unique[idx + 1]\n",
    "            relationships.append({\"source\": a, \"target\": b})"
   ]
  },
  {
   "cell_type": "code",
   "execution_count": 17,
   "id": "6af59147-2b76-4be1-a354-ec2bd266eecd",
   "metadata": {},
   "outputs": [
    {
     "data": {
      "text/html": [
       "<div>\n",
       "<style scoped>\n",
       "    .dataframe tbody tr th:only-of-type {\n",
       "        vertical-align: middle;\n",
       "    }\n",
       "\n",
       "    .dataframe tbody tr th {\n",
       "        vertical-align: top;\n",
       "    }\n",
       "\n",
       "    .dataframe thead th {\n",
       "        text-align: right;\n",
       "    }\n",
       "</style>\n",
       "<table border=\"1\" class=\"dataframe\">\n",
       "  <thead>\n",
       "    <tr style=\"text-align: right;\">\n",
       "      <th></th>\n",
       "      <th>source</th>\n",
       "      <th>target</th>\n",
       "    </tr>\n",
       "  </thead>\n",
       "  <tbody>\n",
       "    <tr>\n",
       "      <th>0</th>\n",
       "      <td>Dumbledore</td>\n",
       "      <td>Voldemort</td>\n",
       "    </tr>\n",
       "    <tr>\n",
       "      <th>1</th>\n",
       "      <td>Dumbledore</td>\n",
       "      <td>Voldemort</td>\n",
       "    </tr>\n",
       "    <tr>\n",
       "      <th>2</th>\n",
       "      <td>Dumbledore</td>\n",
       "      <td>Voldemort</td>\n",
       "    </tr>\n",
       "    <tr>\n",
       "      <th>3</th>\n",
       "      <td>Dumbledore</td>\n",
       "      <td>Voldemort</td>\n",
       "    </tr>\n",
       "    <tr>\n",
       "      <th>4</th>\n",
       "      <td>Voldemort</td>\n",
       "      <td>Dumbledore</td>\n",
       "    </tr>\n",
       "    <tr>\n",
       "      <th>5</th>\n",
       "      <td>Voldemort</td>\n",
       "      <td>Dumbledore</td>\n",
       "    </tr>\n",
       "    <tr>\n",
       "      <th>6</th>\n",
       "      <td>Voldemort</td>\n",
       "      <td>Dumbledore</td>\n",
       "    </tr>\n",
       "    <tr>\n",
       "      <th>7</th>\n",
       "      <td>Voldemort</td>\n",
       "      <td>Dumbledore</td>\n",
       "    </tr>\n",
       "    <tr>\n",
       "      <th>8</th>\n",
       "      <td>Voldemort</td>\n",
       "      <td>Dumbledore</td>\n",
       "    </tr>\n",
       "    <tr>\n",
       "      <th>9</th>\n",
       "      <td>Voldemort</td>\n",
       "      <td>Dumbledore</td>\n",
       "    </tr>\n",
       "    <tr>\n",
       "      <th>10</th>\n",
       "      <td>Dumbledore</td>\n",
       "      <td>Voldemort</td>\n",
       "    </tr>\n",
       "    <tr>\n",
       "      <th>11</th>\n",
       "      <td>Voldemort</td>\n",
       "      <td>Godric</td>\n",
       "    </tr>\n",
       "    <tr>\n",
       "      <th>12</th>\n",
       "      <td>Dumbledore</td>\n",
       "      <td>Voldemort</td>\n",
       "    </tr>\n",
       "    <tr>\n",
       "      <th>13</th>\n",
       "      <td>Voldemort</td>\n",
       "      <td>Godric</td>\n",
       "    </tr>\n",
       "    <tr>\n",
       "      <th>14</th>\n",
       "      <td>Dumbledore</td>\n",
       "      <td>Voldemort</td>\n",
       "    </tr>\n",
       "    <tr>\n",
       "      <th>15</th>\n",
       "      <td>Voldemort</td>\n",
       "      <td>Godric</td>\n",
       "    </tr>\n",
       "    <tr>\n",
       "      <th>16</th>\n",
       "      <td>Godric</td>\n",
       "      <td>Lily</td>\n",
       "    </tr>\n",
       "    <tr>\n",
       "      <th>17</th>\n",
       "      <td>Dumbledore</td>\n",
       "      <td>Voldemort</td>\n",
       "    </tr>\n",
       "    <tr>\n",
       "      <th>18</th>\n",
       "      <td>Voldemort</td>\n",
       "      <td>Godric</td>\n",
       "    </tr>\n",
       "    <tr>\n",
       "      <th>19</th>\n",
       "      <td>Godric</td>\n",
       "      <td>Lily</td>\n",
       "    </tr>\n",
       "  </tbody>\n",
       "</table>\n",
       "</div>"
      ],
      "text/plain": [
       "        source      target\n",
       "0   Dumbledore   Voldemort\n",
       "1   Dumbledore   Voldemort\n",
       "2   Dumbledore   Voldemort\n",
       "3   Dumbledore   Voldemort\n",
       "4    Voldemort  Dumbledore\n",
       "5    Voldemort  Dumbledore\n",
       "6    Voldemort  Dumbledore\n",
       "7    Voldemort  Dumbledore\n",
       "8    Voldemort  Dumbledore\n",
       "9    Voldemort  Dumbledore\n",
       "10  Dumbledore   Voldemort\n",
       "11   Voldemort      Godric\n",
       "12  Dumbledore   Voldemort\n",
       "13   Voldemort      Godric\n",
       "14  Dumbledore   Voldemort\n",
       "15   Voldemort      Godric\n",
       "16      Godric        Lily\n",
       "17  Dumbledore   Voldemort\n",
       "18   Voldemort      Godric\n",
       "19      Godric        Lily"
      ]
     },
     "execution_count": 17,
     "metadata": {},
     "output_type": "execute_result"
    }
   ],
   "source": [
    "relationship_df = pd.DataFrame(relationships)\n",
    "pd.set_option('display.max_rows', None)\n",
    "relationship_df.head(20)"
   ]
  },
  {
   "cell_type": "code",
   "execution_count": 18,
   "id": "c698851f-b1fe-4c12-8bfe-04a0dbabeef7",
   "metadata": {},
   "outputs": [
    {
     "data": {
      "text/html": [
       "<div>\n",
       "<style scoped>\n",
       "    .dataframe tbody tr th:only-of-type {\n",
       "        vertical-align: middle;\n",
       "    }\n",
       "\n",
       "    .dataframe tbody tr th {\n",
       "        vertical-align: top;\n",
       "    }\n",
       "\n",
       "    .dataframe thead th {\n",
       "        text-align: right;\n",
       "    }\n",
       "</style>\n",
       "<table border=\"1\" class=\"dataframe\">\n",
       "  <thead>\n",
       "    <tr style=\"text-align: right;\">\n",
       "      <th></th>\n",
       "      <th>source</th>\n",
       "      <th>target</th>\n",
       "    </tr>\n",
       "  </thead>\n",
       "  <tbody>\n",
       "    <tr>\n",
       "      <th>0</th>\n",
       "      <td>Dumbledore</td>\n",
       "      <td>Voldemort</td>\n",
       "    </tr>\n",
       "    <tr>\n",
       "      <th>1</th>\n",
       "      <td>Dumbledore</td>\n",
       "      <td>Voldemort</td>\n",
       "    </tr>\n",
       "    <tr>\n",
       "      <th>2</th>\n",
       "      <td>Dumbledore</td>\n",
       "      <td>Voldemort</td>\n",
       "    </tr>\n",
       "    <tr>\n",
       "      <th>3</th>\n",
       "      <td>Dumbledore</td>\n",
       "      <td>Voldemort</td>\n",
       "    </tr>\n",
       "    <tr>\n",
       "      <th>4</th>\n",
       "      <td>Dumbledore</td>\n",
       "      <td>Voldemort</td>\n",
       "    </tr>\n",
       "    <tr>\n",
       "      <th>5</th>\n",
       "      <td>Dumbledore</td>\n",
       "      <td>Voldemort</td>\n",
       "    </tr>\n",
       "    <tr>\n",
       "      <th>6</th>\n",
       "      <td>Dumbledore</td>\n",
       "      <td>Voldemort</td>\n",
       "    </tr>\n",
       "    <tr>\n",
       "      <th>7</th>\n",
       "      <td>Dumbledore</td>\n",
       "      <td>Voldemort</td>\n",
       "    </tr>\n",
       "    <tr>\n",
       "      <th>8</th>\n",
       "      <td>Dumbledore</td>\n",
       "      <td>Voldemort</td>\n",
       "    </tr>\n",
       "    <tr>\n",
       "      <th>9</th>\n",
       "      <td>Dumbledore</td>\n",
       "      <td>Voldemort</td>\n",
       "    </tr>\n",
       "  </tbody>\n",
       "</table>\n",
       "</div>"
      ],
      "text/plain": [
       "       source     target\n",
       "0  Dumbledore  Voldemort\n",
       "1  Dumbledore  Voldemort\n",
       "2  Dumbledore  Voldemort\n",
       "3  Dumbledore  Voldemort\n",
       "4  Dumbledore  Voldemort\n",
       "5  Dumbledore  Voldemort\n",
       "6  Dumbledore  Voldemort\n",
       "7  Dumbledore  Voldemort\n",
       "8  Dumbledore  Voldemort\n",
       "9  Dumbledore  Voldemort"
      ]
     },
     "execution_count": 18,
     "metadata": {},
     "output_type": "execute_result"
    }
   ],
   "source": [
    "relationship_df = pd.DataFrame(np.sort(relationship_df.values, axis = 1), columns = relationship_df.columns)\n",
    "relationship_df.head(10)"
   ]
  },
  {
   "cell_type": "code",
   "execution_count": 19,
   "id": "07975720-f29d-4e9d-8145-ac1745b0883f",
   "metadata": {},
   "outputs": [],
   "source": [
    "relationship_df[\"value\"] = 1\n",
    "relationship_df = relationship_df.groupby([\"source\",\"target\"], sort=False, as_index=False).sum()"
   ]
  },
  {
   "cell_type": "code",
   "execution_count": 20,
   "id": "7f1b037b-7a65-4de0-8113-d1414f080d9c",
   "metadata": {},
   "outputs": [
    {
     "name": "stdout",
     "output_type": "stream",
     "text": [
      "152\n"
     ]
    },
    {
     "data": {
      "text/html": [
       "<div>\n",
       "<style scoped>\n",
       "    .dataframe tbody tr th:only-of-type {\n",
       "        vertical-align: middle;\n",
       "    }\n",
       "\n",
       "    .dataframe tbody tr th {\n",
       "        vertical-align: top;\n",
       "    }\n",
       "\n",
       "    .dataframe thead th {\n",
       "        text-align: right;\n",
       "    }\n",
       "</style>\n",
       "<table border=\"1\" class=\"dataframe\">\n",
       "  <thead>\n",
       "    <tr style=\"text-align: right;\">\n",
       "      <th></th>\n",
       "      <th>source</th>\n",
       "      <th>target</th>\n",
       "      <th>value</th>\n",
       "    </tr>\n",
       "  </thead>\n",
       "  <tbody>\n",
       "    <tr>\n",
       "      <th>0</th>\n",
       "      <td>Dumbledore</td>\n",
       "      <td>Voldemort</td>\n",
       "      <td>36</td>\n",
       "    </tr>\n",
       "    <tr>\n",
       "      <th>1</th>\n",
       "      <td>Godric</td>\n",
       "      <td>Voldemort</td>\n",
       "      <td>6</td>\n",
       "    </tr>\n",
       "    <tr>\n",
       "      <th>2</th>\n",
       "      <td>Godric</td>\n",
       "      <td>Lily</td>\n",
       "      <td>4</td>\n",
       "    </tr>\n",
       "    <tr>\n",
       "      <th>3</th>\n",
       "      <td>Dumbledore</td>\n",
       "      <td>Lily</td>\n",
       "      <td>4</td>\n",
       "    </tr>\n",
       "    <tr>\n",
       "      <th>4</th>\n",
       "      <td>Dumbledore</td>\n",
       "      <td>James</td>\n",
       "      <td>5</td>\n",
       "    </tr>\n",
       "    <tr>\n",
       "      <th>5</th>\n",
       "      <td>Albus</td>\n",
       "      <td>James</td>\n",
       "      <td>3</td>\n",
       "    </tr>\n",
       "    <tr>\n",
       "      <th>6</th>\n",
       "      <td>Albus</td>\n",
       "      <td>Dumbledore</td>\n",
       "      <td>6</td>\n",
       "    </tr>\n",
       "    <tr>\n",
       "      <th>7</th>\n",
       "      <td>Dumbledore</td>\n",
       "      <td>Harry</td>\n",
       "      <td>377</td>\n",
       "    </tr>\n",
       "    <tr>\n",
       "      <th>8</th>\n",
       "      <td>Harry</td>\n",
       "      <td>Voldemort</td>\n",
       "      <td>95</td>\n",
       "    </tr>\n",
       "    <tr>\n",
       "      <th>9</th>\n",
       "      <td>Hagrid</td>\n",
       "      <td>Harry</td>\n",
       "      <td>931</td>\n",
       "    </tr>\n",
       "  </tbody>\n",
       "</table>\n",
       "</div>"
      ],
      "text/plain": [
       "       source      target  value\n",
       "0  Dumbledore   Voldemort     36\n",
       "1      Godric   Voldemort      6\n",
       "2      Godric        Lily      4\n",
       "3  Dumbledore        Lily      4\n",
       "4  Dumbledore       James      5\n",
       "5       Albus       James      3\n",
       "6       Albus  Dumbledore      6\n",
       "7  Dumbledore       Harry    377\n",
       "8       Harry   Voldemort     95\n",
       "9      Hagrid       Harry    931"
      ]
     },
     "execution_count": 20,
     "metadata": {},
     "output_type": "execute_result"
    }
   ],
   "source": [
    "print(len(relationship_df))\n",
    "relationship_df.head(10)"
   ]
  },
  {
   "cell_type": "markdown",
   "id": "d38fc805-8550-4f1f-82c5-61bc5e036e48",
   "metadata": {
    "tags": []
   },
   "source": [
    "### **8. Graph Vizualization**"
   ]
  },
  {
   "cell_type": "code",
   "execution_count": 21,
   "id": "5331a3a9-1ceb-458d-b662-6d329fb612cb",
   "metadata": {},
   "outputs": [],
   "source": [
    "# Create a graph from a pandas dataframe\n",
    "G = nx.from_pandas_edgelist(relationship_df, \n",
    "                            source = \"source\", \n",
    "                            target = \"target\", \n",
    "                            edge_attr = \"value\", \n",
    "                            create_using = nx.Graph())"
   ]
  },
  {
   "cell_type": "code",
   "execution_count": 22,
   "id": "70eb5103-c529-450a-880d-bede85640954",
   "metadata": {},
   "outputs": [
    {
     "data": {
      "image/png": "[encoded data removed]",
      "text/plain": [
       "<Figure size 720x720 with 1 Axes>"
      ]
     },
     "metadata": {},
     "output_type": "display_data"
    }
   ],
   "source": [
    "plt.figure(figsize=(10,10))\n",
    "pos = nx.kamada_kawai_layout(G)\n",
    "nx.draw(G, with_labels=True, node_color='skyblue', edge_cmap=plt.cm.Blues, pos = pos)\n",
    "plt.show()"
   ]
  },
  {
   "cell_type": "code",
   "execution_count": 23,
   "id": "4c3b36a3-8685-4d96-9ea0-469a831b7f85",
   "metadata": {},
   "outputs": [
    {
     "name": "stdout",
     "output_type": "stream",
     "text": [
      "Warning: When  cdn_resources is 'local' jupyter notebook has issues displaying graphics on chrome/safari. Use cdn_resources='in_line' or cdn_resources='remote' if you have issues viewing graphics in a notebook.\n",
      "harry.html\n"
     ]
    },
    {
     "data": {
      "text/html": [
       "\n",
       "        <iframe\n",
       "            width=\"1000px\"\n",
       "            height=\"700px\"\n",
       "            src=\"harry.html\"\n",
       "            frameborder=\"0\"\n",
       "            allowfullscreen\n",
       "            \n",
       "        ></iframe>\n",
       "        "
      ],
      "text/plain": [
       "<IPython.lib.display.IFrame at 0x1a0d5b1add0>"
      ]
     },
     "execution_count": 23,
     "metadata": {},
     "output_type": "execute_result"
    }
   ],
   "source": [
    "from pyvis.network import Network\n",
    "net = Network(notebook = True, width=\"1000px\", height=\"700px\", bgcolor='#222222', font_color='white')\n",
    "\n",
    "node_degree = dict(G.degree)\n",
    "\n",
    "#Setting up node size attribute\n",
    "nx.set_node_attributes(G, node_degree, 'size')\n",
    "\n",
    "net.from_nx(G)\n",
    "net.show(\"harry.html\")"
   ]
  },
  {
   "cell_type": "code",
   "execution_count": 24,
   "id": "291d3bbc-1d3f-45e8-95c0-52677bc13148",
   "metadata": {},
   "outputs": [
    {
     "data": {
      "text/plain": [
       "{'Dumbledore': 17,\n",
       " 'Voldemort': 9,\n",
       " 'Godric': 2,\n",
       " 'Lily': 5,\n",
       " 'James': 4,\n",
       " 'Albus': 4,\n",
       " 'Harry': 38,\n",
       " 'Hagrid': 23,\n",
       " 'Dudley': 9,\n",
       " 'Petunia': 3,\n",
       " 'Vernon': 6,\n",
       " 'Dennis': 1,\n",
       " 'Marge': 3,\n",
       " 'Griphook': 3,\n",
       " 'Hedwig': 3,\n",
       " 'Ginny': 4,\n",
       " 'Percy': 8,\n",
       " 'Fred': 5,\n",
       " 'Ron': 24,\n",
       " 'Lee': 1,\n",
       " 'Bill': 4,\n",
       " 'Charlie': 8,\n",
       " 'Neville': 15,\n",
       " 'Scabbers': 3,\n",
       " 'Malfoy': 12,\n",
       " 'Goyle': 5,\n",
       " 'Hermione': 8,\n",
       " 'Hannah': 3,\n",
       " 'Susan': 2,\n",
       " 'Terry': 2,\n",
       " 'Seamus': 6,\n",
       " 'Snape': 12,\n",
       " 'Peeves': 7,\n",
       " 'Fang': 5,\n",
       " 'Dean': 3,\n",
       " 'Oliver': 1,\n",
       " 'Angelina': 1,\n",
       " 'Fluffy': 8,\n",
       " 'Norbert': 7,\n",
       " 'Ronan': 4,\n",
       " 'Bane': 7,\n",
       " 'Firenze': 6,\n",
       " 'Trevor': 1,\n",
       " 'Nicolas': 2}"
      ]
     },
     "execution_count": 24,
     "metadata": {},
     "output_type": "execute_result"
    }
   ],
   "source": [
    "dict(G.degree)"
   ]
  },
  {
   "cell_type": "code",
   "execution_count": 25,
   "id": "97a0f397-5124-4331-bb25-48b0d1cd1df8",
   "metadata": {},
   "outputs": [
    {
     "data": {
      "text/plain": [
       "{'Dumbledore': 0.3953488372093023,\n",
       " 'Voldemort': 0.20930232558139533,\n",
       " 'Godric': 0.046511627906976744,\n",
       " 'Lily': 0.11627906976744186,\n",
       " 'James': 0.09302325581395349,\n",
       " 'Albus': 0.09302325581395349,\n",
       " 'Harry': 0.8837209302325582,\n",
       " 'Hagrid': 0.5348837209302325,\n",
       " 'Dudley': 0.20930232558139533,\n",
       " 'Petunia': 0.06976744186046512,\n",
       " 'Vernon': 0.13953488372093023,\n",
       " 'Dennis': 0.023255813953488372,\n",
       " 'Marge': 0.06976744186046512,\n",
       " 'Griphook': 0.06976744186046512,\n",
       " 'Hedwig': 0.06976744186046512,\n",
       " 'Ginny': 0.09302325581395349,\n",
       " 'Percy': 0.18604651162790697,\n",
       " 'Fred': 0.11627906976744186,\n",
       " 'Ron': 0.5581395348837209,\n",
       " 'Lee': 0.023255813953488372,\n",
       " 'Bill': 0.09302325581395349,\n",
       " 'Charlie': 0.18604651162790697,\n",
       " 'Neville': 0.3488372093023256,\n",
       " 'Scabbers': 0.06976744186046512,\n",
       " 'Malfoy': 0.27906976744186046,\n",
       " 'Goyle': 0.11627906976744186,\n",
       " 'Hermione': 0.18604651162790697,\n",
       " 'Hannah': 0.06976744186046512,\n",
       " 'Susan': 0.046511627906976744,\n",
       " 'Terry': 0.046511627906976744,\n",
       " 'Seamus': 0.13953488372093023,\n",
       " 'Snape': 0.27906976744186046,\n",
       " 'Peeves': 0.16279069767441862,\n",
       " 'Fang': 0.11627906976744186,\n",
       " 'Dean': 0.06976744186046512,\n",
       " 'Oliver': 0.023255813953488372,\n",
       " 'Angelina': 0.023255813953488372,\n",
       " 'Fluffy': 0.18604651162790697,\n",
       " 'Norbert': 0.16279069767441862,\n",
       " 'Ronan': 0.09302325581395349,\n",
       " 'Bane': 0.16279069767441862,\n",
       " 'Firenze': 0.13953488372093023,\n",
       " 'Trevor': 0.023255813953488372,\n",
       " 'Nicolas': 0.046511627906976744}"
      ]
     },
     "execution_count": 25,
     "metadata": {},
     "output_type": "execute_result"
    }
   ],
   "source": [
    "degree_dict = nx.degree_centrality(G)\n",
    "degree_dict"
   ]
  },
  {
   "cell_type": "code",
   "execution_count": 26,
   "id": "e7f14b2e-edf1-45e9-8bc6-a7d875792405",
   "metadata": {},
   "outputs": [
    {
     "data": {
      "text/plain": [
       "<AxesSubplot:>"
      ]
     },
     "execution_count": 26,
     "metadata": {},
     "output_type": "execute_result"
    },
    {
     "data": {
      "image/png": "[encoded data removed]",
      "text/plain": [
       "<Figure size 432x288 with 1 Axes>"
      ]
     },
     "metadata": {},
     "output_type": "display_data"
    }
   ],
   "source": [
    "degree_df = pd.DataFrame.from_dict(degree_dict, orient='index', columns=['centrality'])\n",
    "# Plot top 10 nodes\n",
    "degree_df.sort_values('centrality', ascending=False)[0:9].plot(kind=\"bar\")"
   ]
  },
  {
   "cell_type": "code",
   "execution_count": 27,
   "id": "227169f8-b9d8-445f-ba9e-cadeb1f96157",
   "metadata": {},
   "outputs": [
    {
     "data": {
      "text/plain": [
       "<AxesSubplot:>"
      ]
     },
     "execution_count": 27,
     "metadata": {},
     "output_type": "execute_result"
    },
    {
     "data": {
      "image/png": "[encoded data removed]",
      "text/plain": [
       "<Figure size 432x288 with 1 Axes>"
      ]
     },
     "metadata": {},
     "output_type": "display_data"
    }
   ],
   "source": [
    "# Betweenness centrality\n",
    "betweenness_dict = nx.betweenness_centrality(G)\n",
    "betweenness_df = pd.DataFrame.from_dict(betweenness_dict, orient='index', columns=['centrality'])\n",
    "# Plot top 10 nodes\n",
    "betweenness_df.sort_values('centrality', ascending=False)[0:9].plot(kind=\"bar\")"
   ]
  },
  {
   "cell_type": "code",
   "execution_count": 28,
   "id": "52307b39-2c6f-467d-b87f-9c3172979191",
   "metadata": {},
   "outputs": [
    {
     "data": {
      "text/plain": [
       "<AxesSubplot:>"
      ]
     },
     "execution_count": 28,
     "metadata": {},
     "output_type": "execute_result"
    },
    {
     "data": {
      "image/png": "[encoded data removed]",
      "text/plain": [
       "<Figure size 432x288 with 1 Axes>"
      ]
     },
     "metadata": {},
     "output_type": "display_data"
    }
   ],
   "source": [
    "# Closeness centrality\n",
    "closeness_dict = nx.closeness_centrality(G)\n",
    "closeness_df = pd.DataFrame.from_dict(closeness_dict, orient='index', columns=['centrality'])\n",
    "# Plot top 10 nodes\n",
    "closeness_df.sort_values('centrality', ascending=False)[0:9].plot(kind=\"bar\")"
   ]
  },
  {
   "cell_type": "code",
   "execution_count": 29,
   "id": "5cc29c8b-733e-4fcc-85f3-a5428fa75736",
   "metadata": {},
   "outputs": [],
   "source": [
    "# Save centrality measures\n",
    "nx.set_node_attributes(G, degree_dict, 'degree_centrality')\n",
    "nx.set_node_attributes(G, betweenness_dict, 'betweenness_centrality')\n",
    "nx.set_node_attributes(G, closeness_dict, 'closeness_centrality')"
   ]
  },
  {
   "cell_type": "markdown",
   "id": "fe6981b2-c872-4eae-bbd3-01ede39dea6b",
   "metadata": {},
   "source": [
    "### **9. Community Vizualization**"
   ]
  },
  {
   "cell_type": "code",
   "execution_count": 30,
   "id": "ce46d7e5-3c71-44a6-b88c-101390a93996",
   "metadata": {},
   "outputs": [],
   "source": [
    "import community.community_louvain as community_louvain"
   ]
  },
  {
   "cell_type": "code",
   "execution_count": 31,
   "id": "d87c8ebb-19f0-43c3-a578-185bcaa3d887",
   "metadata": {},
   "outputs": [
    {
     "data": {
      "text/plain": [
       "{'Dumbledore': 1,\n",
       " 'Voldemort': 1,\n",
       " 'Godric': 1,\n",
       " 'Lily': 1,\n",
       " 'James': 1,\n",
       " 'Albus': 1,\n",
       " 'Harry': 0,\n",
       " 'Hagrid': 1,\n",
       " 'Dudley': 0,\n",
       " 'Petunia': 0,\n",
       " 'Vernon': 0,\n",
       " 'Dennis': 0,\n",
       " 'Marge': 0,\n",
       " 'Griphook': 1,\n",
       " 'Hedwig': 2,\n",
       " 'Ginny': 2,\n",
       " 'Percy': 2,\n",
       " 'Fred': 2,\n",
       " 'Ron': 2,\n",
       " 'Lee': 0,\n",
       " 'Bill': 2,\n",
       " 'Charlie': 2,\n",
       " 'Neville': 3,\n",
       " 'Scabbers': 0,\n",
       " 'Malfoy': 3,\n",
       " 'Goyle': 3,\n",
       " 'Hermione': 1,\n",
       " 'Hannah': 0,\n",
       " 'Susan': 0,\n",
       " 'Terry': 0,\n",
       " 'Seamus': 3,\n",
       " 'Snape': 3,\n",
       " 'Peeves': 3,\n",
       " 'Fang': 3,\n",
       " 'Dean': 0,\n",
       " 'Oliver': 2,\n",
       " 'Angelina': 0,\n",
       " 'Fluffy': 1,\n",
       " 'Norbert': 3,\n",
       " 'Ronan': 1,\n",
       " 'Bane': 1,\n",
       " 'Firenze': 1,\n",
       " 'Trevor': 3,\n",
       " 'Nicolas': 0}"
      ]
     },
     "execution_count": 31,
     "metadata": {},
     "output_type": "execute_result"
    }
   ],
   "source": [
    "communities = community_louvain.best_partition(G)\n",
    "communities"
   ]
  },
  {
   "cell_type": "code",
   "execution_count": 32,
   "id": "d8abea8d-993c-4f93-a804-f2f7ebf5d146",
   "metadata": {},
   "outputs": [],
   "source": [
    "nx.set_node_attributes(G, communities, 'group')"
   ]
  },
  {
   "cell_type": "code",
   "execution_count": 33,
   "id": "19290656-05a7-447c-ac4a-0ebb122d36af",
   "metadata": {},
   "outputs": [
    {
     "name": "stdout",
     "output_type": "stream",
     "text": [
      "Warning: When  cdn_resources is 'local' jupyter notebook has issues displaying graphics on chrome/safari. Use cdn_resources='in_line' or cdn_resources='remote' if you have issues viewing graphics in a notebook.\n",
      "harry_community1.html\n"
     ]
    },
    {
     "data": {
      "text/html": [
       "\n",
       "        <iframe\n",
       "            width=\"1500px\"\n",
       "            height=\"1000px\"\n",
       "            src=\"harry_community1.html\"\n",
       "            frameborder=\"0\"\n",
       "            allowfullscreen\n",
       "            \n",
       "        ></iframe>\n",
       "        "
      ],
      "text/plain": [
       "<IPython.lib.display.IFrame at 0x2b99c8c8cd0>"
      ]
     },
     "execution_count": 33,
     "metadata": {},
     "output_type": "execute_result"
    }
   ],
   "source": [
    "com_net = Network(notebook = True, width=\"1500px\", height=\"1000px\", bgcolor='#222222', font_color='white')\n",
    "com_net.from_nx(G)\n",
    "com_net.show_buttons(filter_=\"physics\")\n",
    "com_net.show(\"harry_community1.html\")"
   ]
  },
  {
   "cell_type": "code",
   "execution_count": null,
   "id": "743e6817-a3e0-459e-9681-5551dd9dee34",
   "metadata": {},
   "outputs": [],
   "source": [
    "1: ['Dumbledore', 'Voldemort', 'Godric', 'Lily', 'James', 'Albus', 'Hagrid', 'Griphook', 'Fluffy', 'Ronan', 'Bane', 'Firenze'], \n",
    "0: ['Harry', 'Dudley', 'Petunia', 'Vernon', 'Dennis', 'Marge', 'Lee', 'Hannah', 'Susan', 'Terry', 'Scabbers', 'Angelina']\n",
    "2: ['Hedwig', 'Ginny', 'Percy', 'Fred', 'Ron', 'Bill', 'Charlie', 'Oliver'], \n",
    "3: ['Neville', 'Malfoy', 'Goyle', 'Seamus', 'Snape', 'Peeves', 'Fang', 'Norbert', 'Trevor']}"
   ]
  }
 ],
 "metadata": {
  "kernelspec": {
   "display_name": "Python 3 (ipykernel)",
   "language": "python",
   "name": "python3"
  },
  "language_info": {
   "codemirror_mode": {
    "name": "ipython",
    "version": 3
   },
   "file_extension": ".py",
   "mimetype": "text/x-python",
   "name": "python",
   "nbconvert_exporter": "python",
   "pygments_lexer": "ipython3",
   "version": "3.10.0"
  }
 },
 "nbformat": 4,
 "nbformat_minor": 5
}
