{
 "cells": [
  {
   "cell_type": "markdown",
   "id": "b3c14f36-731e-4141-ab16-7f1feb43af39",
   "metadata": {},
   "source": [
    "# **NLP Mini Project: Relationship Extraction and Visualization on Harray potter books**"
   ]
  },
  {
   "cell_type": "markdown",
   "id": "a87d8ec7-7139-4ea9-8c48-ab8df3d5c2f1",
   "metadata": {},
   "source": [
    "### **1. Importing the necessary libraries**"
   ]
  },
  {
   "cell_type": "code",
   "execution_count": 40,
   "id": "41c148e7-a803-4516-b1c4-04b3c6fe8279",
   "metadata": {},
   "outputs": [],
   "source": [
    "import re\n",
    "import os\n",
    "import nltk\n",
    "import spacy\n",
    "import string\n",
    "import time\n",
    "import logging\n",
    "import numpy as np\n",
    "import seaborn as sns\n",
    "import networkx as nx\n",
    "import pandas as pd\n",
    "from spacy import displacy\n",
    "from selenium import webdriver\n",
    "import matplotlib.pyplot as plt\n",
    "from nltk import word_tokenize\n",
    "from nltk.corpus import stopwords \n",
    "from webdriver_manager.chrome import ChromeDriverManager\n",
    "from selenium.webdriver.common.by import By\n",
    "from selenium.webdriver.chrome.service import Service\n",
    "from selenium.webdriver.chrome.options import Options\n",
    "\n",
    "%matplotlib inline\n",
    "sns.set_style('darkgrid')"
   ]
  },
  {
   "cell_type": "markdown",
   "id": "fe83d8fd-66cf-428e-b143-f73c164e2c39",
   "metadata": {},
   "source": [
    "### **2. Scraping the list of characters in the HP books**"
   ]
  },
  {
   "cell_type": "code",
   "execution_count": 6,
   "id": "d5e825c7-d8fc-4c38-a501-2b8f06665232",
   "metadata": {},
   "outputs": [],
   "source": [
    "webdriver_service = Service(ChromeDriverManager().install())\n",
    "driver = webdriver.Chrome(service = webdriver_service)\n",
    "\n",
    "page_url = 'https://fantasytopics.com/harry-potter-characters-list/'\n",
    "driver.get(page_url)"
   ]
  },
  {
   "cell_type": "code",
   "execution_count": 76,
   "id": "fef0fe37-909c-4282-937c-c0090d9496fb",
   "metadata": {},
   "outputs": [],
   "source": [
    "names_list = driver.find_elements(by=By.CLASS_NAME, value='has-text-align-center')\n",
    "final_names = []\n",
    "\n",
    "for name in names_list:\n",
    "    if len(name.text)>1:\n",
    "        final_names.append(name.text)"
   ]
  },
  {
   "cell_type": "code",
   "execution_count": 83,
   "id": "3aee08b8-2840-484b-b3ec-2f5b439379e9",
   "metadata": {},
   "outputs": [
    {
     "data": {
      "text/html": [
       "<div>\n",
       "<style scoped>\n",
       "    .dataframe tbody tr th:only-of-type {\n",
       "        vertical-align: middle;\n",
       "    }\n",
       "\n",
       "    .dataframe tbody tr th {\n",
       "        vertical-align: top;\n",
       "    }\n",
       "\n",
       "    .dataframe thead th {\n",
       "        text-align: right;\n",
       "    }\n",
       "</style>\n",
       "<table border=\"1\" class=\"dataframe\">\n",
       "  <thead>\n",
       "    <tr style=\"text-align: right;\">\n",
       "      <th></th>\n",
       "      <th>0</th>\n",
       "    </tr>\n",
       "  </thead>\n",
       "  <tbody>\n",
       "    <tr>\n",
       "      <th>0</th>\n",
       "      <td>Hannah Abbott</td>\n",
       "    </tr>\n",
       "    <tr>\n",
       "      <th>1</th>\n",
       "      <td>Aragog</td>\n",
       "    </tr>\n",
       "    <tr>\n",
       "      <th>2</th>\n",
       "      <td>Ludo Bagman</td>\n",
       "    </tr>\n",
       "    <tr>\n",
       "      <th>3</th>\n",
       "      <td>Bathilda Bagshot</td>\n",
       "    </tr>\n",
       "    <tr>\n",
       "      <th>4</th>\n",
       "      <td>Bane (Centaur)</td>\n",
       "    </tr>\n",
       "  </tbody>\n",
       "</table>\n",
       "</div>"
      ],
      "text/plain": [
       "                  0\n",
       "0    Hannah Abbott \n",
       "1            Aragog\n",
       "2       Ludo Bagman\n",
       "3  Bathilda Bagshot\n",
       "4    Bane (Centaur)"
      ]
     },
     "execution_count": 83,
     "metadata": {},
     "output_type": "execute_result"
    }
   ],
   "source": [
    "character_df = pd.DataFrame(final_names)\n",
    "character_df.to_csv('characters.csv')\n",
    "character_df.head()"
   ]
  },
  {
   "cell_type": "markdown",
   "id": "dbc1b73c-9e70-4008-bb7f-1e94e824529e",
   "metadata": {},
   "source": [
    "### **3. Exploratory Data Analysis**"
   ]
  },
  {
   "cell_type": "code",
   "execution_count": 48,
   "id": "c5e869c9-3360-42eb-b843-5f56c87984e0",
   "metadata": {},
   "outputs": [],
   "source": [
    "Bookfile = [] \n",
    "\n",
    "# Loops through importing 7 HP text files - Book 1 creates table, Books 2-7 append to Book 1 table\n",
    "for i in range(1,8): \n",
    "    Bookfile.append('HPBook'+str(i)+'.txt')\n",
    "    FileLoc = \"C://Users/aseem/Downloads/Final Year/NLP/Harry-Potter/Book_Text/{}\".format(Bookfile[i-1])\n",
    "    if i == 1:\n",
    "        df = pd.read_csv(FileLoc, sep=\"@\")\n",
    "    else:\n",
    "        df2 = pd.read_csv(FileLoc, sep=\"@\")\n",
    "        df = pd.concat([df, df2])"
   ]
  },
  {
   "cell_type": "code",
   "execution_count": 49,
   "id": "b534387e-eddb-41ac-9cae-37b8ef83f69c",
   "metadata": {},
   "outputs": [
    {
     "name": "stderr",
     "output_type": "stream",
     "text": [
      "[nltk_data] Downloading package punkt to\n",
      "[nltk_data]     C:\\Users\\aseem\\AppData\\Roaming\\nltk_data...\n",
      "[nltk_data]   Package punkt is already up-to-date!\n"
     ]
    }
   ],
   "source": [
    "nltk.download('punkt') \n",
    "stopwords = set(stopwords.words('english')) \n",
    "\n",
    "def remove_punctuations(text):\n",
    "    for punctuation in string.punctuation:\n",
    "        text = text.replace(punctuation, '')\n",
    "    return text\n",
    "\n",
    "stopwords = [''.join(item for item in x if item not in string.punctuation) for x in stopwords] #Remove punctuation from stopwords"
   ]
  },
  {
   "cell_type": "code",
   "execution_count": 50,
   "id": "6205187b-e231-4705-8252-78585d506947",
   "metadata": {},
   "outputs": [
    {
     "data": {
      "text/html": [
       "<div>\n",
       "<style scoped>\n",
       "    .dataframe tbody tr th:only-of-type {\n",
       "        vertical-align: middle;\n",
       "    }\n",
       "\n",
       "    .dataframe tbody tr th {\n",
       "        vertical-align: top;\n",
       "    }\n",
       "\n",
       "    .dataframe thead th {\n",
       "        text-align: right;\n",
       "    }\n",
       "</style>\n",
       "<table border=\"1\" class=\"dataframe\">\n",
       "  <thead>\n",
       "    <tr style=\"text-align: right;\">\n",
       "      <th></th>\n",
       "      <th>index</th>\n",
       "      <th>Text</th>\n",
       "      <th>Chapter</th>\n",
       "      <th>Book</th>\n",
       "      <th>WordCountText</th>\n",
       "      <th>WordCount</th>\n",
       "    </tr>\n",
       "  </thead>\n",
       "  <tbody>\n",
       "    <tr>\n",
       "      <th>0</th>\n",
       "      <td>0</td>\n",
       "      <td>THE BOY WHO LIVED  Mr. and Mrs. Dursley, of nu...</td>\n",
       "      <td>1</td>\n",
       "      <td>1</td>\n",
       "      <td>[the, boy, who, lived, mr, and, mrs, dursley, ...</td>\n",
       "      <td>4591</td>\n",
       "    </tr>\n",
       "    <tr>\n",
       "      <th>1</th>\n",
       "      <td>1</td>\n",
       "      <td>THE VANISHING GLASS  Nearly ten years had pass...</td>\n",
       "      <td>2</td>\n",
       "      <td>1</td>\n",
       "      <td>[the, vanishing, glass, nearly, ten, years, ha...</td>\n",
       "      <td>3445</td>\n",
       "    </tr>\n",
       "    <tr>\n",
       "      <th>2</th>\n",
       "      <td>2</td>\n",
       "      <td>THE LETTERS FROM NO ONE  The escape of the Bra...</td>\n",
       "      <td>3</td>\n",
       "      <td>1</td>\n",
       "      <td>[the, letters, from, no, one, the, escape, of,...</td>\n",
       "      <td>3842</td>\n",
       "    </tr>\n",
       "    <tr>\n",
       "      <th>3</th>\n",
       "      <td>3</td>\n",
       "      <td>THE KEEPER OF THE KEYS  BOOM. They knocked aga...</td>\n",
       "      <td>4</td>\n",
       "      <td>1</td>\n",
       "      <td>[the, keeper, of, the, keys, boom, they, knock...</td>\n",
       "      <td>3690</td>\n",
       "    </tr>\n",
       "    <tr>\n",
       "      <th>4</th>\n",
       "      <td>4</td>\n",
       "      <td>DIAGON ALLEY  Harry woke early the next mornin...</td>\n",
       "      <td>5</td>\n",
       "      <td>1</td>\n",
       "      <td>[diagon, alley, harry, woke, early, the, next,...</td>\n",
       "      <td>6570</td>\n",
       "    </tr>\n",
       "    <tr>\n",
       "      <th>...</th>\n",
       "      <td>...</td>\n",
       "      <td>...</td>\n",
       "      <td>...</td>\n",
       "      <td>...</td>\n",
       "      <td>...</td>\n",
       "      <td>...</td>\n",
       "    </tr>\n",
       "    <tr>\n",
       "      <th>195</th>\n",
       "      <td>32</td>\n",
       "      <td>Harry remained kneeling at Snape's side, simpl...</td>\n",
       "      <td>33</td>\n",
       "      <td>7</td>\n",
       "      <td>[harry, remained, kneeling, at, snapes, side, ...</td>\n",
       "      <td>7930</td>\n",
       "    </tr>\n",
       "    <tr>\n",
       "      <th>196</th>\n",
       "      <td>33</td>\n",
       "      <td>Finally, the truth. Lying with his face presse...</td>\n",
       "      <td>34</td>\n",
       "      <td>7</td>\n",
       "      <td>[finally, the, truth, lying, with, his, face, ...</td>\n",
       "      <td>3762</td>\n",
       "    </tr>\n",
       "    <tr>\n",
       "      <th>197</th>\n",
       "      <td>34</td>\n",
       "      <td>He lay facedown, listening to the silence. He ...</td>\n",
       "      <td>35</td>\n",
       "      <td>7</td>\n",
       "      <td>[he, lay, facedown, listening, to, the, silenc...</td>\n",
       "      <td>4846</td>\n",
       "    </tr>\n",
       "    <tr>\n",
       "      <th>198</th>\n",
       "      <td>35</td>\n",
       "      <td>He was flying facedown on the ground again. Th...</td>\n",
       "      <td>36</td>\n",
       "      <td>7</td>\n",
       "      <td>[he, was, flying, facedown, on, the, ground, a...</td>\n",
       "      <td>6943</td>\n",
       "    </tr>\n",
       "    <tr>\n",
       "      <th>199</th>\n",
       "      <td>36</td>\n",
       "      <td>Autumn seemed to arrive suddenly that year. Th...</td>\n",
       "      <td>37</td>\n",
       "      <td>7</td>\n",
       "      <td>[autumn, seemed, to, arrive, suddenly, that, y...</td>\n",
       "      <td>1552</td>\n",
       "    </tr>\n",
       "  </tbody>\n",
       "</table>\n",
       "<p>200 rows × 6 columns</p>\n",
       "</div>"
      ],
      "text/plain": [
       "     index                                               Text  Chapter  Book  \\\n",
       "0        0  THE BOY WHO LIVED  Mr. and Mrs. Dursley, of nu...        1     1   \n",
       "1        1  THE VANISHING GLASS  Nearly ten years had pass...        2     1   \n",
       "2        2  THE LETTERS FROM NO ONE  The escape of the Bra...        3     1   \n",
       "3        3  THE KEEPER OF THE KEYS  BOOM. They knocked aga...        4     1   \n",
       "4        4  DIAGON ALLEY  Harry woke early the next mornin...        5     1   \n",
       "..     ...                                                ...      ...   ...   \n",
       "195     32  Harry remained kneeling at Snape's side, simpl...       33     7   \n",
       "196     33  Finally, the truth. Lying with his face presse...       34     7   \n",
       "197     34  He lay facedown, listening to the silence. He ...       35     7   \n",
       "198     35  He was flying facedown on the ground again. Th...       36     7   \n",
       "199     36  Autumn seemed to arrive suddenly that year. Th...       37     7   \n",
       "\n",
       "                                         WordCountText  WordCount  \n",
       "0    [the, boy, who, lived, mr, and, mrs, dursley, ...       4591  \n",
       "1    [the, vanishing, glass, nearly, ten, years, ha...       3445  \n",
       "2    [the, letters, from, no, one, the, escape, of,...       3842  \n",
       "3    [the, keeper, of, the, keys, boom, they, knock...       3690  \n",
       "4    [diagon, alley, harry, woke, early, the, next,...       6570  \n",
       "..                                                 ...        ...  \n",
       "195  [harry, remained, kneeling, at, snapes, side, ...       7930  \n",
       "196  [finally, the, truth, lying, with, his, face, ...       3762  \n",
       "197  [he, lay, facedown, listening, to, the, silenc...       4846  \n",
       "198  [he, was, flying, facedown, on, the, ground, a...       6943  \n",
       "199  [autumn, seemed, to, arrive, suddenly, that, y...       1552  \n",
       "\n",
       "[200 rows x 6 columns]"
      ]
     },
     "execution_count": 50,
     "metadata": {},
     "output_type": "execute_result"
    }
   ],
   "source": [
    "df['WordCountText'] = df['Text'].str.lower().apply(remove_punctuations).apply(word_tokenize) # Word Count Text\n",
    "df['WordCount'] = df['WordCountText'].str.len() #Word Count Per Chapter\n",
    "\n",
    "df.reset_index()"
   ]
  },
  {
   "cell_type": "code",
   "execution_count": 51,
   "id": "93cce1f2-d9c7-4dda-9c6d-e95f8ca0e859",
   "metadata": {},
   "outputs": [
    {
     "name": "stderr",
     "output_type": "stream",
     "text": [
      "C:\\Users\\aseem\\anaconda3\\envs\\cal\\lib\\site-packages\\seaborn\\_decorators.py:36: FutureWarning: Pass the following variables as keyword args: x, y. From version 0.12, the only valid positional argument will be `data`, and passing other arguments without an explicit keyword will result in an error or misinterpretation.\n",
      "  warnings.warn(\n"
     ]
    },
    {
     "data": {
      "text/plain": [
       "<Figure size 1440x720 with 0 Axes>"
      ]
     },
     "execution_count": 51,
     "metadata": {},
     "output_type": "execute_result"
    },
    {
     "data": {
      "image/png": "[encoded data removed]",
      "text/plain": [
       "<Figure size 432x288 with 1 Axes>"
      ]
     },
     "metadata": {},
     "output_type": "display_data"
    },
    {
     "data": {
      "text/plain": [
       "<Figure size 1440x720 with 0 Axes>"
      ]
     },
     "metadata": {},
     "output_type": "display_data"
    }
   ],
   "source": [
    "BookTitles=[\"Philosopher's Stone\", \"Chamber of Secrets\", \"Prisoner of Azkaban\", \"Goblet of Fire\",\n",
    "           \"Order of the Phoenix\", \"Half Blood Prince\", \"Deathly Hallows\"]\n",
    "\n",
    "x = df.groupby(['Book'])['WordCount'].sum().reset_index()['Book']\n",
    "y = df.groupby(['Book'])['WordCount'].sum().reset_index()['WordCount']\n",
    "x_pos = np.arange(len(x))\n",
    "sns.barplot(x_pos, y)\n",
    "plt.xlabel(\"Book\")\n",
    "plt.ylabel(\"Word Count\")\n",
    "plt.title(\"Total Number of Words in Each Harry Potter Book\")\n",
    "plt.xticks(x_pos, BookTitles, rotation=90)\n",
    "plt.figure(figsize=(20,10))"
   ]
  },
  {
   "cell_type": "code",
   "execution_count": 52,
   "id": "f54097c6-77c2-4dc2-8338-9bce4b7f3ef5",
   "metadata": {},
   "outputs": [
    {
     "name": "stderr",
     "output_type": "stream",
     "text": [
      "C:\\Users\\aseem\\anaconda3\\envs\\cal\\lib\\site-packages\\seaborn\\_decorators.py:36: FutureWarning: Pass the following variables as keyword args: x, y. From version 0.12, the only valid positional argument will be `data`, and passing other arguments without an explicit keyword will result in an error or misinterpretation.\n",
      "  warnings.warn(\n"
     ]
    },
    {
     "data": {
      "text/plain": [
       "([<matplotlib.axis.XTick at 0x2830bb68fd0>,\n",
       "  <matplotlib.axis.XTick at 0x2830bb68eb0>,\n",
       "  <matplotlib.axis.XTick at 0x2830bb94af0>,\n",
       "  <matplotlib.axis.XTick at 0x2830bad62e0>,\n",
       "  <matplotlib.axis.XTick at 0x2830badc6d0>,\n",
       "  <matplotlib.axis.XTick at 0x2830badc1c0>,\n",
       "  <matplotlib.axis.XTick at 0x2830badc3a0>],\n",
       " [Text(0, 0, \"Philosopher's Stone\"),\n",
       "  Text(1, 0, 'Chamber of Secrets'),\n",
       "  Text(2, 0, 'Prisoner of Azkaban'),\n",
       "  Text(3, 0, 'Goblet of Fire'),\n",
       "  Text(4, 0, 'Order of the Phoenix'),\n",
       "  Text(5, 0, 'Half Blood Prince'),\n",
       "  Text(6, 0, 'Deathly Hallows')])"
      ]
     },
     "execution_count": 52,
     "metadata": {},
     "output_type": "execute_result"
    },
    {
     "data": {
      "image/png": "[encoded data removed]",
      "text/plain": [
       "<Figure size 432x288 with 1 Axes>"
      ]
     },
     "metadata": {},
     "output_type": "display_data"
    }
   ],
   "source": [
    "x = df.groupby(['Book'])['WordCount'].mean().reset_index()['Book']\n",
    "y = df.groupby(['Book'])['WordCount'].mean().reset_index()['WordCount']\n",
    "x_pos = np.arange(len(x))\n",
    "plt.style.use('ggplot')\n",
    "sns.barplot(x_pos, y)\n",
    "plt.xlabel(\"Book\")\n",
    "plt.ylabel(\"Word Count\")\n",
    "plt.title(\"Average Number of Words Per Chapter of Each Harry Potter Book\")\n",
    "plt.xticks(x_pos, BookTitles, rotation=90)"
   ]
  },
  {
   "cell_type": "markdown",
   "id": "6ea76bb8-8938-4cc6-bbe7-a386d1ac1175",
   "metadata": {},
   "source": [
    "### **4. Using NER**"
   ]
  },
  {
   "cell_type": "code",
   "execution_count": 3,
   "id": "0faa03e4-fd14-4182-ab35-64c31f48137b",
   "metadata": {},
   "outputs": [],
   "source": [
    "NER = spacy.load(\"en_core_web_sm\")\n",
    "all_books = [b for b in os.scandir('Harry-Potter/Book_Text') if '.txt' in b.name]"
   ]
  },
  {
   "cell_type": "code",
   "execution_count": 4,
   "id": "c15bc401-d806-4127-9318-25aa8b453e5b",
   "metadata": {},
   "outputs": [
    {
     "data": {
      "text/plain": [
       "[<DirEntry 'HPBook1.txt'>,\n",
       " <DirEntry 'HPBook2.txt'>,\n",
       " <DirEntry 'HPBook3.txt'>,\n",
       " <DirEntry 'HPBook4.txt'>,\n",
       " <DirEntry 'HPBook5.txt'>,\n",
       " <DirEntry 'HPBook6.txt'>,\n",
       " <DirEntry 'HPBook7.txt'>]"
      ]
     },
     "execution_count": 4,
     "metadata": {},
     "output_type": "execute_result"
    }
   ],
   "source": [
    "all_books"
   ]
  },
  {
   "cell_type": "code",
   "execution_count": 6,
   "id": "412ee150-47a7-40a5-b33a-e6c57d677ed4",
   "metadata": {},
   "outputs": [],
   "source": [
    "book = all_books[1]\n",
    "book_text = open(book).read()\n",
    "book_doc = NER(book_text)"
   ]
  },
  {
   "cell_type": "code",
   "execution_count": 92,
   "id": "01b3cb50-1f7d-474c-96d2-fd86717aa8d3",
   "metadata": {},
   "outputs": [
    {
     "data": {
      "text/html": [
       "<span class=\"tex2jax_ignore\"><div class=\"entities\" style=\"line-height: 2.5; direction: ltr\">&quot;Text&quot;@&quot;Chapter&quot;@&quot;Book&quot;</br>&quot;\n",
       "<mark class=\"entity\" style=\"background: #f0d0ff; padding: 0.45em 0.6em; margin: 0 0.25em; line-height: 1; border-radius: 0.35em;\">\n",
       "    THE WORST BIRTHDAY  Not for the first\n",
       "    <span style=\"font-size: 0.8em; font-weight: bold; line-height: 1; border-radius: 0.35em; vertical-align: middle; margin-left: 0.5rem\">WORK_OF_ART</span>\n",
       "</mark>\n",
       " time, an argument had broken out over breakfast at \n",
       "<mark class=\"entity\" style=\"background: #e4e7d2; padding: 0.45em 0.6em; margin: 0 0.25em; line-height: 1; border-radius: 0.35em;\">\n",
       "    number four\n",
       "    <span style=\"font-size: 0.8em; font-weight: bold; line-height: 1; border-radius: 0.35em; vertical-align: middle; margin-left: 0.5rem\">CARDINAL</span>\n",
       "</mark>\n",
       ", \n",
       "<mark class=\"entity\" style=\"background: #ddd; padding: 0.45em 0.6em; margin: 0 0.25em; line-height: 1; border-radius: 0.35em;\">\n",
       "    Privet Drive\n",
       "    <span style=\"font-size: 0.8em; font-weight: bold; line-height: 1; border-radius: 0.35em; vertical-align: middle; margin-left: 0.5rem\">FAC</span>\n",
       "</mark>\n",
       ". Mr. \n",
       "<mark class=\"entity\" style=\"background: #aa9cfc; padding: 0.45em 0.6em; margin: 0 0.25em; line-height: 1; border-radius: 0.35em;\">\n",
       "    Vernon Dursley\n",
       "    <span style=\"font-size: 0.8em; font-weight: bold; line-height: 1; border-radius: 0.35em; vertical-align: middle; margin-left: 0.5rem\">PERSON</span>\n",
       "</mark>\n",
       " had been woken in \n",
       "<mark class=\"entity\" style=\"background: #bfe1d9; padding: 0.45em 0.6em; margin: 0 0.25em; line-height: 1; border-radius: 0.35em;\">\n",
       "    the early hours\n",
       "    <span style=\"font-size: 0.8em; font-weight: bold; line-height: 1; border-radius: 0.35em; vertical-align: middle; margin-left: 0.5rem\">TIME</span>\n",
       "</mark>\n",
       " of the morning by a loud, hooting noise from his nephew \n",
       "<mark class=\"entity\" style=\"background: #aa9cfc; padding: 0.45em 0.6em; margin: 0 0.25em; line-height: 1; border-radius: 0.35em;\">\n",
       "    Harry\n",
       "    <span style=\"font-size: 0.8em; font-weight: bold; line-height: 1; border-radius: 0.35em; vertical-align: middle; margin-left: 0.5rem\">PERSON</span>\n",
       "</mark>\n",
       "'s room.  \\&quot;Third time this week!\\&quot; he roared across the table. \\&quot;If you can't control that owl, it'll have to go!\\&quot;  \n",
       "<mark class=\"entity\" style=\"background: #aa9cfc; padding: 0.45em 0.6em; margin: 0 0.25em; line-height: 1; border-radius: 0.35em;\">\n",
       "    Harry\n",
       "    <span style=\"font-size: 0.8em; font-weight: bold; line-height: 1; border-radius: 0.35em; vertical-align: middle; margin-left: 0.5rem\">PERSON</span>\n",
       "</mark>\n",
       " tried, yet again, to explain.  \\&quot;She's bored,\\&quot; he said. \\&quot;She's used to flying around outside. If I could just let her out at night -\\&quot;  \\&quot;Do I look stupid?\\&quot; snarled \n",
       "<mark class=\"entity\" style=\"background: #aa9cfc; padding: 0.45em 0.6em; margin: 0 0.25em; line-height: 1; border-radius: 0.35em;\">\n",
       "    Uncle Vernon\n",
       "    <span style=\"font-size: 0.8em; font-weight: bold; line-height: 1; border-radius: 0.35em; vertical-align: middle; margin-left: 0.5rem\">PERSON</span>\n",
       "</mark>\n",
       ", a bit of fried egg dangling from his bushy mustache. \\&quot;I know what'll happen if that owl's let out.\\&quot;  He exchanged dark looks with his wife, \n",
       "<mark class=\"entity\" style=\"background: #feca74; padding: 0.45em 0.6em; margin: 0 0.25em; line-height: 1; border-radius: 0.35em;\">\n",
       "    Petunia\n",
       "    <span style=\"font-size: 0.8em; font-weight: bold; line-height: 1; border-radius: 0.35em; vertical-align: middle; margin-left: 0.5rem\">GPE</span>\n",
       "</mark>\n",
       ".  \n",
       "<mark class=\"entity\" style=\"background: #aa9cfc; padding: 0.45em 0.6em; margin: 0 0.25em; line-height: 1; border-radius: 0.35em;\">\n",
       "    Harry\n",
       "    <span style=\"font-size: 0.8em; font-weight: bold; line-height: 1; border-radius: 0.35em; vertical-align: middle; margin-left: 0.5rem\">PERSON</span>\n",
       "</mark>\n",
       " tried to argue back but his words were drowned by a long, loud belch from the \n",
       "<mark class=\"entity\" style=\"background: #aa9cfc; padding: 0.45em 0.6em; margin: 0 0.25em; line-height: 1; border-radius: 0.35em;\">\n",
       "    Dursleys\n",
       "    <span style=\"font-size: 0.8em; font-weight: bold; line-height: 1; border-radius: 0.35em; vertical-align: middle; margin-left: 0.5rem\">PERSON</span>\n",
       "</mark>\n",
       "' son, \n",
       "<mark class=\"entity\" style=\"background: #aa9cfc; padding: 0.45em 0.6em; margin: 0 0.25em; line-height: 1; border-radius: 0.35em;\">\n",
       "    Dudley\n",
       "    <span style=\"font-size: 0.8em; font-weight: bold; line-height: 1; border-radius: 0.35em; vertical-align: middle; margin-left: 0.5rem\">PERSON</span>\n",
       "</mark>\n",
       ".  1  \\&quot;I want more bacon.\\&quot;  \\&quot;There's more in the frying pan, sweetums,\\&quot; said \n",
       "<mark class=\"entity\" style=\"background: #feca74; padding: 0.45em 0.6em; margin: 0 0.25em; line-height: 1; border-radius: 0.35em;\">\n",
       "    Aunt Petunia\n",
       "    <span style=\"font-size: 0.8em; font-weight: bold; line-height: 1; border-radius: 0.35em; vertical-align: middle; margin-left: 0.5rem\">GPE</span>\n",
       "</mark>\n",
       ", turning misty eyes on her massive son. \\&quot;We must build you up while we've got the chance .... I don't like the sound of that school food ......\\&quot;  \\&quot;Nonsense, \n",
       "<mark class=\"entity\" style=\"background: #feca74; padding: 0.45em 0.6em; margin: 0 0.25em; line-height: 1; border-radius: 0.35em;\">\n",
       "    Petunia\n",
       "    <span style=\"font-size: 0.8em; font-weight: bold; line-height: 1; border-radius: 0.35em; vertical-align: middle; margin-left: 0.5rem\">GPE</span>\n",
       "</mark>\n",
       ", I never went hungry when I was at Smeltings,\\&quot; said \n",
       "<mark class=\"entity\" style=\"background: #aa9cfc; padding: 0.45em 0.6em; margin: 0 0.25em; line-height: 1; border-radius: 0.35em;\">\n",
       "    Uncle Vernon\n",
       "    <span style=\"font-size: 0.8em; font-weight: bold; line-height: 1; border-radius: 0.35em; vertical-align: middle; margin-left: 0.5rem\">PERSON</span>\n",
       "</mark>\n",
       " heartily. \\&quot;Dudley gets enough, don't you, son?\\&quot;  Dudley, who was so large his bottom drooped over either side of the kitchen chair, grinned and turned to \n",
       "<mark class=\"entity\" style=\"background: #aa9cfc; padding: 0.45em 0.6em; margin: 0 0.25em; line-height: 1; border-radius: 0.35em;\">\n",
       "    Harry\n",
       "    <span style=\"font-size: 0.8em; font-weight: bold; line-height: 1; border-radius: 0.35em; vertical-align: middle; margin-left: 0.5rem\">PERSON</span>\n",
       "</mark>\n",
       ".  \\&quot;Pass the frying pan.\\&quot;  \\&quot;You've forgotten the magic word,\\&quot; said \n",
       "<mark class=\"entity\" style=\"background: #aa9cfc; padding: 0.45em 0.6em; margin: 0 0.25em; line-height: 1; border-radius: 0.35em;\">\n",
       "    Harry\n",
       "    <span style=\"font-size: 0.8em; font-weight: bold; line-height: 1; border-radius: 0.35em; vertical-align: middle; margin-left: 0.5rem\">PERSON</span>\n",
       "</mark>\n",
       " irritably.  The effect of this simple sentence on the rest of the family was incredible: \n",
       "<mark class=\"entity\" style=\"background: #aa9cfc; padding: 0.45em 0.6em; margin: 0 0.25em; line-height: 1; border-radius: 0.35em;\">\n",
       "    Dudley\n",
       "    <span style=\"font-size: 0.8em; font-weight: bold; line-height: 1; border-radius: 0.35em; vertical-align: middle; margin-left: 0.5rem\">PERSON</span>\n",
       "</mark>\n",
       " gasped and fell off his chair with a crash that shook the whole kitchen; Mrs. \n",
       "<mark class=\"entity\" style=\"background: #aa9cfc; padding: 0.45em 0.6em; margin: 0 0.25em; line-height: 1; border-radius: 0.35em;\">\n",
       "    Dursley\n",
       "    <span style=\"font-size: 0.8em; font-weight: bold; line-height: 1; border-radius: 0.35em; vertical-align: middle; margin-left: 0.5rem\">PERSON</span>\n",
       "</mark>\n",
       " gave a small scream and clapped her hands to her mouth; Mr. \n",
       "<mark class=\"entity\" style=\"background: #aa9cfc; padding: 0.45em 0.6em; margin: 0 0.25em; line-height: 1; border-radius: 0.35em;\">\n",
       "    Dursley\n",
       "    <span style=\"font-size: 0.8em; font-weight: bold; line-height: 1; border-radius: 0.35em; vertical-align: middle; margin-left: 0.5rem\">PERSON</span>\n",
       "</mark>\n",
       " jumped to his feet, veins throbbing in his temples.  \\&quot;I meant `\n",
       "<mark class=\"entity\" style=\"background: #7aecec; padding: 0.45em 0.6em; margin: 0 0.25em; line-height: 1; border-radius: 0.35em;\">\n",
       "    please'!\\\n",
       "    <span style=\"font-size: 0.8em; font-weight: bold; line-height: 1; border-radius: 0.35em; vertical-align: middle; margin-left: 0.5rem\">ORG</span>\n",
       "</mark>\n",
       "&quot; said \n",
       "<mark class=\"entity\" style=\"background: #aa9cfc; padding: 0.45em 0.6em; margin: 0 0.25em; line-height: 1; border-radius: 0.35em;\">\n",
       "    Harry\n",
       "    <span style=\"font-size: 0.8em; font-weight: bold; line-height: 1; border-radius: 0.35em; vertical-align: middle; margin-left: 0.5rem\">PERSON</span>\n",
       "</mark>\n",
       " quickly. \n",
       "<mark class=\"entity\" style=\"background: #7aecec; padding: 0.45em 0.6em; margin: 0 0.25em; line-height: 1; border-radius: 0.35em;\">\n",
       "    \\&quot;I\n",
       "    <span style=\"font-size: 0.8em; font-weight: bold; line-height: 1; border-radius: 0.35em; vertical-align: middle; margin-left: 0.5rem\">ORG</span>\n",
       "</mark>\n",
       " didn't mean -\\&quot;  \\&quot;WHAT HAVE I TOLD YOU,\\&quot; thundered his uncle, spraying spit over the table, \\&quot;ABOUT SAYING THE `M' WORD IN OUR HOUSE?\\&quot;  \\&quot;But I -\\&quot;  \\&quot;HOW DARE YOU THREATEN DUDLEY!\\&quot; roared \n",
       "<mark class=\"entity\" style=\"background: #aa9cfc; padding: 0.45em 0.6em; margin: 0 0.25em; line-height: 1; border-radius: 0.35em;\">\n",
       "    Uncle Vernon\n",
       "    <span style=\"font-size: 0.8em; font-weight: bold; line-height: 1; border-radius: 0.35em; vertical-align: middle; margin-left: 0.5rem\">PERSON</span>\n",
       "</mark>\n",
       ", pounding the table with his fist.  \\&quot;I just -\\&quot;  \\&quot;I WARNED YOU! I WILL NOT TOLERATE MENTION OF YOUR ABNORMALITY UNDER THIS ROOF!\\&quot;  \n",
       "<mark class=\"entity\" style=\"background: #aa9cfc; padding: 0.45em 0.6em; margin: 0 0.25em; line-height: 1; border-radius: 0.35em;\">\n",
       "    Harry\n",
       "    <span style=\"font-size: 0.8em; font-weight: bold; line-height: 1; border-radius: 0.35em; vertical-align: middle; margin-left: 0.5rem\">PERSON</span>\n",
       "</mark>\n",
       " stared from his purple-faced uncle to his pale aunt, who was trying to heave \n",
       "<mark class=\"entity\" style=\"background: #aa9cfc; padding: 0.45em 0.6em; margin: 0 0.25em; line-height: 1; border-radius: 0.35em;\">\n",
       "    Dudley\n",
       "    <span style=\"font-size: 0.8em; font-weight: bold; line-height: 1; border-radius: 0.35em; vertical-align: middle; margin-left: 0.5rem\">PERSON</span>\n",
       "</mark>\n",
       " to his feet.  \\&quot;All right,\\&quot; said \n",
       "<mark class=\"entity\" style=\"background: #aa9cfc; padding: 0.45em 0.6em; margin: 0 0.25em; line-height: 1; border-radius: 0.35em;\">\n",
       "    Harry\n",
       "    <span style=\"font-size: 0.8em; font-weight: bold; line-height: 1; border-radius: 0.35em; vertical-align: middle; margin-left: 0.5rem\">PERSON</span>\n",
       "</mark>\n",
       ", \\&quot;all right. . . \n",
       "<mark class=\"entity\" style=\"background: #7aecec; padding: 0.45em 0.6em; margin: 0 0.25em; line-height: 1; border-radius: 0.35em;\">\n",
       "    \\\n",
       "    <span style=\"font-size: 0.8em; font-weight: bold; line-height: 1; border-radius: 0.35em; vertical-align: middle; margin-left: 0.5rem\">ORG</span>\n",
       "</mark>\n",
       "&quot; </div></span>"
      ],
      "text/plain": [
       "<IPython.core.display.HTML object>"
      ]
     },
     "metadata": {},
     "output_type": "display_data"
    }
   ],
   "source": [
    "displacy.render(book_doc[0:500], style=\"ent\", jupyter=True)"
   ]
  },
  {
   "cell_type": "markdown",
   "id": "0d2e5760-1ee2-4a00-b51a-ac817ae11204",
   "metadata": {},
   "source": [
    "### **5. Prepping the Characters**"
   ]
  },
  {
   "cell_type": "code",
   "execution_count": 121,
   "id": "b4dec5a7-c8f9-4ff5-9415-725473890eec",
   "metadata": {},
   "outputs": [
    {
     "data": {
      "text/html": [
       "<div>\n",
       "<style scoped>\n",
       "    .dataframe tbody tr th:only-of-type {\n",
       "        vertical-align: middle;\n",
       "    }\n",
       "\n",
       "    .dataframe tbody tr th {\n",
       "        vertical-align: top;\n",
       "    }\n",
       "\n",
       "    .dataframe thead th {\n",
       "        text-align: right;\n",
       "    }\n",
       "</style>\n",
       "<table border=\"1\" class=\"dataframe\">\n",
       "  <thead>\n",
       "    <tr style=\"text-align: right;\">\n",
       "      <th></th>\n",
       "      <th>Unnamed: 0</th>\n",
       "      <th>characters</th>\n",
       "    </tr>\n",
       "  </thead>\n",
       "  <tbody>\n",
       "    <tr>\n",
       "      <th>0</th>\n",
       "      <td>0</td>\n",
       "      <td>Hannah Abbott</td>\n",
       "    </tr>\n",
       "    <tr>\n",
       "      <th>1</th>\n",
       "      <td>1</td>\n",
       "      <td>Aragog</td>\n",
       "    </tr>\n",
       "    <tr>\n",
       "      <th>2</th>\n",
       "      <td>2</td>\n",
       "      <td>Ludo Bagman</td>\n",
       "    </tr>\n",
       "    <tr>\n",
       "      <th>3</th>\n",
       "      <td>3</td>\n",
       "      <td>Bathilda Bagshot</td>\n",
       "    </tr>\n",
       "    <tr>\n",
       "      <th>4</th>\n",
       "      <td>4</td>\n",
       "      <td>Bane (Centaur)</td>\n",
       "    </tr>\n",
       "  </tbody>\n",
       "</table>\n",
       "</div>"
      ],
      "text/plain": [
       "   Unnamed: 0        characters\n",
       "0           0    Hannah Abbott \n",
       "1           1            Aragog\n",
       "2           2       Ludo Bagman\n",
       "3           3  Bathilda Bagshot\n",
       "4           4    Bane (Centaur)"
      ]
     },
     "execution_count": 121,
     "metadata": {},
     "output_type": "execute_result"
    }
   ],
   "source": [
    "character_df = pd.read_csv(\"characters.csv\")\n",
    "character_df.rename(columns = {'0':'characters'}, inplace = True)\n",
    "character_df.head()"
   ]
  },
  {
   "cell_type": "code",
   "execution_count": 122,
   "id": "78ed2afa-ad8d-4a29-9bee-714cef139fad",
   "metadata": {},
   "outputs": [
    {
     "data": {
      "text/html": [
       "<div>\n",
       "<style scoped>\n",
       "    .dataframe tbody tr th:only-of-type {\n",
       "        vertical-align: middle;\n",
       "    }\n",
       "\n",
       "    .dataframe tbody tr th {\n",
       "        vertical-align: top;\n",
       "    }\n",
       "\n",
       "    .dataframe thead th {\n",
       "        text-align: right;\n",
       "    }\n",
       "</style>\n",
       "<table border=\"1\" class=\"dataframe\">\n",
       "  <thead>\n",
       "    <tr style=\"text-align: right;\">\n",
       "      <th></th>\n",
       "      <th>characters</th>\n",
       "      <th>character_firstname</th>\n",
       "    </tr>\n",
       "  </thead>\n",
       "  <tbody>\n",
       "    <tr>\n",
       "      <th>0</th>\n",
       "      <td>Hannah Abbott</td>\n",
       "      <td>Hannah</td>\n",
       "    </tr>\n",
       "    <tr>\n",
       "      <th>1</th>\n",
       "      <td>Aragog</td>\n",
       "      <td>Aragog</td>\n",
       "    </tr>\n",
       "    <tr>\n",
       "      <th>2</th>\n",
       "      <td>Ludo Bagman</td>\n",
       "      <td>Ludo</td>\n",
       "    </tr>\n",
       "    <tr>\n",
       "      <th>3</th>\n",
       "      <td>Bathilda Bagshot</td>\n",
       "      <td>Bathilda</td>\n",
       "    </tr>\n",
       "    <tr>\n",
       "      <th>4</th>\n",
       "      <td>Bane</td>\n",
       "      <td>Bane</td>\n",
       "    </tr>\n",
       "    <tr>\n",
       "      <th>...</th>\n",
       "      <td>...</td>\n",
       "      <td>...</td>\n",
       "    </tr>\n",
       "    <tr>\n",
       "      <th>191</th>\n",
       "      <td>Ron Weasley</td>\n",
       "      <td>Ron</td>\n",
       "    </tr>\n",
       "    <tr>\n",
       "      <th>192</th>\n",
       "      <td>Winky</td>\n",
       "      <td>Winky</td>\n",
       "    </tr>\n",
       "    <tr>\n",
       "      <th>193</th>\n",
       "      <td>Oliver Wood</td>\n",
       "      <td>Oliver</td>\n",
       "    </tr>\n",
       "    <tr>\n",
       "      <th>194</th>\n",
       "      <td>Corban Yaxley</td>\n",
       "      <td>Corban</td>\n",
       "    </tr>\n",
       "    <tr>\n",
       "      <th>195</th>\n",
       "      <td>Blaise Zabini</td>\n",
       "      <td>Blaise</td>\n",
       "    </tr>\n",
       "  </tbody>\n",
       "</table>\n",
       "<p>196 rows × 2 columns</p>\n",
       "</div>"
      ],
      "text/plain": [
       "           characters character_firstname\n",
       "0      Hannah Abbott               Hannah\n",
       "1              Aragog              Aragog\n",
       "2         Ludo Bagman                Ludo\n",
       "3    Bathilda Bagshot            Bathilda\n",
       "4               Bane                 Bane\n",
       "..                ...                 ...\n",
       "191       Ron Weasley                 Ron\n",
       "192             Winky               Winky\n",
       "193       Oliver Wood              Oliver\n",
       "194     Corban Yaxley              Corban\n",
       "195     Blaise Zabini              Blaise\n",
       "\n",
       "[196 rows x 2 columns]"
      ]
     },
     "execution_count": 122,
     "metadata": {},
     "output_type": "execute_result"
    }
   ],
   "source": [
    "character_df['characters'] = character_df['characters'].apply(lambda x: re.sub(\"[\\(].*?[\\)]\", \"\", x)) \n",
    "character_df['character_firstname'] = character_df['characters'].apply(lambda x: x.split(' ', 1)[0])\n",
    "character_df = character_df[[\"characters\", \"character_firstname\"]]\n",
    "character_df.head(10)"
   ]
  },
  {
   "cell_type": "markdown",
   "id": "34864497-7163-44eb-9880-0226700883df",
   "metadata": {},
   "source": [
    "### **6. Extracting and Filtering Entities**"
   ]
  },
  {
   "cell_type": "code",
   "execution_count": 123,
   "id": "9b6cf93e-54e6-4ab0-97c4-99ee73d35bd8",
   "metadata": {},
   "outputs": [],
   "source": [
    "sent_entity_df = []\n",
    "\n",
    "# Loop through sentences, store named entity list for each sentence\n",
    "for sent in book_doc.sents:\n",
    "    entity_list = [ent.text for ent in sent.ents]\n",
    "    sent_entity_df.append({\"sentence\": sent, \"entities\": entity_list})\n",
    "    \n",
    "sent_entity_df = pd.DataFrame(sent_entity_df)"
   ]
  },
  {
   "cell_type": "code",
   "execution_count": 1,
   "id": "1bbfd14e-d08e-4bf9-a641-9796e2f2bbca",
   "metadata": {},
   "outputs": [
    {
     "ename": "NameError",
     "evalue": "name 'sent_entity_df' is not defined",
     "output_type": "error",
     "traceback": [
      "\u001b[1;31m---------------------------------------------------------------------------\u001b[0m",
      "\u001b[1;31mNameError\u001b[0m                                 Traceback (most recent call last)",
      "\u001b[1;32m~\\AppData\\Local\\Temp/ipykernel_15584/4028124335.py\u001b[0m in \u001b[0;36m<module>\u001b[1;34m\u001b[0m\n\u001b[1;32m----> 1\u001b[1;33m \u001b[0msent_entity_df\u001b[0m\u001b[1;33m\u001b[0m\u001b[1;33m\u001b[0m\u001b[0m\n\u001b[0m",
      "\u001b[1;31mNameError\u001b[0m: name 'sent_entity_df' is not defined"
     ]
    }
   ],
   "source": [
    "sent_entity_df"
   ]
  },
  {
   "cell_type": "code",
   "execution_count": null,
   "id": "01ea2626-7922-4847-b15e-6c5793ae84b1",
   "metadata": {},
   "outputs": [],
   "source": []
  }
 ],
 "metadata": {
  "kernelspec": {
   "display_name": "Python 3 (ipykernel)",
   "language": "python",
   "name": "python3"
  },
  "language_info": {
   "codemirror_mode": {
    "name": "ipython",
    "version": 3
   },
   "file_extension": ".py",
   "mimetype": "text/x-python",
   "name": "python",
   "nbconvert_exporter": "python",
   "pygments_lexer": "ipython3",
   "version": "3.9.7"
  }
 },
 "nbformat": 4,
 "nbformat_minor": 5
}
