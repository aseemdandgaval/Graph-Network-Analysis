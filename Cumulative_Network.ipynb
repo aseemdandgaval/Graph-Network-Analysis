{
 "cells": [
  {
   "cell_type": "markdown",
   "id": "f834369f-6a7c-4ea1-9f7e-b58739b73af9",
   "metadata": {},
   "source": [
    "### **1. Importing the necessary libraries**"
   ]
  },
  {
   "cell_type": "code",
   "execution_count": 1,
   "id": "67a2dd9f-2a46-49dc-95cd-500b96f6704d",
   "metadata": {},
   "outputs": [],
   "source": [
    "import re\n",
    "import os\n",
    "import nltk\n",
    "import json\n",
    "import spacy\n",
    "import pickle\n",
    "import string\n",
    "import time\n",
    "import logging\n",
    "import numpy as np\n",
    "import seaborn as sns\n",
    "import networkx as nx\n",
    "import pandas as pd\n",
    "from tqdm import tqdm\n",
    "from spacy import displacy\n",
    "import plotly.express as px\n",
    "from selenium import webdriver\n",
    "from pyvis.network import Network\n",
    "import matplotlib.pyplot as plt\n",
    "from nltk import word_tokenize\n",
    "from nltk.corpus import stopwords \n",
    "from webdriver_manager.chrome import ChromeDriverManager\n",
    "from selenium.webdriver.common.by import By\n",
    "from selenium.webdriver.chrome.service import Service\n",
    "from selenium.webdriver.chrome.options import Options\n",
    "import community.community_louvain as community_louvain\n",
    "\n",
    "%matplotlib inline\n",
    "sns.set_style('darkgrid')"
   ]
  },
  {
   "cell_type": "markdown",
   "id": "ff6ebd95-d1f8-4136-a20b-718556586ceb",
   "metadata": {
    "tags": []
   },
   "source": [
    "### **2. Prepping the Characters**"
   ]
  },
  {
   "cell_type": "code",
   "execution_count": 5,
   "id": "b7435cbe-0948-4fb9-8d86-47131543b122",
   "metadata": {},
   "outputs": [
    {
     "data": {
      "text/html": [
       "<div>\n",
       "<style scoped>\n",
       "    .dataframe tbody tr th:only-of-type {\n",
       "        vertical-align: middle;\n",
       "    }\n",
       "\n",
       "    .dataframe tbody tr th {\n",
       "        vertical-align: top;\n",
       "    }\n",
       "\n",
       "    .dataframe thead th {\n",
       "        text-align: right;\n",
       "    }\n",
       "</style>\n",
       "<table border=\"1\" class=\"dataframe\">\n",
       "  <thead>\n",
       "    <tr style=\"text-align: right;\">\n",
       "      <th></th>\n",
       "      <th>Unnamed: 0</th>\n",
       "      <th>character</th>\n",
       "    </tr>\n",
       "  </thead>\n",
       "  <tbody>\n",
       "    <tr>\n",
       "      <th>0</th>\n",
       "      <td>0</td>\n",
       "      <td>Hannah Abbott</td>\n",
       "    </tr>\n",
       "    <tr>\n",
       "      <th>1</th>\n",
       "      <td>1</td>\n",
       "      <td>Aragog</td>\n",
       "    </tr>\n",
       "    <tr>\n",
       "      <th>2</th>\n",
       "      <td>2</td>\n",
       "      <td>Ludo Bagman</td>\n",
       "    </tr>\n",
       "    <tr>\n",
       "      <th>3</th>\n",
       "      <td>3</td>\n",
       "      <td>Bathilda Bagshot</td>\n",
       "    </tr>\n",
       "    <tr>\n",
       "      <th>4</th>\n",
       "      <td>4</td>\n",
       "      <td>Bane (Centaur)</td>\n",
       "    </tr>\n",
       "  </tbody>\n",
       "</table>\n",
       "</div>"
      ],
      "text/plain": [
       "   Unnamed: 0         character\n",
       "0           0    Hannah Abbott \n",
       "1           1            Aragog\n",
       "2           2       Ludo Bagman\n",
       "3           3  Bathilda Bagshot\n",
       "4           4    Bane (Centaur)"
      ]
     },
     "execution_count": 5,
     "metadata": {},
     "output_type": "execute_result"
    }
   ],
   "source": [
    "character_df = pd.read_csv(\"characters.csv\")\n",
    "character_df.rename(columns = {'0':'character'}, inplace = True)\n",
    "character_df.head()"
   ]
  },
  {
   "cell_type": "code",
   "execution_count": 6,
   "id": "f836d32d-005b-4786-aab8-c9fdaac85aad",
   "metadata": {},
   "outputs": [
    {
     "data": {
      "text/html": [
       "<div>\n",
       "<style scoped>\n",
       "    .dataframe tbody tr th:only-of-type {\n",
       "        vertical-align: middle;\n",
       "    }\n",
       "\n",
       "    .dataframe tbody tr th {\n",
       "        vertical-align: top;\n",
       "    }\n",
       "\n",
       "    .dataframe thead th {\n",
       "        text-align: right;\n",
       "    }\n",
       "</style>\n",
       "<table border=\"1\" class=\"dataframe\">\n",
       "  <thead>\n",
       "    <tr style=\"text-align: right;\">\n",
       "      <th></th>\n",
       "      <th>character</th>\n",
       "      <th>character_firstname</th>\n",
       "    </tr>\n",
       "  </thead>\n",
       "  <tbody>\n",
       "    <tr>\n",
       "      <th>0</th>\n",
       "      <td>Hannah Abbott</td>\n",
       "      <td>Hannah</td>\n",
       "    </tr>\n",
       "    <tr>\n",
       "      <th>1</th>\n",
       "      <td>Aragog</td>\n",
       "      <td>Aragog</td>\n",
       "    </tr>\n",
       "    <tr>\n",
       "      <th>2</th>\n",
       "      <td>Ludo Bagman</td>\n",
       "      <td>Ludo</td>\n",
       "    </tr>\n",
       "    <tr>\n",
       "      <th>3</th>\n",
       "      <td>Bathilda Bagshot</td>\n",
       "      <td>Bathilda</td>\n",
       "    </tr>\n",
       "    <tr>\n",
       "      <th>4</th>\n",
       "      <td>Bane</td>\n",
       "      <td>Bane</td>\n",
       "    </tr>\n",
       "    <tr>\n",
       "      <th>...</th>\n",
       "      <td>...</td>\n",
       "      <td>...</td>\n",
       "    </tr>\n",
       "    <tr>\n",
       "      <th>191</th>\n",
       "      <td>Ron Weasley</td>\n",
       "      <td>Ron</td>\n",
       "    </tr>\n",
       "    <tr>\n",
       "      <th>192</th>\n",
       "      <td>Winky</td>\n",
       "      <td>Winky</td>\n",
       "    </tr>\n",
       "    <tr>\n",
       "      <th>193</th>\n",
       "      <td>Oliver Wood</td>\n",
       "      <td>Oliver</td>\n",
       "    </tr>\n",
       "    <tr>\n",
       "      <th>194</th>\n",
       "      <td>Corban Yaxley</td>\n",
       "      <td>Corban</td>\n",
       "    </tr>\n",
       "    <tr>\n",
       "      <th>195</th>\n",
       "      <td>Blaise Zabini</td>\n",
       "      <td>Blaise</td>\n",
       "    </tr>\n",
       "  </tbody>\n",
       "</table>\n",
       "<p>196 rows × 2 columns</p>\n",
       "</div>"
      ],
      "text/plain": [
       "            character character_firstname\n",
       "0      Hannah Abbott               Hannah\n",
       "1              Aragog              Aragog\n",
       "2         Ludo Bagman                Ludo\n",
       "3    Bathilda Bagshot            Bathilda\n",
       "4               Bane                 Bane\n",
       "..                ...                 ...\n",
       "191       Ron Weasley                 Ron\n",
       "192             Winky               Winky\n",
       "193       Oliver Wood              Oliver\n",
       "194     Corban Yaxley              Corban\n",
       "195     Blaise Zabini              Blaise\n",
       "\n",
       "[196 rows x 2 columns]"
      ]
     },
     "execution_count": 6,
     "metadata": {},
     "output_type": "execute_result"
    }
   ],
   "source": [
    "character_df['character'] = character_df['character'].apply(lambda x: re.sub(\"[\\(].*?[\\)]\", \"\", x)) \n",
    "character_df['character_firstname'] = character_df['character'].apply(lambda x: x.split(' ', 1)[0])\n",
    "character_df = character_df[[\"character\", \"character_firstname\"]]\n",
    "character_df"
   ]
  },
  {
   "cell_type": "code",
   "execution_count": 4,
   "id": "c082623e-48e0-47a1-a943-745648ce030e",
   "metadata": {},
   "outputs": [
    {
     "name": "stdout",
     "output_type": "stream",
     "text": [
      "Int64Index([43, 44, 45, 46, 47], dtype='int64')\n",
      "Int64Index([166], dtype='int64')\n",
      "Int64Index([84], dtype='int64')\n",
      "Int64Index([182], dtype='int64')\n",
      "Int64Index([107, 108, 109, 110], dtype='int64')\n"
     ]
    }
   ],
   "source": [
    "indice_dumbeldore = character_df[character_df['character'].str.contains('Dumbledore')].index\n",
    "indice_snape = character_df[character_df['character'].str.contains('Snape')].index\n",
    "indice_hagrid = character_df[character_df['character'].str.contains('Hagrid')].index\n",
    "indice_voldemort = character_df[character_df['character'].str.contains('Voldemort')].index\n",
    "indice_malfoy = character_df[character_df['character'].str.contains('Malfoy')].index\n",
    "\n",
    "print(indice_dumbeldore)\n",
    "print(indice_snape)\n",
    "print(indice_hagrid)\n",
    "print(indice_voldemort)\n",
    "print(indice_malfoy)"
   ]
  },
  {
   "cell_type": "code",
   "execution_count": 5,
   "id": "ef26154f-1229-459e-8366-c9207ffeb2ab",
   "metadata": {},
   "outputs": [],
   "source": [
    "character_df.loc[44, 'character_firstname'] = 'Dumbledore'\n",
    "character_df.loc[166, 'character_firstname'] = 'Snape'\n",
    "character_df.loc[84, 'character_firstname'] = 'Hagrid'\n",
    "character_df.loc[182, 'character_firstname'] = 'Voldemort'\n",
    "character_df.loc[107, 'character_firstname'] = 'Malfoy'"
   ]
  },
  {
   "cell_type": "markdown",
   "id": "38ad15dd-5e6c-448a-ad61-b40b083caded",
   "metadata": {
    "tags": []
   },
   "source": [
    "### **3. Analyzing All the Books**"
   ]
  },
  {
   "cell_type": "code",
   "execution_count": 7,
   "id": "676ad7a5-5c4f-435e-9717-bddf93e485ae",
   "metadata": {},
   "outputs": [],
   "source": [
    "from utils import ner, get_ne_list_per_sentence, filter_entity, create_relationships"
   ]
  },
  {
   "cell_type": "code",
   "execution_count": 8,
   "id": "fa8b6ca2-924b-4a52-93eb-bd9e42c7f039",
   "metadata": {},
   "outputs": [],
   "source": [
    "# Initialize empty list for graphs from books and Sort dir entries by name\n",
    "all_books = [b for b in os.scandir('Harry-Potter/Book_Text') if '.txt' in b.name]\n",
    "all_books.sort(key=lambda x: x.name)"
   ]
  },
  {
   "cell_type": "code",
   "execution_count": 9,
   "id": "6790f05b-e785-44a5-87d5-5894e1f645f3",
   "metadata": {
    "tags": []
   },
   "outputs": [
    {
     "name": "stderr",
     "output_type": "stream",
     "text": [
      "  0%|                                                                                            | 0/7 [00:00<?, ?it/s]<timed exec>:20: SettingWithCopyWarning: \n",
      "A value is trying to be set on a copy of a slice from a DataFrame.\n",
      "Try using .loc[row_indexer,col_indexer] = value instead\n",
      "\n",
      "See the caveats in the documentation: https://pandas.pydata.org/pandas-docs/stable/user_guide/indexing.html#returning-a-view-versus-a-copy\n",
      "100%|███████████████████████████████████████████████████████████████████████████████████| 7/7 [41:43<00:00, 357.65s/it]"
     ]
    },
    {
     "name": "stdout",
     "output_type": "stream",
     "text": [
      "Wall time: 41min 43s\n"
     ]
    },
    {
     "name": "stderr",
     "output_type": "stream",
     "text": [
      "\n"
     ]
    }
   ],
   "source": [
    "%%time\n",
    "\n",
    "books = []\n",
    "relationships = []\n",
    "entities = []\n",
    "books_graph = []\n",
    "\n",
    "for book in tqdm(all_books):\n",
    "    book_text = ner(book)\n",
    "    books.append(book_text)\n",
    "    \n",
    "    # Get list of entities per sentences\n",
    "    sent_entity_df = get_ne_list_per_sentence(book_text)\n",
    "    \n",
    "    # Select only character entities\n",
    "    sent_entity_df['character_entities'] = sent_entity_df['entities'].apply(lambda x: filter_entity(x, character_df))\n",
    "\n",
    "    # Filter out sentences that don't have any character entities\n",
    "    sent_entity_df_filtered = sent_entity_df[sent_entity_df['character_entities'].map(len) > 0]\n",
    "    \n",
    "    # Take only first name of characters\n",
    "    sent_entity_df_filtered['character_entities'] = sent_entity_df_filtered['character_entities'].apply(lambda x: [item.split()[0] for item in x])                                                                                                         \n",
    "    entities.append(sent_entity_df_filtered)\n",
    "    \n",
    "    # Create relationship df\n",
    "    relationship_df = create_relationships(df = sent_entity_df_filtered, window_size = 5)\n",
    "    relationships.append(relationship_df)\n",
    "    \n",
    "    # Create a graph from a pandas dataframe\n",
    "    G = nx.from_pandas_edgelist(relationship_df, \n",
    "                                source = \"source\", \n",
    "                                target = \"target\", \n",
    "                                edge_attr = \"value\", \n",
    "                                create_using = nx.Graph())     \n",
    "    \n",
    "    books_graph.append(G) "
   ]
  },
  {
   "cell_type": "code",
   "execution_count": 10,
   "id": "6826b324-3bcf-4158-9d47-4854a7666e7c",
   "metadata": {
    "collapsed": true,
    "jupyter": {
     "outputs_hidden": true
    },
    "tags": []
   },
   "outputs": [
    {
     "name": "stdout",
     "output_type": "stream",
     "text": [
      "7\n",
      "7\n",
      "7\n",
      "7\n"
     ]
    }
   ],
   "source": [
    "print(len(books))\n",
    "print(len(relationships))\n",
    "print(len(entities))\n",
    "print(len(books_graph))"
   ]
  },
  {
   "cell_type": "markdown",
   "id": "dc413c4b-1f70-479c-83a7-e5b5ff0eb964",
   "metadata": {},
   "source": [
    "**Saving the files**"
   ]
  },
  {
   "cell_type": "code",
   "execution_count": 24,
   "id": "06465b3d-1dbf-43be-9712-3a4d46637032",
   "metadata": {
    "collapsed": true,
    "jupyter": {
     "outputs_hidden": true
    },
    "tags": []
   },
   "outputs": [
    {
     "ename": "NotImplementedError",
     "evalue": "[E112] Pickling a span is not supported, because spans are only views of the parent Doc and can't exist on their own. A pickled span would always have to include its Doc and Vocab, which has practically no advantage over pickling the parent Doc directly. So instead of pickling the span, pickle the Doc it belongs to or use Span.as_doc to convert the span to a standalone Doc object.",
     "output_type": "error",
     "traceback": [
      "\u001b[1;31m---------------------------------------------------------------------------\u001b[0m",
      "\u001b[1;31mNotImplementedError\u001b[0m                       Traceback (most recent call last)",
      "\u001b[1;32m~\\AppData\\Local\\Temp/ipykernel_12312/3640789309.py\u001b[0m in \u001b[0;36m<module>\u001b[1;34m\u001b[0m\n\u001b[0;32m      9\u001b[0m \u001b[1;33m\u001b[0m\u001b[0m\n\u001b[0;32m     10\u001b[0m \u001b[1;32mwith\u001b[0m \u001b[0mopen\u001b[0m\u001b[1;33m(\u001b[0m\u001b[1;34m\"pickles/entities.pkl\"\u001b[0m\u001b[1;33m,\u001b[0m \u001b[1;34m\"wb\"\u001b[0m\u001b[1;33m)\u001b[0m \u001b[1;32mas\u001b[0m \u001b[0mfp\u001b[0m\u001b[1;33m:\u001b[0m\u001b[1;33m\u001b[0m\u001b[1;33m\u001b[0m\u001b[0m\n\u001b[1;32m---> 11\u001b[1;33m     \u001b[0mpickle\u001b[0m\u001b[1;33m.\u001b[0m\u001b[0mdump\u001b[0m\u001b[1;33m(\u001b[0m\u001b[0mentities\u001b[0m\u001b[1;33m,\u001b[0m \u001b[0mfp\u001b[0m\u001b[1;33m)\u001b[0m\u001b[1;33m\u001b[0m\u001b[1;33m\u001b[0m\u001b[0m\n\u001b[0m",
      "\u001b[1;32m~\\anaconda3\\envs\\cal\\lib\\site-packages\\spacy\\tokens\\span.pyx\u001b[0m in \u001b[0;36mspacy.tokens.span.Span.__reduce__\u001b[1;34m()\u001b[0m\n",
      "\u001b[1;31mNotImplementedError\u001b[0m: [E112] Pickling a span is not supported, because spans are only views of the parent Doc and can't exist on their own. A pickled span would always have to include its Doc and Vocab, which has practically no advantage over pickling the parent Doc directly. So instead of pickling the span, pickle the Doc it belongs to or use Span.as_doc to convert the span to a standalone Doc object."
     ]
    }
   ],
   "source": [
    "with open(\"pickles/books.pkl\", \"wb\") as fp:  \n",
    "    pickle.dump(books, fp)  \n",
    "with open(\"pickles/relationships.pkl\", \"wb\") as fp:   \n",
    "    pickle.dump(relationships, fp)  \n",
    "with open(\"pickles/books_graph.pkl\", \"wb\") as fp:   \n",
    "    pickle.dump(books_graph, fp) \n",
    "with open(\"pickles/entities.pkl\", \"wb\") as fp:   \n",
    "    pickle.dump(entities, fp)"
   ]
  },
  {
   "cell_type": "markdown",
   "id": "a03f265f-9f35-447f-aab2-f3e272afbd8d",
   "metadata": {},
   "source": [
    "**loading the files**"
   ]
  },
  {
   "cell_type": "code",
   "execution_count": 6,
   "id": "e2b8c6e4-2eae-43b8-9436-6ee14fdffbde",
   "metadata": {
    "tags": []
   },
   "outputs": [],
   "source": [
    "with open(\"pickles/books.pkl\", \"rb\") as fp:\n",
    "    b = pickle.load(fp)\n",
    "with open(\"pickles/relationships.pkl\", \"rb\") as fp:\n",
    "    r = pickle.load(fp)\n",
    "with open(\"pickles/books_graph.pkl\", \"rb\") as fp:\n",
    "    bg = pickle.load(fp)\n",
    "#with open(\"pickles/entities.pkl\", \"rb\") as fp:\n",
    "#    e = pickle.load(fp)"
   ]
  },
  {
   "cell_type": "markdown",
   "id": "59bbcd4f-da90-4d17-b7aa-4539ecc5900a",
   "metadata": {
    "tags": []
   },
   "source": [
    "### **4. Vizualizing all graphs** "
   ]
  },
  {
   "cell_type": "code",
   "execution_count": 80,
   "id": "a5aa7c09-e4b6-47b8-a2a9-db72acfc1d5a",
   "metadata": {
    "tags": []
   },
   "outputs": [],
   "source": [
    "def make_graph(books_graph, name):\n",
    "    scale=1\n",
    "    new_degree = dict(books_graph.degree)\n",
    "    new_degree.update((x, scale*y) for x, y in new_degree.items())\n",
    "    \n",
    "    new_communities = community_louvain.best_partition(books_graph)\n",
    "    node_degree = dict(books_graph.degree)\n",
    "    nx.set_node_attributes(books_graph, new_communities, 'group')\n",
    "    nx.set_node_attributes(books_graph, new_degree, 'size')\n",
    "\n",
    "    com_net = Network(notebook = True, width=\"1500px\", height=\"1000px\", bgcolor='#222222', font_color='white', )\n",
    "    com_net.force_atlas_2based(spring_length=50)\n",
    "    com_net.from_nx(books_graph)\n",
    "    com_net.show_buttons(filter_=\"physics\")\n",
    "    com_net.show(\"new_graphs/\" + name + \".html\")"
   ]
  },
  {
   "cell_type": "code",
   "execution_count": 81,
   "id": "f2a47bde-b500-41db-baac-0d0ea275c1d0",
   "metadata": {},
   "outputs": [
    {
     "name": "stdout",
     "output_type": "stream",
     "text": [
      "Warning: When  cdn_resources is 'local' jupyter notebook has issues displaying graphics on chrome/safari. Use cdn_resources='in_line' or cdn_resources='remote' if you have issues viewing graphics in a notebook.\n",
      "new_graphs/book1.html\n",
      "Warning: When  cdn_resources is 'local' jupyter notebook has issues displaying graphics on chrome/safari. Use cdn_resources='in_line' or cdn_resources='remote' if you have issues viewing graphics in a notebook.\n",
      "new_graphs/book2.html\n",
      "Warning: When  cdn_resources is 'local' jupyter notebook has issues displaying graphics on chrome/safari. Use cdn_resources='in_line' or cdn_resources='remote' if you have issues viewing graphics in a notebook.\n",
      "new_graphs/book3.html\n",
      "Warning: When  cdn_resources is 'local' jupyter notebook has issues displaying graphics on chrome/safari. Use cdn_resources='in_line' or cdn_resources='remote' if you have issues viewing graphics in a notebook.\n",
      "new_graphs/book4.html\n",
      "Warning: When  cdn_resources is 'local' jupyter notebook has issues displaying graphics on chrome/safari. Use cdn_resources='in_line' or cdn_resources='remote' if you have issues viewing graphics in a notebook.\n",
      "new_graphs/book5.html\n",
      "Warning: When  cdn_resources is 'local' jupyter notebook has issues displaying graphics on chrome/safari. Use cdn_resources='in_line' or cdn_resources='remote' if you have issues viewing graphics in a notebook.\n",
      "new_graphs/book6.html\n",
      "Warning: When  cdn_resources is 'local' jupyter notebook has issues displaying graphics on chrome/safari. Use cdn_resources='in_line' or cdn_resources='remote' if you have issues viewing graphics in a notebook.\n",
      "new_graphs/book7.html\n"
     ]
    }
   ],
   "source": [
    "make_graph(books_graph[0], 'book1')\n",
    "make_graph(books_graph[1], 'book2')\n",
    "make_graph(books_graph[2], 'book3')\n",
    "make_graph(books_graph[3], 'book4')\n",
    "make_graph(books_graph[4], 'book5')\n",
    "make_graph(books_graph[5], 'book6')\n",
    "make_graph(books_graph[6], 'book7')"
   ]
  },
  {
   "cell_type": "markdown",
   "id": "5f94a6c9-fa39-4dab-a624-2ac11152bcb1",
   "metadata": {
    "tags": []
   },
   "source": [
    "### **5. Making the graph for the whole series** "
   ]
  },
  {
   "cell_type": "code",
   "execution_count": 93,
   "id": "0f45ac9e-5a33-4662-aec9-f86fcf2762fc",
   "metadata": {},
   "outputs": [
    {
     "data": {
      "text/html": [
       "<div>\n",
       "<style scoped>\n",
       "    .dataframe tbody tr th:only-of-type {\n",
       "        vertical-align: middle;\n",
       "    }\n",
       "\n",
       "    .dataframe tbody tr th {\n",
       "        vertical-align: top;\n",
       "    }\n",
       "\n",
       "    .dataframe thead th {\n",
       "        text-align: right;\n",
       "    }\n",
       "</style>\n",
       "<table border=\"1\" class=\"dataframe\">\n",
       "  <thead>\n",
       "    <tr style=\"text-align: right;\">\n",
       "      <th></th>\n",
       "      <th>source</th>\n",
       "      <th>target</th>\n",
       "      <th>value</th>\n",
       "    </tr>\n",
       "  </thead>\n",
       "  <tbody>\n",
       "    <tr>\n",
       "      <th>24</th>\n",
       "      <td>Harry</td>\n",
       "      <td>Ron</td>\n",
       "      <td>23613</td>\n",
       "    </tr>\n",
       "    <tr>\n",
       "      <th>4</th>\n",
       "      <td>Dumbledore</td>\n",
       "      <td>Harry</td>\n",
       "      <td>8360</td>\n",
       "    </tr>\n",
       "    <tr>\n",
       "      <th>36</th>\n",
       "      <td>Harry</td>\n",
       "      <td>Hermione</td>\n",
       "      <td>5667</td>\n",
       "    </tr>\n",
       "    <tr>\n",
       "      <th>48</th>\n",
       "      <td>Hermione</td>\n",
       "      <td>Ron</td>\n",
       "      <td>4895</td>\n",
       "    </tr>\n",
       "    <tr>\n",
       "      <th>70</th>\n",
       "      <td>Harry</td>\n",
       "      <td>Snape</td>\n",
       "      <td>4733</td>\n",
       "    </tr>\n",
       "    <tr>\n",
       "      <th>5</th>\n",
       "      <td>Hagrid</td>\n",
       "      <td>Harry</td>\n",
       "      <td>4234</td>\n",
       "    </tr>\n",
       "    <tr>\n",
       "      <th>3</th>\n",
       "      <td>Harry</td>\n",
       "      <td>Voldemort</td>\n",
       "      <td>3772</td>\n",
       "    </tr>\n",
       "    <tr>\n",
       "      <th>42</th>\n",
       "      <td>Harry</td>\n",
       "      <td>Malfoy</td>\n",
       "      <td>2940</td>\n",
       "    </tr>\n",
       "    <tr>\n",
       "      <th>7</th>\n",
       "      <td>Dudley</td>\n",
       "      <td>Harry</td>\n",
       "      <td>1937</td>\n",
       "    </tr>\n",
       "    <tr>\n",
       "      <th>49</th>\n",
       "      <td>Harry</td>\n",
       "      <td>Neville</td>\n",
       "      <td>1904</td>\n",
       "    </tr>\n",
       "  </tbody>\n",
       "</table>\n",
       "</div>"
      ],
      "text/plain": [
       "        source     target  value\n",
       "24       Harry        Ron  23613\n",
       "4   Dumbledore      Harry   8360\n",
       "36       Harry   Hermione   5667\n",
       "48    Hermione        Ron   4895\n",
       "70       Harry      Snape   4733\n",
       "5       Hagrid      Harry   4234\n",
       "3        Harry  Voldemort   3772\n",
       "42       Harry     Malfoy   2940\n",
       "7       Dudley      Harry   1937\n",
       "49       Harry    Neville   1904"
      ]
     },
     "execution_count": 93,
     "metadata": {},
     "output_type": "execute_result"
    }
   ],
   "source": [
    "cumulative_df = pd.concat(relationships)\n",
    "cumulative_df = cumulative_df.groupby([\"source\",\"target\"], sort=False, as_index=False).sum()                                      \n",
    "cumulative_sorted_df = cumulative_df.sort_values(by='value', ascending=False)\n",
    "cumulative_sorted_df.head(10)"
   ]
  },
  {
   "cell_type": "code",
   "execution_count": 96,
   "id": "adc9d596-8c02-4a00-b849-dd27d5abe6f3",
   "metadata": {},
   "outputs": [
    {
     "name": "stdout",
     "output_type": "stream",
     "text": [
      "Warning: When  cdn_resources is 'local' jupyter notebook has issues displaying graphics on chrome/safari. Use cdn_resources='in_line' or cdn_resources='remote' if you have issues viewing graphics in a notebook.\n",
      "new_graphs/cumulative.html\n"
     ]
    }
   ],
   "source": [
    "cumulative_graph = nx.from_pandas_edgelist(cumulative_sorted_df, \n",
    "                                source = \"source\", \n",
    "                                target = \"target\", \n",
    "                                edge_attr = \"value\", \n",
    "                                create_using = nx.Graph())\n",
    "make_graph(cumulative_graph, 'cumulative')"
   ]
  },
  {
   "cell_type": "markdown",
   "id": "c12ed626-8e19-4537-84d4-ee55fd76b3aa",
   "metadata": {
    "tags": []
   },
   "source": [
    "### **6. Evolution of Character Importance Over Time** "
   ]
  },
  {
   "cell_type": "code",
   "execution_count": 75,
   "id": "f2f99a55-5b4b-4f0a-9eed-145bf217e0e9",
   "metadata": {
    "tags": []
   },
   "outputs": [],
   "source": [
    "#Creating a list of degree centrality of all the books\n",
    "evol = [nx.degree_centrality(book) for book in bg]\n",
    "\n",
    "# Creating a DataFrame from the list of degree centralities in all the books\n",
    "degree_evol_df = pd.DataFrame.from_records(evol)\n",
    "\n",
    "degree_evol_df.to_csv('character_evolution.csv')"
   ]
  },
  {
   "cell_type": "code",
   "execution_count": 60,
   "id": "a4125361-a5af-4900-a1bd-2e4b17c8a8b5",
   "metadata": {},
   "outputs": [],
   "source": [
    "df = pd.read_csv('character_evolution.csv')\n",
    "index = ['Philosopher\\'s Stone',\n",
    "         'Chamber of Secrets',\n",
    "         'Prisoner of Azkaban',\n",
    "         'Goblet of Fire',\n",
    "         'Order of the Phoenix',\n",
    "         'Half-Blood Prince',\n",
    "         'Deathly Hallows']\n",
    "\n",
    "df = df.set_index(pd.Index(index))"
   ]
  },
  {
   "cell_type": "code",
   "execution_count": 74,
   "id": "ac39ccb6-00c0-457e-9b11-1b829aee6dfa",
   "metadata": {},
   "outputs": [
    {
     "data": {
      "application/vnd.plotly.v1+json": {
       "config": {
        "plotlyServerURL": "https://plot.ly"
       },
       "data": [
        {
         "hovertemplate": "variable=Harry<br>index=%{x}<br>value=%{y}<extra></extra>",
         "legendgroup": "Harry",
         "line": {
          "color": "#636efa",
          "dash": "solid"
         },
         "marker": {
          "symbol": "circle"
         },
         "mode": "lines+markers",
         "name": "Harry",
         "orientation": "v",
         "showlegend": true,
         "type": "scatter",
         "x": [
          "Philosopher's Stone",
          "Chamber of Secrets",
          "Prisoner of Azkaban",
          "Goblet of Fire",
          "Order of the Phoenix",
          "Half-Blood Prince",
          "Deathly Hallows"
         ],
         "xaxis": "x",
         "y": [
          0.8837209302325582,
          0.8333333333333333,
          0.9411764705882352,
          0.8059701492537313,
          0.8314606741573034,
          0.8831168831168832,
          0.888888888888889
         ],
         "yaxis": "y"
        },
        {
         "hovertemplate": "variable=Hermione<br>index=%{x}<br>value=%{y}<extra></extra>",
         "legendgroup": "Hermione",
         "line": {
          "color": "#EF553B",
          "dash": "solid"
         },
         "marker": {
          "symbol": "circle"
         },
         "mode": "lines+markers",
         "name": "Hermione",
         "orientation": "v",
         "showlegend": true,
         "type": "scatter",
         "x": [
          "Philosopher's Stone",
          "Chamber of Secrets",
          "Prisoner of Azkaban",
          "Goblet of Fire",
          "Order of the Phoenix",
          "Half-Blood Prince",
          "Deathly Hallows"
         ],
         "xaxis": "x",
         "y": [
          0.2325581395348837,
          0.375,
          0.392156862745098,
          0.4328358208955223,
          0.4157303370786517,
          0.3766233766233766,
          0.4444444444444445
         ],
         "yaxis": "y"
        },
        {
         "hovertemplate": "variable=Ron<br>index=%{x}<br>value=%{y}<extra></extra>",
         "legendgroup": "Ron",
         "line": {
          "color": "#00cc96",
          "dash": "solid"
         },
         "marker": {
          "symbol": "circle"
         },
         "mode": "lines+markers",
         "name": "Ron",
         "orientation": "v",
         "showlegend": true,
         "type": "scatter",
         "x": [
          "Philosopher's Stone",
          "Chamber of Secrets",
          "Prisoner of Azkaban",
          "Goblet of Fire",
          "Order of the Phoenix",
          "Half-Blood Prince",
          "Deathly Hallows"
         ],
         "xaxis": "x",
         "y": [
          0.5813953488372093,
          0.6041666666666666,
          0.5294117647058824,
          0.6268656716417911,
          0.6067415730337078,
          0.5064935064935066,
          0.6222222222222222
         ],
         "yaxis": "y"
        },
        {
         "hovertemplate": "variable=Voldemort<br>index=%{x}<br>value=%{y}<extra></extra>",
         "legendgroup": "Voldemort",
         "line": {
          "color": "#ab63fa",
          "dash": "solid"
         },
         "marker": {
          "symbol": "circle"
         },
         "mode": "lines+markers",
         "name": "Voldemort",
         "orientation": "v",
         "showlegend": true,
         "type": "scatter",
         "x": [
          "Philosopher's Stone",
          "Chamber of Secrets",
          "Prisoner of Azkaban",
          "Goblet of Fire",
          "Order of the Phoenix",
          "Half-Blood Prince",
          "Deathly Hallows"
         ],
         "xaxis": "x",
         "y": [
          0.1860465116279069,
          0.0833333333333333,
          0.1764705882352941,
          0.2537313432835821,
          0.2134831460674157,
          0.2597402597402597,
          0.3333333333333333
         ],
         "yaxis": "y"
        }
       ],
       "layout": {
        "height": 700,
        "legend": {
         "title": {
          "text": "variable"
         },
         "tracegroupgap": 0
        },
        "margin": {
         "t": 60
        },
        "template": {
         "data": {
          "bar": [
           {
            "error_x": {
             "color": "#2a3f5f"
            },
            "error_y": {
             "color": "#2a3f5f"
            },
            "marker": {
             "line": {
              "color": "#E5ECF6",
              "width": 0.5
             },
             "pattern": {
              "fillmode": "overlay",
              "size": 10,
              "solidity": 0.2
             }
            },
            "type": "bar"
           }
          ],
          "barpolar": [
           {
            "marker": {
             "line": {
              "color": "#E5ECF6",
              "width": 0.5
             },
             "pattern": {
              "fillmode": "overlay",
              "size": 10,
              "solidity": 0.2
             }
            },
            "type": "barpolar"
           }
          ],
          "carpet": [
           {
            "aaxis": {
             "endlinecolor": "#2a3f5f",
             "gridcolor": "white",
             "linecolor": "white",
             "minorgridcolor": "white",
             "startlinecolor": "#2a3f5f"
            },
            "baxis": {
             "endlinecolor": "#2a3f5f",
             "gridcolor": "white",
             "linecolor": "white",
             "minorgridcolor": "white",
             "startlinecolor": "#2a3f5f"
            },
            "type": "carpet"
           }
          ],
          "choropleth": [
           {
            "colorbar": {
             "outlinewidth": 0,
             "ticks": ""
            },
            "type": "choropleth"
           }
          ],
          "contour": [
           {
            "colorbar": {
             "outlinewidth": 0,
             "ticks": ""
            },
            "colorscale": [
             [
              0,
              "#0d0887"
             ],
             [
              0.1111111111111111,
              "#46039f"
             ],
             [
              0.2222222222222222,
              "#7201a8"
             ],
             [
              0.3333333333333333,
              "#9c179e"
             ],
             [
              0.4444444444444444,
              "#bd3786"
             ],
             [
              0.5555555555555556,
              "#d8576b"
             ],
             [
              0.6666666666666666,
              "#ed7953"
             ],
             [
              0.7777777777777778,
              "#fb9f3a"
             ],
             [
              0.8888888888888888,
              "#fdca26"
             ],
             [
              1,
              "#f0f921"
             ]
            ],
            "type": "contour"
           }
          ],
          "contourcarpet": [
           {
            "colorbar": {
             "outlinewidth": 0,
             "ticks": ""
            },
            "type": "contourcarpet"
           }
          ],
          "heatmap": [
           {
            "colorbar": {
             "outlinewidth": 0,
             "ticks": ""
            },
            "colorscale": [
             [
              0,
              "#0d0887"
             ],
             [
              0.1111111111111111,
              "#46039f"
             ],
             [
              0.2222222222222222,
              "#7201a8"
             ],
             [
              0.3333333333333333,
              "#9c179e"
             ],
             [
              0.4444444444444444,
              "#bd3786"
             ],
             [
              0.5555555555555556,
              "#d8576b"
             ],
             [
              0.6666666666666666,
              "#ed7953"
             ],
             [
              0.7777777777777778,
              "#fb9f3a"
             ],
             [
              0.8888888888888888,
              "#fdca26"
             ],
             [
              1,
              "#f0f921"
             ]
            ],
            "type": "heatmap"
           }
          ],
          "heatmapgl": [
           {
            "colorbar": {
             "outlinewidth": 0,
             "ticks": ""
            },
            "colorscale": [
             [
              0,
              "#0d0887"
             ],
             [
              0.1111111111111111,
              "#46039f"
             ],
             [
              0.2222222222222222,
              "#7201a8"
             ],
             [
              0.3333333333333333,
              "#9c179e"
             ],
             [
              0.4444444444444444,
              "#bd3786"
             ],
             [
              0.5555555555555556,
              "#d8576b"
             ],
             [
              0.6666666666666666,
              "#ed7953"
             ],
             [
              0.7777777777777778,
              "#fb9f3a"
             ],
             [
              0.8888888888888888,
              "#fdca26"
             ],
             [
              1,
              "#f0f921"
             ]
            ],
            "type": "heatmapgl"
           }
          ],
          "histogram": [
           {
            "marker": {
             "pattern": {
              "fillmode": "overlay",
              "size": 10,
              "solidity": 0.2
             }
            },
            "type": "histogram"
           }
          ],
          "histogram2d": [
           {
            "colorbar": {
             "outlinewidth": 0,
             "ticks": ""
            },
            "colorscale": [
             [
              0,
              "#0d0887"
             ],
             [
              0.1111111111111111,
              "#46039f"
             ],
             [
              0.2222222222222222,
              "#7201a8"
             ],
             [
              0.3333333333333333,
              "#9c179e"
             ],
             [
              0.4444444444444444,
              "#bd3786"
             ],
             [
              0.5555555555555556,
              "#d8576b"
             ],
             [
              0.6666666666666666,
              "#ed7953"
             ],
             [
              0.7777777777777778,
              "#fb9f3a"
             ],
             [
              0.8888888888888888,
              "#fdca26"
             ],
             [
              1,
              "#f0f921"
             ]
            ],
            "type": "histogram2d"
           }
          ],
          "histogram2dcontour": [
           {
            "colorbar": {
             "outlinewidth": 0,
             "ticks": ""
            },
            "colorscale": [
             [
              0,
              "#0d0887"
             ],
             [
              0.1111111111111111,
              "#46039f"
             ],
             [
              0.2222222222222222,
              "#7201a8"
             ],
             [
              0.3333333333333333,
              "#9c179e"
             ],
             [
              0.4444444444444444,
              "#bd3786"
             ],
             [
              0.5555555555555556,
              "#d8576b"
             ],
             [
              0.6666666666666666,
              "#ed7953"
             ],
             [
              0.7777777777777778,
              "#fb9f3a"
             ],
             [
              0.8888888888888888,
              "#fdca26"
             ],
             [
              1,
              "#f0f921"
             ]
            ],
            "type": "histogram2dcontour"
           }
          ],
          "mesh3d": [
           {
            "colorbar": {
             "outlinewidth": 0,
             "ticks": ""
            },
            "type": "mesh3d"
           }
          ],
          "parcoords": [
           {
            "line": {
             "colorbar": {
              "outlinewidth": 0,
              "ticks": ""
             }
            },
            "type": "parcoords"
           }
          ],
          "pie": [
           {
            "automargin": true,
            "type": "pie"
           }
          ],
          "scatter": [
           {
            "marker": {
             "colorbar": {
              "outlinewidth": 0,
              "ticks": ""
             }
            },
            "type": "scatter"
           }
          ],
          "scatter3d": [
           {
            "line": {
             "colorbar": {
              "outlinewidth": 0,
              "ticks": ""
             }
            },
            "marker": {
             "colorbar": {
              "outlinewidth": 0,
              "ticks": ""
             }
            },
            "type": "scatter3d"
           }
          ],
          "scattercarpet": [
           {
            "marker": {
             "colorbar": {
              "outlinewidth": 0,
              "ticks": ""
             }
            },
            "type": "scattercarpet"
           }
          ],
          "scattergeo": [
           {
            "marker": {
             "colorbar": {
              "outlinewidth": 0,
              "ticks": ""
             }
            },
            "type": "scattergeo"
           }
          ],
          "scattergl": [
           {
            "marker": {
             "colorbar": {
              "outlinewidth": 0,
              "ticks": ""
             }
            },
            "type": "scattergl"
           }
          ],
          "scattermapbox": [
           {
            "marker": {
             "colorbar": {
              "outlinewidth": 0,
              "ticks": ""
             }
            },
            "type": "scattermapbox"
           }
          ],
          "scatterpolar": [
           {
            "marker": {
             "colorbar": {
              "outlinewidth": 0,
              "ticks": ""
             }
            },
            "type": "scatterpolar"
           }
          ],
          "scatterpolargl": [
           {
            "marker": {
             "colorbar": {
              "outlinewidth": 0,
              "ticks": ""
             }
            },
            "type": "scatterpolargl"
           }
          ],
          "scatterternary": [
           {
            "marker": {
             "colorbar": {
              "outlinewidth": 0,
              "ticks": ""
             }
            },
            "type": "scatterternary"
           }
          ],
          "surface": [
           {
            "colorbar": {
             "outlinewidth": 0,
             "ticks": ""
            },
            "colorscale": [
             [
              0,
              "#0d0887"
             ],
             [
              0.1111111111111111,
              "#46039f"
             ],
             [
              0.2222222222222222,
              "#7201a8"
             ],
             [
              0.3333333333333333,
              "#9c179e"
             ],
             [
              0.4444444444444444,
              "#bd3786"
             ],
             [
              0.5555555555555556,
              "#d8576b"
             ],
             [
              0.6666666666666666,
              "#ed7953"
             ],
             [
              0.7777777777777778,
              "#fb9f3a"
             ],
             [
              0.8888888888888888,
              "#fdca26"
             ],
             [
              1,
              "#f0f921"
             ]
            ],
            "type": "surface"
           }
          ],
          "table": [
           {
            "cells": {
             "fill": {
              "color": "#EBF0F8"
             },
             "line": {
              "color": "white"
             }
            },
            "header": {
             "fill": {
              "color": "#C8D4E3"
             },
             "line": {
              "color": "white"
             }
            },
            "type": "table"
           }
          ]
         },
         "layout": {
          "annotationdefaults": {
           "arrowcolor": "#2a3f5f",
           "arrowhead": 0,
           "arrowwidth": 1
          },
          "autotypenumbers": "strict",
          "coloraxis": {
           "colorbar": {
            "outlinewidth": 0,
            "ticks": ""
           }
          },
          "colorscale": {
           "diverging": [
            [
             0,
             "#8e0152"
            ],
            [
             0.1,
             "#c51b7d"
            ],
            [
             0.2,
             "#de77ae"
            ],
            [
             0.3,
             "#f1b6da"
            ],
            [
             0.4,
             "#fde0ef"
            ],
            [
             0.5,
             "#f7f7f7"
            ],
            [
             0.6,
             "#e6f5d0"
            ],
            [
             0.7,
             "#b8e186"
            ],
            [
             0.8,
             "#7fbc41"
            ],
            [
             0.9,
             "#4d9221"
            ],
            [
             1,
             "#276419"
            ]
           ],
           "sequential": [
            [
             0,
             "#0d0887"
            ],
            [
             0.1111111111111111,
             "#46039f"
            ],
            [
             0.2222222222222222,
             "#7201a8"
            ],
            [
             0.3333333333333333,
             "#9c179e"
            ],
            [
             0.4444444444444444,
             "#bd3786"
            ],
            [
             0.5555555555555556,
             "#d8576b"
            ],
            [
             0.6666666666666666,
             "#ed7953"
            ],
            [
             0.7777777777777778,
             "#fb9f3a"
            ],
            [
             0.8888888888888888,
             "#fdca26"
            ],
            [
             1,
             "#f0f921"
            ]
           ],
           "sequentialminus": [
            [
             0,
             "#0d0887"
            ],
            [
             0.1111111111111111,
             "#46039f"
            ],
            [
             0.2222222222222222,
             "#7201a8"
            ],
            [
             0.3333333333333333,
             "#9c179e"
            ],
            [
             0.4444444444444444,
             "#bd3786"
            ],
            [
             0.5555555555555556,
             "#d8576b"
            ],
            [
             0.6666666666666666,
             "#ed7953"
            ],
            [
             0.7777777777777778,
             "#fb9f3a"
            ],
            [
             0.8888888888888888,
             "#fdca26"
            ],
            [
             1,
             "#f0f921"
            ]
           ]
          },
          "colorway": [
           "#636efa",
           "#EF553B",
           "#00cc96",
           "#ab63fa",
           "#FFA15A",
           "#19d3f3",
           "#FF6692",
           "#B6E880",
           "#FF97FF",
           "#FECB52"
          ],
          "font": {
           "color": "#2a3f5f"
          },
          "geo": {
           "bgcolor": "white",
           "lakecolor": "white",
           "landcolor": "#E5ECF6",
           "showlakes": true,
           "showland": true,
           "subunitcolor": "white"
          },
          "hoverlabel": {
           "align": "left"
          },
          "hovermode": "closest",
          "mapbox": {
           "style": "light"
          },
          "paper_bgcolor": "white",
          "plot_bgcolor": "#E5ECF6",
          "polar": {
           "angularaxis": {
            "gridcolor": "white",
            "linecolor": "white",
            "ticks": ""
           },
           "bgcolor": "#E5ECF6",
           "radialaxis": {
            "gridcolor": "white",
            "linecolor": "white",
            "ticks": ""
           }
          },
          "scene": {
           "xaxis": {
            "backgroundcolor": "#E5ECF6",
            "gridcolor": "white",
            "gridwidth": 2,
            "linecolor": "white",
            "showbackground": true,
            "ticks": "",
            "zerolinecolor": "white"
           },
           "yaxis": {
            "backgroundcolor": "#E5ECF6",
            "gridcolor": "white",
            "gridwidth": 2,
            "linecolor": "white",
            "showbackground": true,
            "ticks": "",
            "zerolinecolor": "white"
           },
           "zaxis": {
            "backgroundcolor": "#E5ECF6",
            "gridcolor": "white",
            "gridwidth": 2,
            "linecolor": "white",
            "showbackground": true,
            "ticks": "",
            "zerolinecolor": "white"
           }
          },
          "shapedefaults": {
           "line": {
            "color": "#2a3f5f"
           }
          },
          "ternary": {
           "aaxis": {
            "gridcolor": "white",
            "linecolor": "white",
            "ticks": ""
           },
           "baxis": {
            "gridcolor": "white",
            "linecolor": "white",
            "ticks": ""
           },
           "bgcolor": "#E5ECF6",
           "caxis": {
            "gridcolor": "white",
            "linecolor": "white",
            "ticks": ""
           }
          },
          "title": {
           "x": 0.05
          },
          "xaxis": {
           "automargin": true,
           "gridcolor": "white",
           "linecolor": "white",
           "ticks": "",
           "title": {
            "standoff": 15
           },
           "zerolinecolor": "white",
           "zerolinewidth": 2
          },
          "yaxis": {
           "automargin": true,
           "gridcolor": "white",
           "linecolor": "white",
           "ticks": "",
           "title": {
            "standoff": 15
           },
           "zerolinecolor": "white",
           "zerolinewidth": 2
          }
         }
        },
        "title": {
         "text": "Evolution of Characters over the Books",
         "x": 0.5,
         "xanchor": "center",
         "y": 0.95,
         "yanchor": "top"
        },
        "width": 1000,
        "xaxis": {
         "anchor": "y",
         "autorange": true,
         "domain": [
          0,
          1
         ],
         "range": [
          -0.3691448216587882,
          6.3691448216587885
         ],
         "title": {
          "text": ""
         },
         "type": "category"
        },
        "yaxis": {
         "anchor": "x",
         "autorange": true,
         "domain": [
          0,
          1
         ],
         "range": [
          0.027988614800758982,
          0.9965211891208094
         ],
         "title": {
          "text": "Importance"
         },
         "type": "linear"
        }
       }
      },
      "image/png": "[encoded data removed]",
      "text/html": [
       "<div>                            <div id=\"542614c0-0e75-43f1-ae2e-9277754ef64e\" class=\"plotly-graph-div\" style=\"height:700px; width:1000px;\"></div>            <script type=\"text/javascript\">                require([\"plotly\"], function(Plotly) {                    window.PLOTLYENV=window.PLOTLYENV || {};                                    if (document.getElementById(\"542614c0-0e75-43f1-ae2e-9277754ef64e\")) {                    Plotly.newPlot(                        \"542614c0-0e75-43f1-ae2e-9277754ef64e\",                        [{\"hovertemplate\":\"variable=Harry<br>index=%{x}<br>value=%{y}<extra></extra>\",\"legendgroup\":\"Harry\",\"line\":{\"color\":\"#636efa\",\"dash\":\"solid\"},\"marker\":{\"symbol\":\"circle\"},\"mode\":\"lines+markers\",\"name\":\"Harry\",\"orientation\":\"v\",\"showlegend\":true,\"x\":[\"Philosopher's Stone\",\"Chamber of Secrets\",\"Prisoner of Azkaban\",\"Goblet of Fire\",\"Order of the Phoenix\",\"Half-Blood Prince\",\"Deathly Hallows\"],\"xaxis\":\"x\",\"y\":[0.8837209302325582,0.8333333333333333,0.9411764705882352,0.8059701492537313,0.8314606741573034,0.8831168831168832,0.888888888888889],\"yaxis\":\"y\",\"type\":\"scatter\"},{\"hovertemplate\":\"variable=Hermione<br>index=%{x}<br>value=%{y}<extra></extra>\",\"legendgroup\":\"Hermione\",\"line\":{\"color\":\"#EF553B\",\"dash\":\"solid\"},\"marker\":{\"symbol\":\"circle\"},\"mode\":\"lines+markers\",\"name\":\"Hermione\",\"orientation\":\"v\",\"showlegend\":true,\"x\":[\"Philosopher's Stone\",\"Chamber of Secrets\",\"Prisoner of Azkaban\",\"Goblet of Fire\",\"Order of the Phoenix\",\"Half-Blood Prince\",\"Deathly Hallows\"],\"xaxis\":\"x\",\"y\":[0.2325581395348837,0.375,0.392156862745098,0.4328358208955223,0.4157303370786517,0.3766233766233766,0.4444444444444445],\"yaxis\":\"y\",\"type\":\"scatter\"},{\"hovertemplate\":\"variable=Ron<br>index=%{x}<br>value=%{y}<extra></extra>\",\"legendgroup\":\"Ron\",\"line\":{\"color\":\"#00cc96\",\"dash\":\"solid\"},\"marker\":{\"symbol\":\"circle\"},\"mode\":\"lines+markers\",\"name\":\"Ron\",\"orientation\":\"v\",\"showlegend\":true,\"x\":[\"Philosopher's Stone\",\"Chamber of Secrets\",\"Prisoner of Azkaban\",\"Goblet of Fire\",\"Order of the Phoenix\",\"Half-Blood Prince\",\"Deathly Hallows\"],\"xaxis\":\"x\",\"y\":[0.5813953488372093,0.6041666666666666,0.5294117647058824,0.6268656716417911,0.6067415730337078,0.5064935064935066,0.6222222222222222],\"yaxis\":\"y\",\"type\":\"scatter\"},{\"hovertemplate\":\"variable=Voldemort<br>index=%{x}<br>value=%{y}<extra></extra>\",\"legendgroup\":\"Voldemort\",\"line\":{\"color\":\"#ab63fa\",\"dash\":\"solid\"},\"marker\":{\"symbol\":\"circle\"},\"mode\":\"lines+markers\",\"name\":\"Voldemort\",\"orientation\":\"v\",\"showlegend\":true,\"x\":[\"Philosopher's Stone\",\"Chamber of Secrets\",\"Prisoner of Azkaban\",\"Goblet of Fire\",\"Order of the Phoenix\",\"Half-Blood Prince\",\"Deathly Hallows\"],\"xaxis\":\"x\",\"y\":[0.1860465116279069,0.0833333333333333,0.1764705882352941,0.2537313432835821,0.2134831460674157,0.2597402597402597,0.3333333333333333],\"yaxis\":\"y\",\"type\":\"scatter\"}],                        {\"template\":{\"data\":{\"bar\":[{\"error_x\":{\"color\":\"#2a3f5f\"},\"error_y\":{\"color\":\"#2a3f5f\"},\"marker\":{\"line\":{\"color\":\"#E5ECF6\",\"width\":0.5},\"pattern\":{\"fillmode\":\"overlay\",\"size\":10,\"solidity\":0.2}},\"type\":\"bar\"}],\"barpolar\":[{\"marker\":{\"line\":{\"color\":\"#E5ECF6\",\"width\":0.5},\"pattern\":{\"fillmode\":\"overlay\",\"size\":10,\"solidity\":0.2}},\"type\":\"barpolar\"}],\"carpet\":[{\"aaxis\":{\"endlinecolor\":\"#2a3f5f\",\"gridcolor\":\"white\",\"linecolor\":\"white\",\"minorgridcolor\":\"white\",\"startlinecolor\":\"#2a3f5f\"},\"baxis\":{\"endlinecolor\":\"#2a3f5f\",\"gridcolor\":\"white\",\"linecolor\":\"white\",\"minorgridcolor\":\"white\",\"startlinecolor\":\"#2a3f5f\"},\"type\":\"carpet\"}],\"choropleth\":[{\"colorbar\":{\"outlinewidth\":0,\"ticks\":\"\"},\"type\":\"choropleth\"}],\"contour\":[{\"colorbar\":{\"outlinewidth\":0,\"ticks\":\"\"},\"colorscale\":[[0.0,\"#0d0887\"],[0.1111111111111111,\"#46039f\"],[0.2222222222222222,\"#7201a8\"],[0.3333333333333333,\"#9c179e\"],[0.4444444444444444,\"#bd3786\"],[0.5555555555555556,\"#d8576b\"],[0.6666666666666666,\"#ed7953\"],[0.7777777777777778,\"#fb9f3a\"],[0.8888888888888888,\"#fdca26\"],[1.0,\"#f0f921\"]],\"type\":\"contour\"}],\"contourcarpet\":[{\"colorbar\":{\"outlinewidth\":0,\"ticks\":\"\"},\"type\":\"contourcarpet\"}],\"heatmap\":[{\"colorbar\":{\"outlinewidth\":0,\"ticks\":\"\"},\"colorscale\":[[0.0,\"#0d0887\"],[0.1111111111111111,\"#46039f\"],[0.2222222222222222,\"#7201a8\"],[0.3333333333333333,\"#9c179e\"],[0.4444444444444444,\"#bd3786\"],[0.5555555555555556,\"#d8576b\"],[0.6666666666666666,\"#ed7953\"],[0.7777777777777778,\"#fb9f3a\"],[0.8888888888888888,\"#fdca26\"],[1.0,\"#f0f921\"]],\"type\":\"heatmap\"}],\"heatmapgl\":[{\"colorbar\":{\"outlinewidth\":0,\"ticks\":\"\"},\"colorscale\":[[0.0,\"#0d0887\"],[0.1111111111111111,\"#46039f\"],[0.2222222222222222,\"#7201a8\"],[0.3333333333333333,\"#9c179e\"],[0.4444444444444444,\"#bd3786\"],[0.5555555555555556,\"#d8576b\"],[0.6666666666666666,\"#ed7953\"],[0.7777777777777778,\"#fb9f3a\"],[0.8888888888888888,\"#fdca26\"],[1.0,\"#f0f921\"]],\"type\":\"heatmapgl\"}],\"histogram\":[{\"marker\":{\"pattern\":{\"fillmode\":\"overlay\",\"size\":10,\"solidity\":0.2}},\"type\":\"histogram\"}],\"histogram2d\":[{\"colorbar\":{\"outlinewidth\":0,\"ticks\":\"\"},\"colorscale\":[[0.0,\"#0d0887\"],[0.1111111111111111,\"#46039f\"],[0.2222222222222222,\"#7201a8\"],[0.3333333333333333,\"#9c179e\"],[0.4444444444444444,\"#bd3786\"],[0.5555555555555556,\"#d8576b\"],[0.6666666666666666,\"#ed7953\"],[0.7777777777777778,\"#fb9f3a\"],[0.8888888888888888,\"#fdca26\"],[1.0,\"#f0f921\"]],\"type\":\"histogram2d\"}],\"histogram2dcontour\":[{\"colorbar\":{\"outlinewidth\":0,\"ticks\":\"\"},\"colorscale\":[[0.0,\"#0d0887\"],[0.1111111111111111,\"#46039f\"],[0.2222222222222222,\"#7201a8\"],[0.3333333333333333,\"#9c179e\"],[0.4444444444444444,\"#bd3786\"],[0.5555555555555556,\"#d8576b\"],[0.6666666666666666,\"#ed7953\"],[0.7777777777777778,\"#fb9f3a\"],[0.8888888888888888,\"#fdca26\"],[1.0,\"#f0f921\"]],\"type\":\"histogram2dcontour\"}],\"mesh3d\":[{\"colorbar\":{\"outlinewidth\":0,\"ticks\":\"\"},\"type\":\"mesh3d\"}],\"parcoords\":[{\"line\":{\"colorbar\":{\"outlinewidth\":0,\"ticks\":\"\"}},\"type\":\"parcoords\"}],\"pie\":[{\"automargin\":true,\"type\":\"pie\"}],\"scatter\":[{\"marker\":{\"colorbar\":{\"outlinewidth\":0,\"ticks\":\"\"}},\"type\":\"scatter\"}],\"scatter3d\":[{\"line\":{\"colorbar\":{\"outlinewidth\":0,\"ticks\":\"\"}},\"marker\":{\"colorbar\":{\"outlinewidth\":0,\"ticks\":\"\"}},\"type\":\"scatter3d\"}],\"scattercarpet\":[{\"marker\":{\"colorbar\":{\"outlinewidth\":0,\"ticks\":\"\"}},\"type\":\"scattercarpet\"}],\"scattergeo\":[{\"marker\":{\"colorbar\":{\"outlinewidth\":0,\"ticks\":\"\"}},\"type\":\"scattergeo\"}],\"scattergl\":[{\"marker\":{\"colorbar\":{\"outlinewidth\":0,\"ticks\":\"\"}},\"type\":\"scattergl\"}],\"scattermapbox\":[{\"marker\":{\"colorbar\":{\"outlinewidth\":0,\"ticks\":\"\"}},\"type\":\"scattermapbox\"}],\"scatterpolar\":[{\"marker\":{\"colorbar\":{\"outlinewidth\":0,\"ticks\":\"\"}},\"type\":\"scatterpolar\"}],\"scatterpolargl\":[{\"marker\":{\"colorbar\":{\"outlinewidth\":0,\"ticks\":\"\"}},\"type\":\"scatterpolargl\"}],\"scatterternary\":[{\"marker\":{\"colorbar\":{\"outlinewidth\":0,\"ticks\":\"\"}},\"type\":\"scatterternary\"}],\"surface\":[{\"colorbar\":{\"outlinewidth\":0,\"ticks\":\"\"},\"colorscale\":[[0.0,\"#0d0887\"],[0.1111111111111111,\"#46039f\"],[0.2222222222222222,\"#7201a8\"],[0.3333333333333333,\"#9c179e\"],[0.4444444444444444,\"#bd3786\"],[0.5555555555555556,\"#d8576b\"],[0.6666666666666666,\"#ed7953\"],[0.7777777777777778,\"#fb9f3a\"],[0.8888888888888888,\"#fdca26\"],[1.0,\"#f0f921\"]],\"type\":\"surface\"}],\"table\":[{\"cells\":{\"fill\":{\"color\":\"#EBF0F8\"},\"line\":{\"color\":\"white\"}},\"header\":{\"fill\":{\"color\":\"#C8D4E3\"},\"line\":{\"color\":\"white\"}},\"type\":\"table\"}]},\"layout\":{\"annotationdefaults\":{\"arrowcolor\":\"#2a3f5f\",\"arrowhead\":0,\"arrowwidth\":1},\"autotypenumbers\":\"strict\",\"coloraxis\":{\"colorbar\":{\"outlinewidth\":0,\"ticks\":\"\"}},\"colorscale\":{\"diverging\":[[0,\"#8e0152\"],[0.1,\"#c51b7d\"],[0.2,\"#de77ae\"],[0.3,\"#f1b6da\"],[0.4,\"#fde0ef\"],[0.5,\"#f7f7f7\"],[0.6,\"#e6f5d0\"],[0.7,\"#b8e186\"],[0.8,\"#7fbc41\"],[0.9,\"#4d9221\"],[1,\"#276419\"]],\"sequential\":[[0.0,\"#0d0887\"],[0.1111111111111111,\"#46039f\"],[0.2222222222222222,\"#7201a8\"],[0.3333333333333333,\"#9c179e\"],[0.4444444444444444,\"#bd3786\"],[0.5555555555555556,\"#d8576b\"],[0.6666666666666666,\"#ed7953\"],[0.7777777777777778,\"#fb9f3a\"],[0.8888888888888888,\"#fdca26\"],[1.0,\"#f0f921\"]],\"sequentialminus\":[[0.0,\"#0d0887\"],[0.1111111111111111,\"#46039f\"],[0.2222222222222222,\"#7201a8\"],[0.3333333333333333,\"#9c179e\"],[0.4444444444444444,\"#bd3786\"],[0.5555555555555556,\"#d8576b\"],[0.6666666666666666,\"#ed7953\"],[0.7777777777777778,\"#fb9f3a\"],[0.8888888888888888,\"#fdca26\"],[1.0,\"#f0f921\"]]},\"colorway\":[\"#636efa\",\"#EF553B\",\"#00cc96\",\"#ab63fa\",\"#FFA15A\",\"#19d3f3\",\"#FF6692\",\"#B6E880\",\"#FF97FF\",\"#FECB52\"],\"font\":{\"color\":\"#2a3f5f\"},\"geo\":{\"bgcolor\":\"white\",\"lakecolor\":\"white\",\"landcolor\":\"#E5ECF6\",\"showlakes\":true,\"showland\":true,\"subunitcolor\":\"white\"},\"hoverlabel\":{\"align\":\"left\"},\"hovermode\":\"closest\",\"mapbox\":{\"style\":\"light\"},\"paper_bgcolor\":\"white\",\"plot_bgcolor\":\"#E5ECF6\",\"polar\":{\"angularaxis\":{\"gridcolor\":\"white\",\"linecolor\":\"white\",\"ticks\":\"\"},\"bgcolor\":\"#E5ECF6\",\"radialaxis\":{\"gridcolor\":\"white\",\"linecolor\":\"white\",\"ticks\":\"\"}},\"scene\":{\"xaxis\":{\"backgroundcolor\":\"#E5ECF6\",\"gridcolor\":\"white\",\"gridwidth\":2,\"linecolor\":\"white\",\"showbackground\":true,\"ticks\":\"\",\"zerolinecolor\":\"white\"},\"yaxis\":{\"backgroundcolor\":\"#E5ECF6\",\"gridcolor\":\"white\",\"gridwidth\":2,\"linecolor\":\"white\",\"showbackground\":true,\"ticks\":\"\",\"zerolinecolor\":\"white\"},\"zaxis\":{\"backgroundcolor\":\"#E5ECF6\",\"gridcolor\":\"white\",\"gridwidth\":2,\"linecolor\":\"white\",\"showbackground\":true,\"ticks\":\"\",\"zerolinecolor\":\"white\"}},\"shapedefaults\":{\"line\":{\"color\":\"#2a3f5f\"}},\"ternary\":{\"aaxis\":{\"gridcolor\":\"white\",\"linecolor\":\"white\",\"ticks\":\"\"},\"baxis\":{\"gridcolor\":\"white\",\"linecolor\":\"white\",\"ticks\":\"\"},\"bgcolor\":\"#E5ECF6\",\"caxis\":{\"gridcolor\":\"white\",\"linecolor\":\"white\",\"ticks\":\"\"}},\"title\":{\"x\":0.05},\"xaxis\":{\"automargin\":true,\"gridcolor\":\"white\",\"linecolor\":\"white\",\"ticks\":\"\",\"title\":{\"standoff\":15},\"zerolinecolor\":\"white\",\"zerolinewidth\":2},\"yaxis\":{\"automargin\":true,\"gridcolor\":\"white\",\"linecolor\":\"white\",\"ticks\":\"\",\"title\":{\"standoff\":15},\"zerolinecolor\":\"white\",\"zerolinewidth\":2}}},\"xaxis\":{\"anchor\":\"y\",\"domain\":[0.0,1.0],\"title\":{\"text\":\"\"}},\"yaxis\":{\"anchor\":\"x\",\"domain\":[0.0,1.0],\"title\":{\"text\":\"Importance\"}},\"legend\":{\"title\":{\"text\":\"variable\"},\"tracegroupgap\":0},\"margin\":{\"t\":60},\"title\":{\"text\":\"Evolution of Characters over the Books\",\"y\":0.95,\"x\":0.5,\"xanchor\":\"center\",\"yanchor\":\"top\"},\"height\":700,\"width\":1000},                        {\"responsive\": true}                    ).then(function(){\n",
       "                            \n",
       "var gd = document.getElementById('542614c0-0e75-43f1-ae2e-9277754ef64e');\n",
       "var x = new MutationObserver(function (mutations, observer) {{\n",
       "        var display = window.getComputedStyle(gd).display;\n",
       "        if (!display || display === 'none') {{\n",
       "            console.log([gd, 'removed!']);\n",
       "            Plotly.purge(gd);\n",
       "            observer.disconnect();\n",
       "        }}\n",
       "}});\n",
       "\n",
       "// Listen for the removal of the full notebook cells\n",
       "var notebookContainer = gd.closest('#notebook-container');\n",
       "if (notebookContainer) {{\n",
       "    x.observe(notebookContainer, {childList: true});\n",
       "}}\n",
       "\n",
       "// Listen for the clearing of the current output cell\n",
       "var outputEl = gd.closest('.output');\n",
       "if (outputEl) {{\n",
       "    x.observe(outputEl, {childList: true});\n",
       "}}\n",
       "\n",
       "                        })                };                });            </script>        </div>"
      ]
     },
     "metadata": {},
     "output_type": "display_data"
    }
   ],
   "source": [
    "character_list = [\"Harry\", \"Hermione\", \"Ron\", \"Voldemort\"]\n",
    "fig = px.line(df[character_list], markers=True) \n",
    "\n",
    "fig.update_layout(height=700,\n",
    "                  width=1000, \n",
    "                  xaxis_title=\"\",\n",
    "                  yaxis_title=\"Importance\",\n",
    "                  title={'text': \"Evolution of Characters over the Books\",\n",
    "                         'y': 0.95,\n",
    "                         'x': 0.5,\n",
    "                         'xanchor': 'center',\n",
    "                         'yanchor': 'top'})\n",
    "\n",
    "fig.show()"
   ]
  },
  {
   "cell_type": "code",
   "execution_count": 62,
   "id": "2ba32019-c6b9-4623-8879-95fe67acb214",
   "metadata": {},
   "outputs": [
    {
     "data": {
      "text/html": [
       "<div>\n",
       "<style scoped>\n",
       "    .dataframe tbody tr th:only-of-type {\n",
       "        vertical-align: middle;\n",
       "    }\n",
       "\n",
       "    .dataframe tbody tr th {\n",
       "        vertical-align: top;\n",
       "    }\n",
       "\n",
       "    .dataframe thead th {\n",
       "        text-align: right;\n",
       "    }\n",
       "</style>\n",
       "<table border=\"1\" class=\"dataframe\">\n",
       "  <thead>\n",
       "    <tr style=\"text-align: right;\">\n",
       "      <th></th>\n",
       "      <th>Unnamed: 0</th>\n",
       "      <th>Dumbledore</th>\n",
       "      <th>Voldemort</th>\n",
       "      <th>Godric</th>\n",
       "      <th>Albus</th>\n",
       "      <th>James</th>\n",
       "      <th>Harry</th>\n",
       "      <th>Hagrid</th>\n",
       "      <th>Dudley</th>\n",
       "      <th>Petunia</th>\n",
       "      <th>...</th>\n",
       "      <th>Xenophilius</th>\n",
       "      <th>Elphias</th>\n",
       "      <th>Bathilda</th>\n",
       "      <th>Albert</th>\n",
       "      <th>Dirk</th>\n",
       "      <th>Gornuk</th>\n",
       "      <th>Gellert</th>\n",
       "      <th>Scabior</th>\n",
       "      <th>Bogrod</th>\n",
       "      <th>Helena</th>\n",
       "    </tr>\n",
       "  </thead>\n",
       "  <tbody>\n",
       "    <tr>\n",
       "      <th>Philosopher's Stone</th>\n",
       "      <td>0</td>\n",
       "      <td>0.325581</td>\n",
       "      <td>0.186047</td>\n",
       "      <td>0.023256</td>\n",
       "      <td>0.046512</td>\n",
       "      <td>0.023256</td>\n",
       "      <td>0.883721</td>\n",
       "      <td>0.418605</td>\n",
       "      <td>0.209302</td>\n",
       "      <td>0.046512</td>\n",
       "      <td>...</td>\n",
       "      <td>NaN</td>\n",
       "      <td>NaN</td>\n",
       "      <td>NaN</td>\n",
       "      <td>NaN</td>\n",
       "      <td>NaN</td>\n",
       "      <td>NaN</td>\n",
       "      <td>NaN</td>\n",
       "      <td>NaN</td>\n",
       "      <td>NaN</td>\n",
       "      <td>NaN</td>\n",
       "    </tr>\n",
       "    <tr>\n",
       "      <th>Chamber of Secrets</th>\n",
       "      <td>1</td>\n",
       "      <td>0.333333</td>\n",
       "      <td>0.083333</td>\n",
       "      <td>NaN</td>\n",
       "      <td>0.041667</td>\n",
       "      <td>NaN</td>\n",
       "      <td>0.833333</td>\n",
       "      <td>0.354167</td>\n",
       "      <td>0.083333</td>\n",
       "      <td>0.083333</td>\n",
       "      <td>...</td>\n",
       "      <td>NaN</td>\n",
       "      <td>NaN</td>\n",
       "      <td>NaN</td>\n",
       "      <td>NaN</td>\n",
       "      <td>NaN</td>\n",
       "      <td>NaN</td>\n",
       "      <td>NaN</td>\n",
       "      <td>NaN</td>\n",
       "      <td>NaN</td>\n",
       "      <td>NaN</td>\n",
       "    </tr>\n",
       "    <tr>\n",
       "      <th>Prisoner of Azkaban</th>\n",
       "      <td>2</td>\n",
       "      <td>0.313725</td>\n",
       "      <td>0.176471</td>\n",
       "      <td>NaN</td>\n",
       "      <td>NaN</td>\n",
       "      <td>0.215686</td>\n",
       "      <td>0.941176</td>\n",
       "      <td>0.274510</td>\n",
       "      <td>0.078431</td>\n",
       "      <td>0.078431</td>\n",
       "      <td>...</td>\n",
       "      <td>NaN</td>\n",
       "      <td>NaN</td>\n",
       "      <td>NaN</td>\n",
       "      <td>NaN</td>\n",
       "      <td>NaN</td>\n",
       "      <td>NaN</td>\n",
       "      <td>NaN</td>\n",
       "      <td>NaN</td>\n",
       "      <td>NaN</td>\n",
       "      <td>NaN</td>\n",
       "    </tr>\n",
       "    <tr>\n",
       "      <th>Goblet of Fire</th>\n",
       "      <td>3</td>\n",
       "      <td>0.507463</td>\n",
       "      <td>0.253731</td>\n",
       "      <td>NaN</td>\n",
       "      <td>0.029851</td>\n",
       "      <td>NaN</td>\n",
       "      <td>0.805970</td>\n",
       "      <td>0.373134</td>\n",
       "      <td>0.104478</td>\n",
       "      <td>0.059701</td>\n",
       "      <td>...</td>\n",
       "      <td>NaN</td>\n",
       "      <td>NaN</td>\n",
       "      <td>NaN</td>\n",
       "      <td>NaN</td>\n",
       "      <td>NaN</td>\n",
       "      <td>NaN</td>\n",
       "      <td>NaN</td>\n",
       "      <td>NaN</td>\n",
       "      <td>NaN</td>\n",
       "      <td>NaN</td>\n",
       "    </tr>\n",
       "    <tr>\n",
       "      <th>Order of the Phoenix</th>\n",
       "      <td>4</td>\n",
       "      <td>0.460674</td>\n",
       "      <td>0.213483</td>\n",
       "      <td>NaN</td>\n",
       "      <td>NaN</td>\n",
       "      <td>0.089888</td>\n",
       "      <td>0.831461</td>\n",
       "      <td>0.303371</td>\n",
       "      <td>0.123596</td>\n",
       "      <td>0.044944</td>\n",
       "      <td>...</td>\n",
       "      <td>NaN</td>\n",
       "      <td>NaN</td>\n",
       "      <td>NaN</td>\n",
       "      <td>NaN</td>\n",
       "      <td>NaN</td>\n",
       "      <td>NaN</td>\n",
       "      <td>NaN</td>\n",
       "      <td>NaN</td>\n",
       "      <td>NaN</td>\n",
       "      <td>NaN</td>\n",
       "    </tr>\n",
       "    <tr>\n",
       "      <th>Half-Blood Prince</th>\n",
       "      <td>5</td>\n",
       "      <td>0.519481</td>\n",
       "      <td>0.259740</td>\n",
       "      <td>NaN</td>\n",
       "      <td>0.025974</td>\n",
       "      <td>0.051948</td>\n",
       "      <td>0.883117</td>\n",
       "      <td>0.259740</td>\n",
       "      <td>0.051948</td>\n",
       "      <td>0.038961</td>\n",
       "      <td>...</td>\n",
       "      <td>NaN</td>\n",
       "      <td>NaN</td>\n",
       "      <td>NaN</td>\n",
       "      <td>NaN</td>\n",
       "      <td>NaN</td>\n",
       "      <td>NaN</td>\n",
       "      <td>NaN</td>\n",
       "      <td>NaN</td>\n",
       "      <td>NaN</td>\n",
       "      <td>NaN</td>\n",
       "    </tr>\n",
       "    <tr>\n",
       "      <th>Deathly Hallows</th>\n",
       "      <td>6</td>\n",
       "      <td>0.422222</td>\n",
       "      <td>0.333333</td>\n",
       "      <td>0.100000</td>\n",
       "      <td>0.188889</td>\n",
       "      <td>0.133333</td>\n",
       "      <td>0.888889</td>\n",
       "      <td>0.222222</td>\n",
       "      <td>0.088889</td>\n",
       "      <td>0.088889</td>\n",
       "      <td>...</td>\n",
       "      <td>0.122222</td>\n",
       "      <td>0.055556</td>\n",
       "      <td>0.122222</td>\n",
       "      <td>0.033333</td>\n",
       "      <td>0.111111</td>\n",
       "      <td>0.077778</td>\n",
       "      <td>0.044444</td>\n",
       "      <td>0.055556</td>\n",
       "      <td>0.066667</td>\n",
       "      <td>0.011111</td>\n",
       "    </tr>\n",
       "  </tbody>\n",
       "</table>\n",
       "<p>7 rows × 151 columns</p>\n",
       "</div>"
      ],
      "text/plain": [
       "                      Unnamed: 0  Dumbledore  Voldemort    Godric     Albus  \\\n",
       "Philosopher's Stone            0    0.325581   0.186047  0.023256  0.046512   \n",
       "Chamber of Secrets             1    0.333333   0.083333       NaN  0.041667   \n",
       "Prisoner of Azkaban            2    0.313725   0.176471       NaN       NaN   \n",
       "Goblet of Fire                 3    0.507463   0.253731       NaN  0.029851   \n",
       "Order of the Phoenix           4    0.460674   0.213483       NaN       NaN   \n",
       "Half-Blood Prince              5    0.519481   0.259740       NaN  0.025974   \n",
       "Deathly Hallows                6    0.422222   0.333333  0.100000  0.188889   \n",
       "\n",
       "                         James     Harry    Hagrid    Dudley   Petunia  ...  \\\n",
       "Philosopher's Stone   0.023256  0.883721  0.418605  0.209302  0.046512  ...   \n",
       "Chamber of Secrets         NaN  0.833333  0.354167  0.083333  0.083333  ...   \n",
       "Prisoner of Azkaban   0.215686  0.941176  0.274510  0.078431  0.078431  ...   \n",
       "Goblet of Fire             NaN  0.805970  0.373134  0.104478  0.059701  ...   \n",
       "Order of the Phoenix  0.089888  0.831461  0.303371  0.123596  0.044944  ...   \n",
       "Half-Blood Prince     0.051948  0.883117  0.259740  0.051948  0.038961  ...   \n",
       "Deathly Hallows       0.133333  0.888889  0.222222  0.088889  0.088889  ...   \n",
       "\n",
       "                      Xenophilius   Elphias  Bathilda    Albert      Dirk  \\\n",
       "Philosopher's Stone           NaN       NaN       NaN       NaN       NaN   \n",
       "Chamber of Secrets            NaN       NaN       NaN       NaN       NaN   \n",
       "Prisoner of Azkaban           NaN       NaN       NaN       NaN       NaN   \n",
       "Goblet of Fire                NaN       NaN       NaN       NaN       NaN   \n",
       "Order of the Phoenix          NaN       NaN       NaN       NaN       NaN   \n",
       "Half-Blood Prince             NaN       NaN       NaN       NaN       NaN   \n",
       "Deathly Hallows          0.122222  0.055556  0.122222  0.033333  0.111111   \n",
       "\n",
       "                        Gornuk   Gellert   Scabior    Bogrod    Helena  \n",
       "Philosopher's Stone        NaN       NaN       NaN       NaN       NaN  \n",
       "Chamber of Secrets         NaN       NaN       NaN       NaN       NaN  \n",
       "Prisoner of Azkaban        NaN       NaN       NaN       NaN       NaN  \n",
       "Goblet of Fire             NaN       NaN       NaN       NaN       NaN  \n",
       "Order of the Phoenix       NaN       NaN       NaN       NaN       NaN  \n",
       "Half-Blood Prince          NaN       NaN       NaN       NaN       NaN  \n",
       "Deathly Hallows       0.077778  0.044444  0.055556  0.066667  0.011111  \n",
       "\n",
       "[7 rows x 151 columns]"
      ]
     },
     "execution_count": 62,
     "metadata": {},
     "output_type": "execute_result"
    }
   ],
   "source": [
    "df"
   ]
  },
  {
   "cell_type": "code",
   "execution_count": null,
   "id": "8c9922c1-87e1-44ef-8a3e-a9ce9b3dc4fd",
   "metadata": {},
   "outputs": [],
   "source": []
  }
 ],
 "metadata": {
  "kernelspec": {
   "display_name": "Python 3 (ipykernel)",
   "language": "python",
   "name": "python3"
  },
  "language_info": {
   "codemirror_mode": {
    "name": "ipython",
    "version": 3
   },
   "file_extension": ".py",
   "mimetype": "text/x-python",
   "name": "python",
   "nbconvert_exporter": "python",
   "pygments_lexer": "ipython3",
   "version": "3.10.0"
  }
 },
 "nbformat": 4,
 "nbformat_minor": 5
}
